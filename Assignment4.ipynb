{
 "cells": [
  {
   "cell_type": "code",
   "execution_count": 1,
   "id": "00acd281-9583-4744-860a-d181de21c7fe",
   "metadata": {},
   "outputs": [],
   "source": [
    "import pandas as pd\n",
    "import numpy as np\n",
    "import matplotlib.pyplot as plt"
   ]
  },
  {
   "cell_type": "code",
   "execution_count": 2,
   "id": "cf05db10-fd73-4bac-b039-265a4c38ee5d",
   "metadata": {},
   "outputs": [],
   "source": [
    "data=pd.read_csv(\"hotel_bookings.csv\")"
   ]
  },
  {
   "cell_type": "code",
   "execution_count": 3,
   "id": "ce76fa2f-a474-404a-bd9a-786864a03270",
   "metadata": {},
   "outputs": [
    {
     "data": {
      "text/html": [
       "<div>\n",
       "<style scoped>\n",
       "    .dataframe tbody tr th:only-of-type {\n",
       "        vertical-align: middle;\n",
       "    }\n",
       "\n",
       "    .dataframe tbody tr th {\n",
       "        vertical-align: top;\n",
       "    }\n",
       "\n",
       "    .dataframe thead th {\n",
       "        text-align: right;\n",
       "    }\n",
       "</style>\n",
       "<table border=\"1\" class=\"dataframe\">\n",
       "  <thead>\n",
       "    <tr style=\"text-align: right;\">\n",
       "      <th></th>\n",
       "      <th>hotel</th>\n",
       "      <th>is_canceled</th>\n",
       "      <th>lead_time</th>\n",
       "      <th>arrival_date_year</th>\n",
       "      <th>arrival_date_month</th>\n",
       "      <th>arrival_date_week_number</th>\n",
       "      <th>arrival_date_day_of_month</th>\n",
       "      <th>stays_in_weekend_nights</th>\n",
       "      <th>stays_in_week_nights</th>\n",
       "      <th>adults</th>\n",
       "      <th>...</th>\n",
       "      <th>deposit_type</th>\n",
       "      <th>agent</th>\n",
       "      <th>company</th>\n",
       "      <th>days_in_waiting_list</th>\n",
       "      <th>customer_type</th>\n",
       "      <th>adr</th>\n",
       "      <th>required_car_parking_spaces</th>\n",
       "      <th>total_of_special_requests</th>\n",
       "      <th>reservation_status</th>\n",
       "      <th>reservation_status_date</th>\n",
       "    </tr>\n",
       "  </thead>\n",
       "  <tbody>\n",
       "    <tr>\n",
       "      <th>0</th>\n",
       "      <td>Resort Hotel</td>\n",
       "      <td>0</td>\n",
       "      <td>342</td>\n",
       "      <td>2015</td>\n",
       "      <td>July</td>\n",
       "      <td>27</td>\n",
       "      <td>1</td>\n",
       "      <td>0</td>\n",
       "      <td>0</td>\n",
       "      <td>2.0</td>\n",
       "      <td>...</td>\n",
       "      <td>No Deposit</td>\n",
       "      <td>NaN</td>\n",
       "      <td>NaN</td>\n",
       "      <td>0</td>\n",
       "      <td>Transient</td>\n",
       "      <td>0.0</td>\n",
       "      <td>0</td>\n",
       "      <td>0</td>\n",
       "      <td>Check-Out</td>\n",
       "      <td>01/07/2015</td>\n",
       "    </tr>\n",
       "    <tr>\n",
       "      <th>1</th>\n",
       "      <td>Resort Hotel</td>\n",
       "      <td>0</td>\n",
       "      <td>737</td>\n",
       "      <td>2015</td>\n",
       "      <td>July</td>\n",
       "      <td>27</td>\n",
       "      <td>1</td>\n",
       "      <td>0</td>\n",
       "      <td>0</td>\n",
       "      <td>2.0</td>\n",
       "      <td>...</td>\n",
       "      <td>No Deposit</td>\n",
       "      <td>NaN</td>\n",
       "      <td>NaN</td>\n",
       "      <td>0</td>\n",
       "      <td>Transient</td>\n",
       "      <td>0.0</td>\n",
       "      <td>0</td>\n",
       "      <td>0</td>\n",
       "      <td>Check-Out</td>\n",
       "      <td>01/07/2015</td>\n",
       "    </tr>\n",
       "    <tr>\n",
       "      <th>2</th>\n",
       "      <td>Resort Hotel</td>\n",
       "      <td>0</td>\n",
       "      <td>7</td>\n",
       "      <td>2015</td>\n",
       "      <td>July</td>\n",
       "      <td>27</td>\n",
       "      <td>1</td>\n",
       "      <td>0</td>\n",
       "      <td>1</td>\n",
       "      <td>1.0</td>\n",
       "      <td>...</td>\n",
       "      <td>No Deposit</td>\n",
       "      <td>NaN</td>\n",
       "      <td>NaN</td>\n",
       "      <td>0</td>\n",
       "      <td>Transient</td>\n",
       "      <td>75.0</td>\n",
       "      <td>0</td>\n",
       "      <td>0</td>\n",
       "      <td>Check-Out</td>\n",
       "      <td>02/07/2015</td>\n",
       "    </tr>\n",
       "    <tr>\n",
       "      <th>3</th>\n",
       "      <td>Resort Hotel</td>\n",
       "      <td>0</td>\n",
       "      <td>13</td>\n",
       "      <td>2015</td>\n",
       "      <td>July</td>\n",
       "      <td>27</td>\n",
       "      <td>1</td>\n",
       "      <td>0</td>\n",
       "      <td>1</td>\n",
       "      <td>1.0</td>\n",
       "      <td>...</td>\n",
       "      <td>No Deposit</td>\n",
       "      <td>304.0</td>\n",
       "      <td>NaN</td>\n",
       "      <td>0</td>\n",
       "      <td>Transient</td>\n",
       "      <td>75.0</td>\n",
       "      <td>0</td>\n",
       "      <td>0</td>\n",
       "      <td>Check-Out</td>\n",
       "      <td>02/07/2015</td>\n",
       "    </tr>\n",
       "    <tr>\n",
       "      <th>4</th>\n",
       "      <td>Resort Hotel</td>\n",
       "      <td>0</td>\n",
       "      <td>14</td>\n",
       "      <td>2015</td>\n",
       "      <td>July</td>\n",
       "      <td>27</td>\n",
       "      <td>1</td>\n",
       "      <td>0</td>\n",
       "      <td>2</td>\n",
       "      <td>2.0</td>\n",
       "      <td>...</td>\n",
       "      <td>No Deposit</td>\n",
       "      <td>240.0</td>\n",
       "      <td>NaN</td>\n",
       "      <td>0</td>\n",
       "      <td>Transient</td>\n",
       "      <td>98.0</td>\n",
       "      <td>0</td>\n",
       "      <td>1</td>\n",
       "      <td>Check-Out</td>\n",
       "      <td>03/07/2015</td>\n",
       "    </tr>\n",
       "  </tbody>\n",
       "</table>\n",
       "<p>5 rows × 32 columns</p>\n",
       "</div>"
      ],
      "text/plain": [
       "          hotel  is_canceled  lead_time  arrival_date_year arrival_date_month  \\\n",
       "0  Resort Hotel            0        342               2015               July   \n",
       "1  Resort Hotel            0        737               2015               July   \n",
       "2  Resort Hotel            0          7               2015               July   \n",
       "3  Resort Hotel            0         13               2015               July   \n",
       "4  Resort Hotel            0         14               2015               July   \n",
       "\n",
       "   arrival_date_week_number  arrival_date_day_of_month  \\\n",
       "0                        27                          1   \n",
       "1                        27                          1   \n",
       "2                        27                          1   \n",
       "3                        27                          1   \n",
       "4                        27                          1   \n",
       "\n",
       "   stays_in_weekend_nights  stays_in_week_nights  adults  ...  deposit_type  \\\n",
       "0                        0                     0     2.0  ...    No Deposit   \n",
       "1                        0                     0     2.0  ...    No Deposit   \n",
       "2                        0                     1     1.0  ...    No Deposit   \n",
       "3                        0                     1     1.0  ...    No Deposit   \n",
       "4                        0                     2     2.0  ...    No Deposit   \n",
       "\n",
       "   agent company days_in_waiting_list customer_type   adr  \\\n",
       "0    NaN     NaN                    0     Transient   0.0   \n",
       "1    NaN     NaN                    0     Transient   0.0   \n",
       "2    NaN     NaN                    0     Transient  75.0   \n",
       "3  304.0     NaN                    0     Transient  75.0   \n",
       "4  240.0     NaN                    0     Transient  98.0   \n",
       "\n",
       "   required_car_parking_spaces  total_of_special_requests  reservation_status  \\\n",
       "0                            0                          0           Check-Out   \n",
       "1                            0                          0           Check-Out   \n",
       "2                            0                          0           Check-Out   \n",
       "3                            0                          0           Check-Out   \n",
       "4                            0                          1           Check-Out   \n",
       "\n",
       "  reservation_status_date  \n",
       "0              01/07/2015  \n",
       "1              01/07/2015  \n",
       "2              02/07/2015  \n",
       "3              02/07/2015  \n",
       "4              03/07/2015  \n",
       "\n",
       "[5 rows x 32 columns]"
      ]
     },
     "execution_count": 3,
     "metadata": {},
     "output_type": "execute_result"
    }
   ],
   "source": [
    "data.head(5)"
   ]
  },
  {
   "cell_type": "code",
   "execution_count": 4,
   "id": "53886e2c-5957-4a60-8aba-f122a905156b",
   "metadata": {},
   "outputs": [
    {
     "data": {
      "text/plain": [
       "hotel                                  0\n",
       "is_canceled                            0\n",
       "lead_time                              0\n",
       "arrival_date_year                      0\n",
       "arrival_date_month                     0\n",
       "arrival_date_week_number               0\n",
       "arrival_date_day_of_month              0\n",
       "stays_in_weekend_nights                0\n",
       "stays_in_week_nights                   0\n",
       "adults                                 1\n",
       "children                               4\n",
       "babies                                 0\n",
       "meal                                   0\n",
       "country                              507\n",
       "market_segment                         2\n",
       "distribution_channel                   1\n",
       "is_repeated_guest                      0\n",
       "previous_cancellations                 0\n",
       "previous_bookings_not_canceled         0\n",
       "reserved_room_type                     1\n",
       "assigned_room_type                     1\n",
       "booking_changes                        0\n",
       "deposit_type                          21\n",
       "agent                              16340\n",
       "company                           112593\n",
       "days_in_waiting_list                   0\n",
       "customer_type                         31\n",
       "adr                                    0\n",
       "required_car_parking_spaces            0\n",
       "total_of_special_requests              0\n",
       "reservation_status                     1\n",
       "reservation_status_date                0\n",
       "dtype: int64"
      ]
     },
     "execution_count": 4,
     "metadata": {},
     "output_type": "execute_result"
    }
   ],
   "source": [
    "data.isna().sum()"
   ]
  },
  {
   "cell_type": "markdown",
   "id": "4dbd474d-0baf-4e84-a2b3-0040acb5a9dd",
   "metadata": {},
   "source": [
    "### For handling empty data on adults column"
   ]
  },
  {
   "cell_type": "code",
   "execution_count": 5,
   "id": "1e987d6b-9676-40a0-85c1-44c42e47a9e9",
   "metadata": {},
   "outputs": [
    {
     "data": {
      "text/html": [
       "<div>\n",
       "<style scoped>\n",
       "    .dataframe tbody tr th:only-of-type {\n",
       "        vertical-align: middle;\n",
       "    }\n",
       "\n",
       "    .dataframe tbody tr th {\n",
       "        vertical-align: top;\n",
       "    }\n",
       "\n",
       "    .dataframe thead th {\n",
       "        text-align: right;\n",
       "    }\n",
       "</style>\n",
       "<table border=\"1\" class=\"dataframe\">\n",
       "  <thead>\n",
       "    <tr style=\"text-align: right;\">\n",
       "      <th></th>\n",
       "      <th>hotel</th>\n",
       "      <th>is_canceled</th>\n",
       "      <th>lead_time</th>\n",
       "      <th>arrival_date_year</th>\n",
       "      <th>arrival_date_month</th>\n",
       "      <th>arrival_date_week_number</th>\n",
       "      <th>arrival_date_day_of_month</th>\n",
       "      <th>stays_in_weekend_nights</th>\n",
       "      <th>stays_in_week_nights</th>\n",
       "      <th>adults</th>\n",
       "      <th>...</th>\n",
       "      <th>deposit_type</th>\n",
       "      <th>agent</th>\n",
       "      <th>company</th>\n",
       "      <th>days_in_waiting_list</th>\n",
       "      <th>customer_type</th>\n",
       "      <th>adr</th>\n",
       "      <th>required_car_parking_spaces</th>\n",
       "      <th>total_of_special_requests</th>\n",
       "      <th>reservation_status</th>\n",
       "      <th>reservation_status_date</th>\n",
       "    </tr>\n",
       "  </thead>\n",
       "  <tbody>\n",
       "    <tr>\n",
       "      <th>740</th>\n",
       "      <td>Resort Hotel</td>\n",
       "      <td>1</td>\n",
       "      <td>74</td>\n",
       "      <td>2015</td>\n",
       "      <td>July</td>\n",
       "      <td>31</td>\n",
       "      <td>27</td>\n",
       "      <td>1</td>\n",
       "      <td>3</td>\n",
       "      <td>NaN</td>\n",
       "      <td>...</td>\n",
       "      <td>No Deposit</td>\n",
       "      <td>171.0</td>\n",
       "      <td>NaN</td>\n",
       "      <td>0</td>\n",
       "      <td>Transient</td>\n",
       "      <td>107.0</td>\n",
       "      <td>0</td>\n",
       "      <td>1</td>\n",
       "      <td>Canceled</td>\n",
       "      <td>29/06/2015</td>\n",
       "    </tr>\n",
       "  </tbody>\n",
       "</table>\n",
       "<p>1 rows × 32 columns</p>\n",
       "</div>"
      ],
      "text/plain": [
       "            hotel  is_canceled  lead_time  arrival_date_year  \\\n",
       "740  Resort Hotel            1         74               2015   \n",
       "\n",
       "    arrival_date_month  arrival_date_week_number  arrival_date_day_of_month  \\\n",
       "740               July                        31                         27   \n",
       "\n",
       "     stays_in_weekend_nights  stays_in_week_nights  adults  ...  deposit_type  \\\n",
       "740                        1                     3     NaN  ...    No Deposit   \n",
       "\n",
       "     agent company days_in_waiting_list customer_type    adr  \\\n",
       "740  171.0     NaN                    0     Transient  107.0   \n",
       "\n",
       "     required_car_parking_spaces  total_of_special_requests  \\\n",
       "740                            0                          1   \n",
       "\n",
       "     reservation_status reservation_status_date  \n",
       "740            Canceled              29/06/2015  \n",
       "\n",
       "[1 rows x 32 columns]"
      ]
     },
     "execution_count": 5,
     "metadata": {},
     "output_type": "execute_result"
    }
   ],
   "source": [
    "empty_adults=data[data['adults'].isna()]\n",
    "empty_adults"
   ]
  },
  {
   "cell_type": "code",
   "execution_count": 6,
   "id": "0f2bf0ac-1bc0-41de-93c8-6d36f62bc4c0",
   "metadata": {},
   "outputs": [],
   "source": [
    "adults_median = data['adults'].median()\n",
    "data['adults_filled']=data['adults'].fillna(adults_median)"
   ]
  },
  {
   "cell_type": "code",
   "execution_count": 7,
   "id": "f0099def-29bf-4591-8549-515e09a587de",
   "metadata": {},
   "outputs": [
    {
     "data": {
      "text/plain": [
       "0"
      ]
     },
     "execution_count": 7,
     "metadata": {},
     "output_type": "execute_result"
    }
   ],
   "source": [
    "data['adults_filled'].isna().sum()"
   ]
  },
  {
   "cell_type": "markdown",
   "id": "b9a0ef12-e381-4882-a76b-068b6233c507",
   "metadata": {},
   "source": [
    "### For children"
   ]
  },
  {
   "cell_type": "code",
   "execution_count": 8,
   "id": "3cc37e34-6f20-4e4e-a3ed-1316921cc737",
   "metadata": {},
   "outputs": [
    {
     "data": {
      "text/plain": [
       "4"
      ]
     },
     "execution_count": 8,
     "metadata": {},
     "output_type": "execute_result"
    }
   ],
   "source": [
    "data['children'].isna().sum()"
   ]
  },
  {
   "cell_type": "code",
   "execution_count": 9,
   "id": "e892e38c-77ea-4159-8b97-5c2b4b9ad599",
   "metadata": {},
   "outputs": [
    {
     "data": {
      "text/plain": [
       "40600   NaN\n",
       "40667   NaN\n",
       "40679   NaN\n",
       "41160   NaN\n",
       "Name: children, dtype: float64"
      ]
     },
     "execution_count": 9,
     "metadata": {},
     "output_type": "execute_result"
    }
   ],
   "source": [
    "empty_children=data[data['children'].isna()]\n",
    "empty_children['children']"
   ]
  },
  {
   "cell_type": "code",
   "execution_count": 10,
   "id": "50f90ca5-34ba-4fbe-afef-94a15906c747",
   "metadata": {},
   "outputs": [
    {
     "data": {
      "text/plain": [
       "0.0"
      ]
     },
     "execution_count": 10,
     "metadata": {},
     "output_type": "execute_result"
    }
   ],
   "source": [
    "children_median = data['children'].median()\n",
    "children_median"
   ]
  },
  {
   "cell_type": "code",
   "execution_count": 11,
   "id": "e779e829-e62c-4b12-ab23-15e16756374a",
   "metadata": {},
   "outputs": [],
   "source": [
    "data['children_filled']=data['children'].fillna(children_median)"
   ]
  },
  {
   "cell_type": "code",
   "execution_count": 12,
   "id": "236dba2e-6f00-4f21-8733-dde995cb7bb9",
   "metadata": {},
   "outputs": [
    {
     "data": {
      "text/plain": [
       "0"
      ]
     },
     "execution_count": 12,
     "metadata": {},
     "output_type": "execute_result"
    }
   ],
   "source": [
    "data['children_filled'].isna().sum()"
   ]
  },
  {
   "cell_type": "code",
   "execution_count": 13,
   "id": "62302be8-4179-4638-a3ef-87ff6c6abfe2",
   "metadata": {},
   "outputs": [
    {
     "data": {
      "text/plain": [
       "0         0.0\n",
       "1         0.0\n",
       "2         0.0\n",
       "3         0.0\n",
       "4         0.0\n",
       "         ... \n",
       "119385    0.0\n",
       "119386    0.0\n",
       "119387    0.0\n",
       "119388    0.0\n",
       "119389    0.0\n",
       "Name: children_filled, Length: 119390, dtype: float64"
      ]
     },
     "execution_count": 13,
     "metadata": {},
     "output_type": "execute_result"
    }
   ],
   "source": [
    "data['children_filled']"
   ]
  },
  {
   "cell_type": "markdown",
   "id": "4fc43889-b2bf-4282-b89d-88c10bbfdd48",
   "metadata": {},
   "source": [
    "### For countries"
   ]
  },
  {
   "cell_type": "code",
   "execution_count": 14,
   "id": "a9de0350-c8b5-4872-b6c9-c2e3596e0d30",
   "metadata": {},
   "outputs": [
    {
     "data": {
      "text/plain": [
       "507"
      ]
     },
     "execution_count": 14,
     "metadata": {},
     "output_type": "execute_result"
    }
   ],
   "source": [
    "data['country'].isna().sum()"
   ]
  },
  {
   "cell_type": "code",
   "execution_count": 15,
   "id": "a63a6bd8-c6b6-467a-9d09-6e6fcc414406",
   "metadata": {},
   "outputs": [
    {
     "data": {
      "text/plain": [
       "'PRT'"
      ]
     },
     "execution_count": 15,
     "metadata": {},
     "output_type": "execute_result"
    }
   ],
   "source": [
    "mode_country = data['country'].mode()[0]\n",
    "mode_country"
   ]
  },
  {
   "cell_type": "code",
   "execution_count": 16,
   "id": "fe8322bf-eba1-436d-9bfc-f856f11886e0",
   "metadata": {},
   "outputs": [],
   "source": [
    "data['country_filled']=data['country'].fillna(mode_country)"
   ]
  },
  {
   "cell_type": "code",
   "execution_count": 17,
   "id": "6f1192d6-6887-4510-8180-24527afe65f2",
   "metadata": {},
   "outputs": [
    {
     "data": {
      "text/plain": [
       "0"
      ]
     },
     "execution_count": 17,
     "metadata": {},
     "output_type": "execute_result"
    }
   ],
   "source": [
    "data['country_filled'].isna().sum()"
   ]
  },
  {
   "cell_type": "markdown",
   "id": "935d51c4-d4fe-4113-8796-c32c3775e6fd",
   "metadata": {},
   "source": [
    "### For Market Segment"
   ]
  },
  {
   "cell_type": "code",
   "execution_count": 18,
   "id": "fc133aeb-cbf7-40ef-96f0-c1de0456eb11",
   "metadata": {},
   "outputs": [
    {
     "data": {
      "text/plain": [
       "0                Direct\n",
       "1                Direct\n",
       "2                Direct\n",
       "3             Corporate\n",
       "4             Online TA\n",
       "              ...      \n",
       "119385    Offline TA/TO\n",
       "119386        Online TA\n",
       "119387        Online TA\n",
       "119388        Online TA\n",
       "119389        Online TA\n",
       "Name: market_segment, Length: 119390, dtype: object"
      ]
     },
     "execution_count": 18,
     "metadata": {},
     "output_type": "execute_result"
    }
   ],
   "source": [
    "data['market_segment']"
   ]
  },
  {
   "cell_type": "code",
   "execution_count": 19,
   "id": "c18165a3-7e1d-447b-b123-975a5cf24b2d",
   "metadata": {},
   "outputs": [
    {
     "data": {
      "text/plain": [
       "'Online TA'"
      ]
     },
     "execution_count": 19,
     "metadata": {},
     "output_type": "execute_result"
    }
   ],
   "source": [
    "mode_market = data['market_segment'].mode()[0]\n",
    "mode_market"
   ]
  },
  {
   "cell_type": "code",
   "execution_count": 20,
   "id": "c08d2253-36c1-4bd0-b78d-7780e733fbf9",
   "metadata": {},
   "outputs": [
    {
     "data": {
      "text/plain": [
       "0                Direct\n",
       "1                Direct\n",
       "2                Direct\n",
       "3             Corporate\n",
       "4             Online TA\n",
       "              ...      \n",
       "119385    Offline TA/TO\n",
       "119386        Online TA\n",
       "119387        Online TA\n",
       "119388        Online TA\n",
       "119389        Online TA\n",
       "Name: market_segment_filled, Length: 119390, dtype: object"
      ]
     },
     "execution_count": 20,
     "metadata": {},
     "output_type": "execute_result"
    }
   ],
   "source": [
    "data['market_segment_filled']=data['market_segment'].fillna(mode_market)\n",
    "data['market_segment_filled']"
   ]
  },
  {
   "cell_type": "code",
   "execution_count": 21,
   "id": "e61a900f-ed6d-403e-b53a-7a65a79bc30c",
   "metadata": {},
   "outputs": [
    {
     "data": {
      "text/plain": [
       "0"
      ]
     },
     "execution_count": 21,
     "metadata": {},
     "output_type": "execute_result"
    }
   ],
   "source": [
    "data['market_segment_filled'].isna().sum()"
   ]
  },
  {
   "cell_type": "markdown",
   "id": "21ec12e7-b0f8-46f9-8284-495ae758932d",
   "metadata": {},
   "source": [
    "### For distribution channel"
   ]
  },
  {
   "cell_type": "code",
   "execution_count": 22,
   "id": "021efe7a-6e4f-4792-a28b-9bc44e07af13",
   "metadata": {},
   "outputs": [
    {
     "data": {
      "text/plain": [
       "0            Direct\n",
       "1            Direct\n",
       "2            Direct\n",
       "3         Corporate\n",
       "4             TA/TO\n",
       "            ...    \n",
       "119385        TA/TO\n",
       "119386        TA/TO\n",
       "119387        TA/TO\n",
       "119388        TA/TO\n",
       "119389        TA/TO\n",
       "Name: distribution_channel, Length: 119390, dtype: object"
      ]
     },
     "execution_count": 22,
     "metadata": {},
     "output_type": "execute_result"
    }
   ],
   "source": [
    "data['distribution_channel']"
   ]
  },
  {
   "cell_type": "code",
   "execution_count": 23,
   "id": "58692f0f-691a-4d2e-83a1-e22cc85d1df9",
   "metadata": {},
   "outputs": [
    {
     "data": {
      "text/plain": [
       "'TA/TO'"
      ]
     },
     "execution_count": 23,
     "metadata": {},
     "output_type": "execute_result"
    }
   ],
   "source": [
    "mode_channel = data['distribution_channel'].mode()[0]\n",
    "mode_channel"
   ]
  },
  {
   "cell_type": "code",
   "execution_count": 24,
   "id": "bf5088bd-8df2-4ecc-957b-871ad0af43af",
   "metadata": {},
   "outputs": [
    {
     "data": {
      "text/plain": [
       "0            Direct\n",
       "1            Direct\n",
       "2            Direct\n",
       "3         Corporate\n",
       "4             TA/TO\n",
       "            ...    \n",
       "119385        TA/TO\n",
       "119386        TA/TO\n",
       "119387        TA/TO\n",
       "119388        TA/TO\n",
       "119389        TA/TO\n",
       "Name: distribution_channel_filled, Length: 119390, dtype: object"
      ]
     },
     "execution_count": 24,
     "metadata": {},
     "output_type": "execute_result"
    }
   ],
   "source": [
    "data['distribution_channel_filled']=data['distribution_channel'].fillna(mode_channel)\n",
    "data['distribution_channel_filled']"
   ]
  },
  {
   "cell_type": "code",
   "execution_count": 25,
   "id": "613e95b8-4883-4e36-a98e-d2451207644b",
   "metadata": {},
   "outputs": [
    {
     "data": {
      "text/plain": [
       "0"
      ]
     },
     "execution_count": 25,
     "metadata": {},
     "output_type": "execute_result"
    }
   ],
   "source": [
    "data['distribution_channel_filled'].isna().sum()"
   ]
  },
  {
   "cell_type": "markdown",
   "id": "443f1428-5e60-497d-9dde-fedcfba657ae",
   "metadata": {},
   "source": [
    "### For reserved room type and assigned room type"
   ]
  },
  {
   "cell_type": "code",
   "execution_count": 26,
   "id": "1ab88e06-17e1-4b4b-b305-a80254cea223",
   "metadata": {},
   "outputs": [
    {
     "data": {
      "text/plain": [
       "0         C\n",
       "1         C\n",
       "2         A\n",
       "3         A\n",
       "4         A\n",
       "         ..\n",
       "119385    A\n",
       "119386    E\n",
       "119387    D\n",
       "119388    A\n",
       "119389    A\n",
       "Name: reserved_room_type, Length: 119390, dtype: object"
      ]
     },
     "execution_count": 26,
     "metadata": {},
     "output_type": "execute_result"
    }
   ],
   "source": [
    "data['reserved_room_type']"
   ]
  },
  {
   "cell_type": "code",
   "execution_count": 27,
   "id": "93fd56da-92ef-4f88-9fd9-26d032fc4088",
   "metadata": {},
   "outputs": [
    {
     "data": {
      "text/plain": [
       "0         C\n",
       "1         C\n",
       "2         C\n",
       "3         A\n",
       "4         A\n",
       "         ..\n",
       "119385    A\n",
       "119386    E\n",
       "119387    D\n",
       "119388    A\n",
       "119389    A\n",
       "Name: assigned_room_type, Length: 119390, dtype: object"
      ]
     },
     "execution_count": 27,
     "metadata": {},
     "output_type": "execute_result"
    }
   ],
   "source": [
    "data['assigned_room_type']"
   ]
  },
  {
   "cell_type": "code",
   "execution_count": 29,
   "id": "7111e5cd-d58b-4267-b742-2edf8321ed82",
   "metadata": {},
   "outputs": [
    {
     "data": {
      "text/plain": [
       "'A'"
      ]
     },
     "execution_count": 29,
     "metadata": {},
     "output_type": "execute_result"
    }
   ],
   "source": [
    "mode_reserved = data['reserved_room_type'].mode()[0]\n",
    "mode_reserved"
   ]
  },
  {
   "cell_type": "code",
   "execution_count": 30,
   "id": "bd6ae47e-4e66-4f36-95f4-8601e4effd99",
   "metadata": {},
   "outputs": [
    {
     "data": {
      "text/plain": [
       "'A'"
      ]
     },
     "execution_count": 30,
     "metadata": {},
     "output_type": "execute_result"
    }
   ],
   "source": [
    "mode_assigned = data['assigned_room_type'].mode()[0]\n",
    "mode_assigned"
   ]
  },
  {
   "cell_type": "code",
   "execution_count": 31,
   "id": "2f00a7a5-b4f8-4536-895d-7835aa63c0b3",
   "metadata": {},
   "outputs": [
    {
     "data": {
      "text/plain": [
       "0         C\n",
       "1         C\n",
       "2         A\n",
       "3         A\n",
       "4         A\n",
       "         ..\n",
       "119385    A\n",
       "119386    E\n",
       "119387    D\n",
       "119388    A\n",
       "119389    A\n",
       "Name: reserved_room_type_filled, Length: 119390, dtype: object"
      ]
     },
     "execution_count": 31,
     "metadata": {},
     "output_type": "execute_result"
    }
   ],
   "source": [
    "data['reserved_room_type_filled']=data['reserved_room_type'].fillna(mode_reserved)\n",
    "data['reserved_room_type_filled']"
   ]
  },
  {
   "cell_type": "code",
   "execution_count": 32,
   "id": "00ea0a3c-9481-44be-9721-3c75502004b4",
   "metadata": {},
   "outputs": [
    {
     "data": {
      "text/plain": [
       "0         C\n",
       "1         C\n",
       "2         C\n",
       "3         A\n",
       "4         A\n",
       "         ..\n",
       "119385    A\n",
       "119386    E\n",
       "119387    D\n",
       "119388    A\n",
       "119389    A\n",
       "Name: assigned_room_type_filled, Length: 119390, dtype: object"
      ]
     },
     "execution_count": 32,
     "metadata": {},
     "output_type": "execute_result"
    }
   ],
   "source": [
    "data['assigned_room_type_filled']=data['assigned_room_type'].fillna(mode_assigned)\n",
    "data['assigned_room_type_filled']"
   ]
  },
  {
   "cell_type": "code",
   "execution_count": 33,
   "id": "0a970cc8-60bf-438f-8a51-523a30262ce5",
   "metadata": {},
   "outputs": [
    {
     "data": {
      "text/plain": [
       "0"
      ]
     },
     "execution_count": 33,
     "metadata": {},
     "output_type": "execute_result"
    }
   ],
   "source": [
    "data['reserved_room_type_filled'].isna().sum()"
   ]
  },
  {
   "cell_type": "code",
   "execution_count": 34,
   "id": "b7ccc878-bca5-45e9-8212-c97d93ced838",
   "metadata": {},
   "outputs": [
    {
     "data": {
      "text/plain": [
       "0"
      ]
     },
     "execution_count": 34,
     "metadata": {},
     "output_type": "execute_result"
    }
   ],
   "source": [
    "data['assigned_room_type_filled'].isna().sum()"
   ]
  },
  {
   "cell_type": "code",
   "execution_count": 99,
   "id": "694f7031-aac7-46d3-86fc-359aef2865c5",
   "metadata": {},
   "outputs": [],
   "source": [
    "data.to_csv('hotel_bookings_modifieddd.csv', index=False)"
   ]
  },
  {
   "cell_type": "markdown",
   "id": "2cf74a4c-afbb-4f6a-93c7-59be7f077ef7",
   "metadata": {},
   "source": [
    "### For deposit type"
   ]
  },
  {
   "cell_type": "code",
   "execution_count": 35,
   "id": "87633730-70fb-4229-9ccc-513cbbd98bf3",
   "metadata": {},
   "outputs": [
    {
     "data": {
      "text/plain": [
       "0         No Deposit\n",
       "1         No Deposit\n",
       "2         No Deposit\n",
       "3         No Deposit\n",
       "4         No Deposit\n",
       "             ...    \n",
       "119385    No Deposit\n",
       "119386    No Deposit\n",
       "119387    No Deposit\n",
       "119388    No Deposit\n",
       "119389    No Deposit\n",
       "Name: deposit_type, Length: 119390, dtype: object"
      ]
     },
     "execution_count": 35,
     "metadata": {},
     "output_type": "execute_result"
    }
   ],
   "source": [
    "data['deposit_type']"
   ]
  },
  {
   "cell_type": "code",
   "execution_count": 36,
   "id": "8907af51-3647-4764-88e7-1edebc824902",
   "metadata": {},
   "outputs": [
    {
     "data": {
      "text/plain": [
       "21"
      ]
     },
     "execution_count": 36,
     "metadata": {},
     "output_type": "execute_result"
    }
   ],
   "source": [
    "data['deposit_type'].isna().sum()"
   ]
  },
  {
   "cell_type": "code",
   "execution_count": 37,
   "id": "799beb51-abfa-47a6-baad-2a58345a49ce",
   "metadata": {},
   "outputs": [
    {
     "data": {
      "text/plain": [
       "'No Deposit'"
      ]
     },
     "execution_count": 37,
     "metadata": {},
     "output_type": "execute_result"
    }
   ],
   "source": [
    "mode_deposit = data['deposit_type'].mode()[0]\n",
    "mode_deposit"
   ]
  },
  {
   "cell_type": "code",
   "execution_count": 38,
   "id": "5b1496dd-076c-4a54-8d41-844e00657dac",
   "metadata": {},
   "outputs": [
    {
     "data": {
      "text/plain": [
       "0         No Deposit\n",
       "1         No Deposit\n",
       "2         No Deposit\n",
       "3         No Deposit\n",
       "4         No Deposit\n",
       "             ...    \n",
       "119385    No Deposit\n",
       "119386    No Deposit\n",
       "119387    No Deposit\n",
       "119388    No Deposit\n",
       "119389    No Deposit\n",
       "Name: deposit_type_filled, Length: 119390, dtype: object"
      ]
     },
     "execution_count": 38,
     "metadata": {},
     "output_type": "execute_result"
    }
   ],
   "source": [
    "data['deposit_type_filled']=data['deposit_type'].fillna(mode_deposit)\n",
    "data['deposit_type_filled']"
   ]
  },
  {
   "cell_type": "code",
   "execution_count": 39,
   "id": "f8bbf7eb-e3dd-41d1-b6cd-1ae7b81b88ca",
   "metadata": {},
   "outputs": [
    {
     "data": {
      "text/plain": [
       "0"
      ]
     },
     "execution_count": 39,
     "metadata": {},
     "output_type": "execute_result"
    }
   ],
   "source": [
    "data['deposit_type_filled'].isna().sum()"
   ]
  },
  {
   "cell_type": "markdown",
   "id": "df346a0e-90d8-467c-8c87-9093630853d8",
   "metadata": {},
   "source": [
    "### For agent and company"
   ]
  },
  {
   "cell_type": "code",
   "execution_count": 40,
   "id": "942fa68b-1676-4009-9a72-00010a88f655",
   "metadata": {},
   "outputs": [
    {
     "data": {
      "text/plain": [
       "0           NaN\n",
       "1           NaN\n",
       "2           NaN\n",
       "3         304.0\n",
       "4         240.0\n",
       "          ...  \n",
       "119385    394.0\n",
       "119386      9.0\n",
       "119387      9.0\n",
       "119388     89.0\n",
       "119389      9.0\n",
       "Name: agent, Length: 119390, dtype: float64"
      ]
     },
     "execution_count": 40,
     "metadata": {},
     "output_type": "execute_result"
    }
   ],
   "source": [
    "data['agent']"
   ]
  },
  {
   "cell_type": "code",
   "execution_count": 41,
   "id": "e35f5faf-8162-4f26-95f7-3a5055a51c2b",
   "metadata": {},
   "outputs": [
    {
     "data": {
      "text/plain": [
       "0        NaN\n",
       "1        NaN\n",
       "2        NaN\n",
       "3        NaN\n",
       "4        NaN\n",
       "          ..\n",
       "119385   NaN\n",
       "119386   NaN\n",
       "119387   NaN\n",
       "119388   NaN\n",
       "119389   NaN\n",
       "Name: company, Length: 119390, dtype: float64"
      ]
     },
     "execution_count": 41,
     "metadata": {},
     "output_type": "execute_result"
    }
   ],
   "source": [
    "data['company']"
   ]
  },
  {
   "cell_type": "code",
   "execution_count": 42,
   "id": "637b68cb-8ff4-4cf7-b322-85dc0703ac1f",
   "metadata": {},
   "outputs": [],
   "source": [
    "# Let 0 be undefined ids of agent and company\n",
    "data['agent_filled']=data['agent'].fillna(0)\n",
    "data['company_filled']=data['company'].fillna(0)"
   ]
  },
  {
   "cell_type": "code",
   "execution_count": 43,
   "id": "2264fd2c-3004-4fdb-a22b-72d624fc431d",
   "metadata": {},
   "outputs": [
    {
     "data": {
      "text/plain": [
       "0"
      ]
     },
     "execution_count": 43,
     "metadata": {},
     "output_type": "execute_result"
    }
   ],
   "source": [
    "data['agent_filled'].isna().sum()"
   ]
  },
  {
   "cell_type": "code",
   "execution_count": 44,
   "id": "3cf47235-d16a-4b70-87af-5184cd9b7499",
   "metadata": {},
   "outputs": [
    {
     "data": {
      "text/plain": [
       "0"
      ]
     },
     "execution_count": 44,
     "metadata": {},
     "output_type": "execute_result"
    }
   ],
   "source": [
    "data['company_filled'].isna().sum()"
   ]
  },
  {
   "cell_type": "markdown",
   "id": "84810ff9-57e1-46a4-bba4-339964f03b39",
   "metadata": {},
   "source": [
    "### For customer type"
   ]
  },
  {
   "cell_type": "code",
   "execution_count": 45,
   "id": "13236e16-08cb-4904-bc61-65a213ca6c29",
   "metadata": {},
   "outputs": [
    {
     "data": {
      "text/plain": [
       "0         Transient\n",
       "1         Transient\n",
       "2         Transient\n",
       "3         Transient\n",
       "4         Transient\n",
       "            ...    \n",
       "119385    Transient\n",
       "119386    Transient\n",
       "119387    Transient\n",
       "119388    Transient\n",
       "119389    Transient\n",
       "Name: customer_type, Length: 119390, dtype: object"
      ]
     },
     "execution_count": 45,
     "metadata": {},
     "output_type": "execute_result"
    }
   ],
   "source": [
    "data['customer_type']"
   ]
  },
  {
   "cell_type": "code",
   "execution_count": 46,
   "id": "a9c92cbe-ee9f-486f-ab3a-0be08290ccf4",
   "metadata": {},
   "outputs": [
    {
     "data": {
      "text/plain": [
       "0"
      ]
     },
     "execution_count": 46,
     "metadata": {},
     "output_type": "execute_result"
    }
   ],
   "source": [
    "mode_customer = data['customer_type'].mode()[0]\n",
    "data['customer_type_filled']=data['customer_type'].fillna(mode_customer)\n",
    "data['customer_type_filled'].isna().sum()"
   ]
  },
  {
   "cell_type": "markdown",
   "id": "500edc02-03e5-4762-bc40-4aec12b95ff9",
   "metadata": {},
   "source": [
    "### For Reservation status"
   ]
  },
  {
   "cell_type": "code",
   "execution_count": 47,
   "id": "eab1a797-03d4-40a4-9f58-506c27cbd9af",
   "metadata": {},
   "outputs": [
    {
     "data": {
      "text/plain": [
       "0         Check-Out\n",
       "1         Check-Out\n",
       "2         Check-Out\n",
       "3         Check-Out\n",
       "4         Check-Out\n",
       "            ...    \n",
       "119385    Check-Out\n",
       "119386    Check-Out\n",
       "119387    Check-Out\n",
       "119388    Check-Out\n",
       "119389    Check-Out\n",
       "Name: reservation_status, Length: 119390, dtype: object"
      ]
     },
     "execution_count": 47,
     "metadata": {},
     "output_type": "execute_result"
    }
   ],
   "source": [
    "data['reservation_status']"
   ]
  },
  {
   "cell_type": "code",
   "execution_count": 48,
   "id": "cbdd119a-adab-40b0-99aa-c13b62a3dfb5",
   "metadata": {},
   "outputs": [
    {
     "data": {
      "text/plain": [
       "1"
      ]
     },
     "execution_count": 48,
     "metadata": {},
     "output_type": "execute_result"
    }
   ],
   "source": [
    "data['reservation_status'].isna().sum()"
   ]
  },
  {
   "cell_type": "code",
   "execution_count": 49,
   "id": "554128a6-c50a-4c08-8b68-85b8f6b5f8b8",
   "metadata": {},
   "outputs": [],
   "source": [
    "data.dropna(subset=['reservation_status'], inplace=True)"
   ]
  },
  {
   "cell_type": "code",
   "execution_count": 50,
   "id": "d57797e5-8d92-4ed6-a781-dff7a6a5ef71",
   "metadata": {},
   "outputs": [
    {
     "data": {
      "text/plain": [
       "0"
      ]
     },
     "execution_count": 50,
     "metadata": {},
     "output_type": "execute_result"
    }
   ],
   "source": [
    "data['reservation_status'].isna().sum()"
   ]
  },
  {
   "cell_type": "markdown",
   "id": "08e3545c-e5f3-4006-a74f-1be7c44f4fb7",
   "metadata": {},
   "source": [
    "### Marks the ending of filling null values and imputation "
   ]
  },
  {
   "cell_type": "markdown",
   "id": "f03ba1e9-7e7f-4a65-a466-c6778735082e",
   "metadata": {},
   "source": [
    "### 2. Descriptive Status"
   ]
  },
  {
   "cell_type": "markdown",
   "id": "05ca6e9b-6198-4549-84dd-91cdb64cddcb",
   "metadata": {},
   "source": [
    "Calculate summary statistics (mean, median, mode, standard deviation, etc.) for\n",
    "numerical columns like lead_time, stays_in_weekend_nights,\n",
    "stays_in_week_nights, adults, children, babies, previous_cancellations,\n",
    "previous_bookings_not_canceled, days_in_waiting_list, adr,\n",
    "required_car_parking_spaces, and total_of_special_requests."
   ]
  },
  {
   "cell_type": "code",
   "execution_count": 51,
   "id": "d630b417-bca2-4dee-9040-186cc870baaa",
   "metadata": {},
   "outputs": [
    {
     "name": "stdout",
     "output_type": "stream",
     "text": [
      "The mean value of lead_time is:  104.0113410783238\n",
      "The median value is:  69.0\n",
      "The mode value is:  0\n",
      "\n",
      "\n",
      "The mean value of stays_in_weekend_nights is:  0.9275896439370461\n",
      "The median value is:  1.0\n",
      "The mode value is:  0\n",
      "\n",
      "\n",
      "The mean value of lead_time is:  2.5002722193836955\n",
      "The median value is:  2.0\n",
      "The mode value is:  2\n"
     ]
    }
   ],
   "source": [
    "# Calculation of mean,median,mode,sd of the following columns.\n",
    "# a. Lead_time\n",
    "lead_time_mean = data['lead_time'].mean()\n",
    "print(f\"The mean value of lead_time is: \",lead_time_mean)\n",
    "\n",
    "lead_time_median = data['lead_time'].median()\n",
    "print(\"The median value is: \",lead_time_median)\n",
    "\n",
    "lead_time_mode = data['lead_time'].mode()[0]\n",
    "print(\"The mode value is: \",lead_time_mode)\n",
    "\n",
    "# b. Stays_in_weekend_nights\n",
    "print(\"\\n\")\n",
    "stays_in_weekend_nights_mean = data['stays_in_weekend_nights'].mean()\n",
    "print(f\"The mean value of stays_in_weekend_nights is: \",stays_in_weekend_nights_mean)\n",
    "\n",
    "stays_in_weekend_nights_median = data['stays_in_weekend_nights'].median()\n",
    "print(\"The median value is: \",stays_in_weekend_nights_median)\n",
    "\n",
    "stays_in_weekend_nights_mode = data['stays_in_weekend_nights'].mode()[0]\n",
    "print(\"The mode value is: \",stays_in_weekend_nights_mode)\n",
    "\n",
    "# c. Stays_in_week_nights\n",
    "print(\"\\n\")\n",
    "stays_in_week_nights_mean = data['stays_in_week_nights'].mean()\n",
    "print(f\"The mean value of lead_time is: \",stays_in_week_nights_mean)\n",
    "\n",
    "stays_in_week_nights_median = data['stays_in_week_nights'].median()\n",
    "print(\"The median value is: \",stays_in_week_nights_median)\n",
    "\n",
    "stays_in_week_nights_mode = data['stays_in_week_nights'].mode()[0]\n",
    "print(\"The mode value is: \",stays_in_week_nights_mode)"
   ]
  },
  {
   "cell_type": "code",
   "execution_count": 52,
   "id": "f88bcd48-54f5-42b7-b1f9-b98543d2457f",
   "metadata": {},
   "outputs": [
    {
     "data": {
      "text/html": [
       "<div>\n",
       "<style scoped>\n",
       "    .dataframe tbody tr th:only-of-type {\n",
       "        vertical-align: middle;\n",
       "    }\n",
       "\n",
       "    .dataframe tbody tr th {\n",
       "        vertical-align: top;\n",
       "    }\n",
       "\n",
       "    .dataframe thead th {\n",
       "        text-align: right;\n",
       "    }\n",
       "</style>\n",
       "<table border=\"1\" class=\"dataframe\">\n",
       "  <thead>\n",
       "    <tr style=\"text-align: right;\">\n",
       "      <th></th>\n",
       "      <th>is_canceled</th>\n",
       "      <th>lead_time</th>\n",
       "      <th>arrival_date_year</th>\n",
       "      <th>arrival_date_week_number</th>\n",
       "      <th>arrival_date_day_of_month</th>\n",
       "      <th>stays_in_weekend_nights</th>\n",
       "      <th>stays_in_week_nights</th>\n",
       "      <th>adults</th>\n",
       "      <th>children</th>\n",
       "      <th>babies</th>\n",
       "      <th>...</th>\n",
       "      <th>agent</th>\n",
       "      <th>company</th>\n",
       "      <th>days_in_waiting_list</th>\n",
       "      <th>adr</th>\n",
       "      <th>required_car_parking_spaces</th>\n",
       "      <th>total_of_special_requests</th>\n",
       "      <th>adults_filled</th>\n",
       "      <th>children_filled</th>\n",
       "      <th>agent_filled</th>\n",
       "      <th>company_filled</th>\n",
       "    </tr>\n",
       "  </thead>\n",
       "  <tbody>\n",
       "    <tr>\n",
       "      <th>count</th>\n",
       "      <td>119389.000000</td>\n",
       "      <td>119389.000000</td>\n",
       "      <td>119389.000000</td>\n",
       "      <td>119389.000000</td>\n",
       "      <td>119389.000000</td>\n",
       "      <td>119389.000000</td>\n",
       "      <td>119389.000000</td>\n",
       "      <td>119388.000000</td>\n",
       "      <td>119385.000000</td>\n",
       "      <td>119389.000000</td>\n",
       "      <td>...</td>\n",
       "      <td>103049.000000</td>\n",
       "      <td>6797.000000</td>\n",
       "      <td>119389.000000</td>\n",
       "      <td>119389.000000</td>\n",
       "      <td>119389.000000</td>\n",
       "      <td>119389.000000</td>\n",
       "      <td>119389.000000</td>\n",
       "      <td>119389.000000</td>\n",
       "      <td>119389.000000</td>\n",
       "      <td>119389.000000</td>\n",
       "    </tr>\n",
       "    <tr>\n",
       "      <th>mean</th>\n",
       "      <td>0.370419</td>\n",
       "      <td>104.011341</td>\n",
       "      <td>2016.156564</td>\n",
       "      <td>27.165158</td>\n",
       "      <td>15.798239</td>\n",
       "      <td>0.927590</td>\n",
       "      <td>2.500272</td>\n",
       "      <td>1.856401</td>\n",
       "      <td>0.103891</td>\n",
       "      <td>0.007949</td>\n",
       "      <td>...</td>\n",
       "      <td>86.693573</td>\n",
       "      <td>189.266735</td>\n",
       "      <td>2.321169</td>\n",
       "      <td>101.831168</td>\n",
       "      <td>0.062518</td>\n",
       "      <td>0.571368</td>\n",
       "      <td>1.856402</td>\n",
       "      <td>0.103887</td>\n",
       "      <td>74.828385</td>\n",
       "      <td>10.775247</td>\n",
       "    </tr>\n",
       "    <tr>\n",
       "      <th>std</th>\n",
       "      <td>0.482919</td>\n",
       "      <td>106.863541</td>\n",
       "      <td>0.707471</td>\n",
       "      <td>13.605194</td>\n",
       "      <td>8.780866</td>\n",
       "      <td>0.998613</td>\n",
       "      <td>1.908267</td>\n",
       "      <td>0.579266</td>\n",
       "      <td>0.398563</td>\n",
       "      <td>0.097437</td>\n",
       "      <td>...</td>\n",
       "      <td>110.775068</td>\n",
       "      <td>131.655015</td>\n",
       "      <td>17.594793</td>\n",
       "      <td>50.535999</td>\n",
       "      <td>0.245292</td>\n",
       "      <td>0.792800</td>\n",
       "      <td>0.579263</td>\n",
       "      <td>0.398557</td>\n",
       "      <td>107.142399</td>\n",
       "      <td>53.944101</td>\n",
       "    </tr>\n",
       "    <tr>\n",
       "      <th>min</th>\n",
       "      <td>0.000000</td>\n",
       "      <td>0.000000</td>\n",
       "      <td>2015.000000</td>\n",
       "      <td>1.000000</td>\n",
       "      <td>1.000000</td>\n",
       "      <td>0.000000</td>\n",
       "      <td>0.000000</td>\n",
       "      <td>0.000000</td>\n",
       "      <td>0.000000</td>\n",
       "      <td>0.000000</td>\n",
       "      <td>...</td>\n",
       "      <td>1.000000</td>\n",
       "      <td>6.000000</td>\n",
       "      <td>0.000000</td>\n",
       "      <td>-6.380000</td>\n",
       "      <td>0.000000</td>\n",
       "      <td>0.000000</td>\n",
       "      <td>0.000000</td>\n",
       "      <td>0.000000</td>\n",
       "      <td>0.000000</td>\n",
       "      <td>0.000000</td>\n",
       "    </tr>\n",
       "    <tr>\n",
       "      <th>25%</th>\n",
       "      <td>0.000000</td>\n",
       "      <td>18.000000</td>\n",
       "      <td>2016.000000</td>\n",
       "      <td>16.000000</td>\n",
       "      <td>8.000000</td>\n",
       "      <td>0.000000</td>\n",
       "      <td>1.000000</td>\n",
       "      <td>2.000000</td>\n",
       "      <td>0.000000</td>\n",
       "      <td>0.000000</td>\n",
       "      <td>...</td>\n",
       "      <td>9.000000</td>\n",
       "      <td>62.000000</td>\n",
       "      <td>0.000000</td>\n",
       "      <td>69.290000</td>\n",
       "      <td>0.000000</td>\n",
       "      <td>0.000000</td>\n",
       "      <td>2.000000</td>\n",
       "      <td>0.000000</td>\n",
       "      <td>7.000000</td>\n",
       "      <td>0.000000</td>\n",
       "    </tr>\n",
       "    <tr>\n",
       "      <th>50%</th>\n",
       "      <td>0.000000</td>\n",
       "      <td>69.000000</td>\n",
       "      <td>2016.000000</td>\n",
       "      <td>28.000000</td>\n",
       "      <td>16.000000</td>\n",
       "      <td>1.000000</td>\n",
       "      <td>2.000000</td>\n",
       "      <td>2.000000</td>\n",
       "      <td>0.000000</td>\n",
       "      <td>0.000000</td>\n",
       "      <td>...</td>\n",
       "      <td>14.000000</td>\n",
       "      <td>179.000000</td>\n",
       "      <td>0.000000</td>\n",
       "      <td>94.560000</td>\n",
       "      <td>0.000000</td>\n",
       "      <td>0.000000</td>\n",
       "      <td>2.000000</td>\n",
       "      <td>0.000000</td>\n",
       "      <td>9.000000</td>\n",
       "      <td>0.000000</td>\n",
       "    </tr>\n",
       "    <tr>\n",
       "      <th>75%</th>\n",
       "      <td>1.000000</td>\n",
       "      <td>160.000000</td>\n",
       "      <td>2017.000000</td>\n",
       "      <td>38.000000</td>\n",
       "      <td>23.000000</td>\n",
       "      <td>2.000000</td>\n",
       "      <td>3.000000</td>\n",
       "      <td>2.000000</td>\n",
       "      <td>0.000000</td>\n",
       "      <td>0.000000</td>\n",
       "      <td>...</td>\n",
       "      <td>229.000000</td>\n",
       "      <td>270.000000</td>\n",
       "      <td>0.000000</td>\n",
       "      <td>126.000000</td>\n",
       "      <td>0.000000</td>\n",
       "      <td>1.000000</td>\n",
       "      <td>2.000000</td>\n",
       "      <td>0.000000</td>\n",
       "      <td>152.000000</td>\n",
       "      <td>0.000000</td>\n",
       "    </tr>\n",
       "    <tr>\n",
       "      <th>max</th>\n",
       "      <td>1.000000</td>\n",
       "      <td>737.000000</td>\n",
       "      <td>2017.000000</td>\n",
       "      <td>53.000000</td>\n",
       "      <td>31.000000</td>\n",
       "      <td>19.000000</td>\n",
       "      <td>50.000000</td>\n",
       "      <td>55.000000</td>\n",
       "      <td>10.000000</td>\n",
       "      <td>10.000000</td>\n",
       "      <td>...</td>\n",
       "      <td>535.000000</td>\n",
       "      <td>543.000000</td>\n",
       "      <td>391.000000</td>\n",
       "      <td>5400.000000</td>\n",
       "      <td>8.000000</td>\n",
       "      <td>5.000000</td>\n",
       "      <td>55.000000</td>\n",
       "      <td>10.000000</td>\n",
       "      <td>535.000000</td>\n",
       "      <td>543.000000</td>\n",
       "    </tr>\n",
       "  </tbody>\n",
       "</table>\n",
       "<p>8 rows × 24 columns</p>\n",
       "</div>"
      ],
      "text/plain": [
       "         is_canceled      lead_time  arrival_date_year  \\\n",
       "count  119389.000000  119389.000000      119389.000000   \n",
       "mean        0.370419     104.011341        2016.156564   \n",
       "std         0.482919     106.863541           0.707471   \n",
       "min         0.000000       0.000000        2015.000000   \n",
       "25%         0.000000      18.000000        2016.000000   \n",
       "50%         0.000000      69.000000        2016.000000   \n",
       "75%         1.000000     160.000000        2017.000000   \n",
       "max         1.000000     737.000000        2017.000000   \n",
       "\n",
       "       arrival_date_week_number  arrival_date_day_of_month  \\\n",
       "count             119389.000000              119389.000000   \n",
       "mean                  27.165158                  15.798239   \n",
       "std                   13.605194                   8.780866   \n",
       "min                    1.000000                   1.000000   \n",
       "25%                   16.000000                   8.000000   \n",
       "50%                   28.000000                  16.000000   \n",
       "75%                   38.000000                  23.000000   \n",
       "max                   53.000000                  31.000000   \n",
       "\n",
       "       stays_in_weekend_nights  stays_in_week_nights         adults  \\\n",
       "count            119389.000000         119389.000000  119388.000000   \n",
       "mean                  0.927590              2.500272       1.856401   \n",
       "std                   0.998613              1.908267       0.579266   \n",
       "min                   0.000000              0.000000       0.000000   \n",
       "25%                   0.000000              1.000000       2.000000   \n",
       "50%                   1.000000              2.000000       2.000000   \n",
       "75%                   2.000000              3.000000       2.000000   \n",
       "max                  19.000000             50.000000      55.000000   \n",
       "\n",
       "            children         babies  ...          agent      company  \\\n",
       "count  119385.000000  119389.000000  ...  103049.000000  6797.000000   \n",
       "mean        0.103891       0.007949  ...      86.693573   189.266735   \n",
       "std         0.398563       0.097437  ...     110.775068   131.655015   \n",
       "min         0.000000       0.000000  ...       1.000000     6.000000   \n",
       "25%         0.000000       0.000000  ...       9.000000    62.000000   \n",
       "50%         0.000000       0.000000  ...      14.000000   179.000000   \n",
       "75%         0.000000       0.000000  ...     229.000000   270.000000   \n",
       "max        10.000000      10.000000  ...     535.000000   543.000000   \n",
       "\n",
       "       days_in_waiting_list            adr  required_car_parking_spaces  \\\n",
       "count         119389.000000  119389.000000                119389.000000   \n",
       "mean               2.321169     101.831168                     0.062518   \n",
       "std               17.594793      50.535999                     0.245292   \n",
       "min                0.000000      -6.380000                     0.000000   \n",
       "25%                0.000000      69.290000                     0.000000   \n",
       "50%                0.000000      94.560000                     0.000000   \n",
       "75%                0.000000     126.000000                     0.000000   \n",
       "max              391.000000    5400.000000                     8.000000   \n",
       "\n",
       "       total_of_special_requests  adults_filled  children_filled  \\\n",
       "count              119389.000000  119389.000000    119389.000000   \n",
       "mean                    0.571368       1.856402         0.103887   \n",
       "std                     0.792800       0.579263         0.398557   \n",
       "min                     0.000000       0.000000         0.000000   \n",
       "25%                     0.000000       2.000000         0.000000   \n",
       "50%                     0.000000       2.000000         0.000000   \n",
       "75%                     1.000000       2.000000         0.000000   \n",
       "max                     5.000000      55.000000        10.000000   \n",
       "\n",
       "        agent_filled  company_filled  \n",
       "count  119389.000000   119389.000000  \n",
       "mean       74.828385       10.775247  \n",
       "std       107.142399       53.944101  \n",
       "min         0.000000        0.000000  \n",
       "25%         7.000000        0.000000  \n",
       "50%         9.000000        0.000000  \n",
       "75%       152.000000        0.000000  \n",
       "max       535.000000      543.000000  \n",
       "\n",
       "[8 rows x 24 columns]"
      ]
     },
     "execution_count": 52,
     "metadata": {},
     "output_type": "execute_result"
    }
   ],
   "source": [
    "data.describe()"
   ]
  },
  {
   "cell_type": "code",
   "execution_count": 53,
   "id": "1a048b3e-aca8-4718-a60b-986499cef7b0",
   "metadata": {},
   "outputs": [
    {
     "data": {
      "text/html": [
       "<div>\n",
       "<style scoped>\n",
       "    .dataframe tbody tr th:only-of-type {\n",
       "        vertical-align: middle;\n",
       "    }\n",
       "\n",
       "    .dataframe tbody tr th {\n",
       "        vertical-align: top;\n",
       "    }\n",
       "\n",
       "    .dataframe thead th {\n",
       "        text-align: right;\n",
       "    }\n",
       "</style>\n",
       "<table border=\"1\" class=\"dataframe\">\n",
       "  <thead>\n",
       "    <tr style=\"text-align: right;\">\n",
       "      <th></th>\n",
       "      <th>hotel</th>\n",
       "      <th>arrival_date_month</th>\n",
       "      <th>meal</th>\n",
       "      <th>country</th>\n",
       "      <th>market_segment</th>\n",
       "      <th>distribution_channel</th>\n",
       "      <th>reserved_room_type</th>\n",
       "      <th>assigned_room_type</th>\n",
       "      <th>deposit_type</th>\n",
       "      <th>customer_type</th>\n",
       "      <th>reservation_status</th>\n",
       "      <th>reservation_status_date</th>\n",
       "      <th>country_filled</th>\n",
       "      <th>market_segment_filled</th>\n",
       "      <th>distribution_channel_filled</th>\n",
       "      <th>reserved_room_type_filled</th>\n",
       "      <th>assigned_room_type_filled</th>\n",
       "      <th>deposit_type_filled</th>\n",
       "      <th>customer_type_filled</th>\n",
       "    </tr>\n",
       "  </thead>\n",
       "  <tbody>\n",
       "    <tr>\n",
       "      <th>count</th>\n",
       "      <td>119389</td>\n",
       "      <td>119389</td>\n",
       "      <td>119389</td>\n",
       "      <td>118882</td>\n",
       "      <td>119387</td>\n",
       "      <td>119388</td>\n",
       "      <td>119388</td>\n",
       "      <td>119388</td>\n",
       "      <td>119368</td>\n",
       "      <td>119358</td>\n",
       "      <td>119389</td>\n",
       "      <td>119389</td>\n",
       "      <td>119389</td>\n",
       "      <td>119389</td>\n",
       "      <td>119389</td>\n",
       "      <td>119389</td>\n",
       "      <td>119389</td>\n",
       "      <td>119389</td>\n",
       "      <td>119389</td>\n",
       "    </tr>\n",
       "    <tr>\n",
       "      <th>unique</th>\n",
       "      <td>2</td>\n",
       "      <td>12</td>\n",
       "      <td>5</td>\n",
       "      <td>177</td>\n",
       "      <td>8</td>\n",
       "      <td>5</td>\n",
       "      <td>10</td>\n",
       "      <td>12</td>\n",
       "      <td>3</td>\n",
       "      <td>4</td>\n",
       "      <td>3</td>\n",
       "      <td>926</td>\n",
       "      <td>177</td>\n",
       "      <td>8</td>\n",
       "      <td>5</td>\n",
       "      <td>10</td>\n",
       "      <td>12</td>\n",
       "      <td>3</td>\n",
       "      <td>4</td>\n",
       "    </tr>\n",
       "    <tr>\n",
       "      <th>top</th>\n",
       "      <td>City Hotel</td>\n",
       "      <td>August</td>\n",
       "      <td>BB</td>\n",
       "      <td>PRT</td>\n",
       "      <td>Online TA</td>\n",
       "      <td>TA/TO</td>\n",
       "      <td>A</td>\n",
       "      <td>A</td>\n",
       "      <td>No Deposit</td>\n",
       "      <td>Transient</td>\n",
       "      <td>Check-Out</td>\n",
       "      <td>21/10/2015</td>\n",
       "      <td>PRT</td>\n",
       "      <td>Online TA</td>\n",
       "      <td>TA/TO</td>\n",
       "      <td>A</td>\n",
       "      <td>A</td>\n",
       "      <td>No Deposit</td>\n",
       "      <td>Transient</td>\n",
       "    </tr>\n",
       "    <tr>\n",
       "      <th>freq</th>\n",
       "      <td>79330</td>\n",
       "      <td>13877</td>\n",
       "      <td>92309</td>\n",
       "      <td>48570</td>\n",
       "      <td>56477</td>\n",
       "      <td>97868</td>\n",
       "      <td>85993</td>\n",
       "      <td>74052</td>\n",
       "      <td>104630</td>\n",
       "      <td>89585</td>\n",
       "      <td>75165</td>\n",
       "      <td>1461</td>\n",
       "      <td>49077</td>\n",
       "      <td>56479</td>\n",
       "      <td>97869</td>\n",
       "      <td>85994</td>\n",
       "      <td>74053</td>\n",
       "      <td>104651</td>\n",
       "      <td>89616</td>\n",
       "    </tr>\n",
       "  </tbody>\n",
       "</table>\n",
       "</div>"
      ],
      "text/plain": [
       "             hotel arrival_date_month    meal country market_segment  \\\n",
       "count       119389             119389  119389  118882         119387   \n",
       "unique           2                 12       5     177              8   \n",
       "top     City Hotel             August      BB     PRT      Online TA   \n",
       "freq         79330              13877   92309   48570          56477   \n",
       "\n",
       "       distribution_channel reserved_room_type assigned_room_type  \\\n",
       "count                119388             119388             119388   \n",
       "unique                    5                 10                 12   \n",
       "top                   TA/TO                  A                  A   \n",
       "freq                  97868              85993              74052   \n",
       "\n",
       "       deposit_type customer_type reservation_status reservation_status_date  \\\n",
       "count        119368        119358             119389                  119389   \n",
       "unique            3             4                  3                     926   \n",
       "top      No Deposit     Transient          Check-Out              21/10/2015   \n",
       "freq         104630         89585              75165                    1461   \n",
       "\n",
       "       country_filled market_segment_filled distribution_channel_filled  \\\n",
       "count          119389                119389                      119389   \n",
       "unique            177                     8                           5   \n",
       "top               PRT             Online TA                       TA/TO   \n",
       "freq            49077                 56479                       97869   \n",
       "\n",
       "       reserved_room_type_filled assigned_room_type_filled  \\\n",
       "count                     119389                    119389   \n",
       "unique                        10                        12   \n",
       "top                            A                         A   \n",
       "freq                       85994                     74053   \n",
       "\n",
       "       deposit_type_filled customer_type_filled  \n",
       "count               119389               119389  \n",
       "unique                   3                    4  \n",
       "top             No Deposit            Transient  \n",
       "freq                104651                89616  "
      ]
     },
     "execution_count": 53,
     "metadata": {},
     "output_type": "execute_result"
    }
   ],
   "source": [
    "data.describe(include='object')"
   ]
  },
  {
   "cell_type": "markdown",
   "id": "86efc1d0-65af-4aec-9c18-7c1731e4327e",
   "metadata": {},
   "source": [
    "### Data Visualization"
   ]
  },
  {
   "cell_type": "code",
   "execution_count": 97,
   "id": "7f9507e3-f39f-47c4-9ca4-ff652d09022c",
   "metadata": {},
   "outputs": [],
   "source": [
    "# Histogram for is_canceled"
   ]
  },
  {
   "cell_type": "code",
   "execution_count": 54,
   "id": "7ffff7eb-5ac8-480d-88eb-4b98a34cdcb2",
   "metadata": {},
   "outputs": [
    {
     "data": {
      "text/plain": [
       "(array([75165.,     0.,     0.,     0.,     0.,     0.,     0.,     0.,\n",
       "            0., 44224.]),\n",
       " array([0. , 0.1, 0.2, 0.3, 0.4, 0.5, 0.6, 0.7, 0.8, 0.9, 1. ]),\n",
       " <BarContainer object of 10 artists>)"
      ]
     },
     "execution_count": 54,
     "metadata": {},
     "output_type": "execute_result"
    },
    {
     "data": {
      "image/png": "[encoded data removed]",
      "text/plain": [
       "<Figure size 640x480 with 1 Axes>"
      ]
     },
     "metadata": {},
     "output_type": "display_data"
    }
   ],
   "source": [
    "is_cancelled = data['is_canceled']\n",
    "plt.hist(is_cancelled)"
   ]
  },
  {
   "cell_type": "code",
   "execution_count": 105,
   "id": "f7e59711-29e8-4f95-b9c7-34c1f6c60911",
   "metadata": {},
   "outputs": [],
   "source": [
    "# Bar plots"
   ]
  },
  {
   "cell_type": "code",
   "execution_count": 55,
   "id": "ae98f7f4-726a-4a25-a0b5-95ab30a4ab78",
   "metadata": {},
   "outputs": [
    {
     "data": {
      "text/plain": [
       "0         2015\n",
       "1         2015\n",
       "2         2015\n",
       "3         2015\n",
       "4         2015\n",
       "          ... \n",
       "119385    2017\n",
       "119386    2017\n",
       "119387    2017\n",
       "119388    2017\n",
       "119389    2017\n",
       "Name: arrival_date_year, Length: 119389, dtype: int64"
      ]
     },
     "execution_count": 55,
     "metadata": {},
     "output_type": "execute_result"
    }
   ],
   "source": [
    "years = data['arrival_date_year']\n",
    "years"
   ]
  },
  {
   "cell_type": "code",
   "execution_count": 56,
   "id": "b3e139f7-1a38-4cf3-bfd1-02473c67628b",
   "metadata": {},
   "outputs": [
    {
     "data": {
      "image/png": "[encoded data removed]",
      "text/plain": [
       "<Figure size 1000x500 with 1 Axes>"
      ]
     },
     "metadata": {},
     "output_type": "display_data"
    }
   ],
   "source": [
    "year_counts = data['arrival_date_year'].value_counts().sort_index()\n",
    "years = year_counts.index\n",
    "counts = year_counts.values\n",
    "plt.figure(figsize=(10, 5))\n",
    "plt.title('Frequency of Arrival Dates by Year')\n",
    "plt.xlabel('Year')\n",
    "plt.ylabel('Frequency')\n",
    "plt.bar(years,counts)\n",
    "plt.show()"
   ]
  },
  {
   "cell_type": "markdown",
   "id": "872d9e24-cd35-4d35-b3c3-fd698f129f4a",
   "metadata": {},
   "source": [
    "### Scatter Plot"
   ]
  },
  {
   "cell_type": "code",
   "execution_count": 59,
   "id": "a619e407-5291-4617-9a19-5b8817a81091",
   "metadata": {},
   "outputs": [
    {
     "data": {
      "image/png": "[encoded data removed]",
      "text/plain": [
       "<Figure size 700x700 with 1 Axes>"
      ]
     },
     "metadata": {},
     "output_type": "display_data"
    }
   ],
   "source": [
    "# Scatter plot of: Average Daily Rate vs. Booking Changes (not related)\n",
    "plt.figure(figsize=(7, 7))\n",
    "plt.scatter(x=data['adr'], y=data['booking_changes'])\n",
    "plt.title('Scatter Plot of Average Daily Rate vs. Booking Changes')\n",
    "plt.xlabel('Average Daily Rate')\n",
    "plt.ylabel('Booking Changes')\n",
    "plt.show()"
   ]
  },
  {
   "cell_type": "markdown",
   "id": "bdcb58b3-dcd9-4480-932c-fd12af5a1e7d",
   "metadata": {},
   "source": [
    "### Correlation Analysis"
   ]
  },
  {
   "cell_type": "code",
   "execution_count": 60,
   "id": "afd4cfe6-15ca-4300-985f-10cb46627e77",
   "metadata": {},
   "outputs": [
    {
     "data": {
      "text/html": [
       "<div>\n",
       "<style scoped>\n",
       "    .dataframe tbody tr th:only-of-type {\n",
       "        vertical-align: middle;\n",
       "    }\n",
       "\n",
       "    .dataframe tbody tr th {\n",
       "        vertical-align: top;\n",
       "    }\n",
       "\n",
       "    .dataframe thead th {\n",
       "        text-align: right;\n",
       "    }\n",
       "</style>\n",
       "<table border=\"1\" class=\"dataframe\">\n",
       "  <thead>\n",
       "    <tr style=\"text-align: right;\">\n",
       "      <th></th>\n",
       "      <th>is_canceled</th>\n",
       "      <th>lead_time</th>\n",
       "      <th>arrival_date_year</th>\n",
       "      <th>arrival_date_week_number</th>\n",
       "      <th>arrival_date_day_of_month</th>\n",
       "      <th>stays_in_weekend_nights</th>\n",
       "      <th>stays_in_week_nights</th>\n",
       "      <th>adults</th>\n",
       "      <th>children</th>\n",
       "      <th>babies</th>\n",
       "      <th>...</th>\n",
       "      <th>agent</th>\n",
       "      <th>company</th>\n",
       "      <th>days_in_waiting_list</th>\n",
       "      <th>adr</th>\n",
       "      <th>required_car_parking_spaces</th>\n",
       "      <th>total_of_special_requests</th>\n",
       "      <th>adults_filled</th>\n",
       "      <th>children_filled</th>\n",
       "      <th>agent_filled</th>\n",
       "      <th>company_filled</th>\n",
       "    </tr>\n",
       "  </thead>\n",
       "  <tbody>\n",
       "    <tr>\n",
       "      <th>is_canceled</th>\n",
       "      <td>1.000000</td>\n",
       "      <td>0.293125</td>\n",
       "      <td>0.016650</td>\n",
       "      <td>0.008149</td>\n",
       "      <td>-0.006130</td>\n",
       "      <td>-0.001784</td>\n",
       "      <td>0.024777</td>\n",
       "      <td>0.060017</td>\n",
       "      <td>0.005046</td>\n",
       "      <td>-0.032492</td>\n",
       "      <td>...</td>\n",
       "      <td>-0.083116</td>\n",
       "      <td>-0.020642</td>\n",
       "      <td>0.054185</td>\n",
       "      <td>0.047556</td>\n",
       "      <td>-0.195500</td>\n",
       "      <td>-0.234663</td>\n",
       "      <td>0.060019</td>\n",
       "      <td>0.005035</td>\n",
       "      <td>-0.046530</td>\n",
       "      <td>-0.082996</td>\n",
       "    </tr>\n",
       "    <tr>\n",
       "      <th>lead_time</th>\n",
       "      <td>0.293125</td>\n",
       "      <td>1.000000</td>\n",
       "      <td>0.040144</td>\n",
       "      <td>0.126871</td>\n",
       "      <td>0.002268</td>\n",
       "      <td>0.085671</td>\n",
       "      <td>0.165800</td>\n",
       "      <td>0.119519</td>\n",
       "      <td>-0.037622</td>\n",
       "      <td>-0.020915</td>\n",
       "      <td>...</td>\n",
       "      <td>-0.069741</td>\n",
       "      <td>0.151464</td>\n",
       "      <td>0.170084</td>\n",
       "      <td>-0.063077</td>\n",
       "      <td>-0.116450</td>\n",
       "      <td>-0.095712</td>\n",
       "      <td>0.119519</td>\n",
       "      <td>-0.037613</td>\n",
       "      <td>-0.012640</td>\n",
       "      <td>-0.086250</td>\n",
       "    </tr>\n",
       "    <tr>\n",
       "      <th>arrival_date_year</th>\n",
       "      <td>0.016650</td>\n",
       "      <td>0.040144</td>\n",
       "      <td>1.000000</td>\n",
       "      <td>-0.540566</td>\n",
       "      <td>-0.000221</td>\n",
       "      <td>0.021512</td>\n",
       "      <td>0.030909</td>\n",
       "      <td>0.029643</td>\n",
       "      <td>0.054621</td>\n",
       "      <td>-0.013193</td>\n",
       "      <td>...</td>\n",
       "      <td>0.063455</td>\n",
       "      <td>0.259095</td>\n",
       "      <td>-0.056499</td>\n",
       "      <td>0.197581</td>\n",
       "      <td>-0.013688</td>\n",
       "      <td>0.108523</td>\n",
       "      <td>0.029639</td>\n",
       "      <td>0.054633</td>\n",
       "      <td>0.056463</td>\n",
       "      <td>0.033879</td>\n",
       "    </tr>\n",
       "    <tr>\n",
       "      <th>arrival_date_week_number</th>\n",
       "      <td>0.008149</td>\n",
       "      <td>0.126871</td>\n",
       "      <td>-0.540566</td>\n",
       "      <td>1.000000</td>\n",
       "      <td>0.066809</td>\n",
       "      <td>0.018207</td>\n",
       "      <td>0.015556</td>\n",
       "      <td>0.025908</td>\n",
       "      <td>0.005519</td>\n",
       "      <td>0.010396</td>\n",
       "      <td>...</td>\n",
       "      <td>-0.031201</td>\n",
       "      <td>-0.076760</td>\n",
       "      <td>0.022933</td>\n",
       "      <td>0.075791</td>\n",
       "      <td>0.001921</td>\n",
       "      <td>0.026150</td>\n",
       "      <td>0.025909</td>\n",
       "      <td>0.005515</td>\n",
       "      <td>-0.018244</td>\n",
       "      <td>-0.032750</td>\n",
       "    </tr>\n",
       "    <tr>\n",
       "      <th>arrival_date_day_of_month</th>\n",
       "      <td>-0.006130</td>\n",
       "      <td>0.002268</td>\n",
       "      <td>-0.000221</td>\n",
       "      <td>0.066809</td>\n",
       "      <td>1.000000</td>\n",
       "      <td>-0.016355</td>\n",
       "      <td>-0.028174</td>\n",
       "      <td>-0.001569</td>\n",
       "      <td>0.014544</td>\n",
       "      <td>-0.000230</td>\n",
       "      <td>...</td>\n",
       "      <td>0.001487</td>\n",
       "      <td>0.044858</td>\n",
       "      <td>0.022728</td>\n",
       "      <td>0.030245</td>\n",
       "      <td>0.008684</td>\n",
       "      <td>0.003062</td>\n",
       "      <td>-0.001566</td>\n",
       "      <td>0.014553</td>\n",
       "      <td>0.000202</td>\n",
       "      <td>0.003724</td>\n",
       "    </tr>\n",
       "    <tr>\n",
       "      <th>stays_in_weekend_nights</th>\n",
       "      <td>-0.001784</td>\n",
       "      <td>0.085671</td>\n",
       "      <td>0.021512</td>\n",
       "      <td>0.018207</td>\n",
       "      <td>-0.016355</td>\n",
       "      <td>1.000000</td>\n",
       "      <td>0.498962</td>\n",
       "      <td>0.091869</td>\n",
       "      <td>0.045796</td>\n",
       "      <td>0.018484</td>\n",
       "      <td>...</td>\n",
       "      <td>0.140742</td>\n",
       "      <td>0.066749</td>\n",
       "      <td>-0.054150</td>\n",
       "      <td>0.049343</td>\n",
       "      <td>-0.018552</td>\n",
       "      <td>0.072678</td>\n",
       "      <td>0.091869</td>\n",
       "      <td>0.045796</td>\n",
       "      <td>0.161429</td>\n",
       "      <td>-0.079976</td>\n",
       "    </tr>\n",
       "    <tr>\n",
       "      <th>stays_in_week_nights</th>\n",
       "      <td>0.024777</td>\n",
       "      <td>0.165800</td>\n",
       "      <td>0.030909</td>\n",
       "      <td>0.015556</td>\n",
       "      <td>-0.028174</td>\n",
       "      <td>0.498962</td>\n",
       "      <td>1.000000</td>\n",
       "      <td>0.092973</td>\n",
       "      <td>0.044208</td>\n",
       "      <td>0.020193</td>\n",
       "      <td>...</td>\n",
       "      <td>0.182388</td>\n",
       "      <td>0.182211</td>\n",
       "      <td>-0.002018</td>\n",
       "      <td>0.065240</td>\n",
       "      <td>-0.024856</td>\n",
       "      <td>0.068204</td>\n",
       "      <td>0.092973</td>\n",
       "      <td>0.044208</td>\n",
       "      <td>0.195139</td>\n",
       "      <td>-0.043638</td>\n",
       "    </tr>\n",
       "    <tr>\n",
       "      <th>adults</th>\n",
       "      <td>0.060017</td>\n",
       "      <td>0.119519</td>\n",
       "      <td>0.029643</td>\n",
       "      <td>0.025908</td>\n",
       "      <td>-0.001569</td>\n",
       "      <td>0.091869</td>\n",
       "      <td>0.092973</td>\n",
       "      <td>1.000000</td>\n",
       "      <td>0.030448</td>\n",
       "      <td>0.018146</td>\n",
       "      <td>...</td>\n",
       "      <td>-0.035595</td>\n",
       "      <td>0.207793</td>\n",
       "      <td>-0.008283</td>\n",
       "      <td>0.230641</td>\n",
       "      <td>0.014786</td>\n",
       "      <td>0.122884</td>\n",
       "      <td>1.000000</td>\n",
       "      <td>0.030441</td>\n",
       "      <td>0.024992</td>\n",
       "      <td>-0.166778</td>\n",
       "    </tr>\n",
       "    <tr>\n",
       "      <th>children</th>\n",
       "      <td>0.005046</td>\n",
       "      <td>-0.037622</td>\n",
       "      <td>0.054621</td>\n",
       "      <td>0.005519</td>\n",
       "      <td>0.014544</td>\n",
       "      <td>0.045796</td>\n",
       "      <td>0.044208</td>\n",
       "      <td>0.030448</td>\n",
       "      <td>1.000000</td>\n",
       "      <td>0.024029</td>\n",
       "      <td>...</td>\n",
       "      <td>0.041066</td>\n",
       "      <td>0.030931</td>\n",
       "      <td>-0.033273</td>\n",
       "      <td>0.324853</td>\n",
       "      <td>0.056252</td>\n",
       "      <td>0.081743</td>\n",
       "      <td>0.030447</td>\n",
       "      <td>1.000000</td>\n",
       "      <td>0.050576</td>\n",
       "      <td>-0.042624</td>\n",
       "    </tr>\n",
       "    <tr>\n",
       "      <th>babies</th>\n",
       "      <td>-0.032492</td>\n",
       "      <td>-0.020915</td>\n",
       "      <td>-0.013193</td>\n",
       "      <td>0.010396</td>\n",
       "      <td>-0.000230</td>\n",
       "      <td>0.018484</td>\n",
       "      <td>0.020193</td>\n",
       "      <td>0.018146</td>\n",
       "      <td>0.024029</td>\n",
       "      <td>1.000000</td>\n",
       "      <td>...</td>\n",
       "      <td>0.036184</td>\n",
       "      <td>0.019206</td>\n",
       "      <td>-0.010621</td>\n",
       "      <td>0.029186</td>\n",
       "      <td>0.037383</td>\n",
       "      <td>0.097889</td>\n",
       "      <td>0.018146</td>\n",
       "      <td>0.024030</td>\n",
       "      <td>0.030266</td>\n",
       "      <td>-0.009459</td>\n",
       "    </tr>\n",
       "    <tr>\n",
       "      <th>is_repeated_guest</th>\n",
       "      <td>-0.084795</td>\n",
       "      <td>-0.124410</td>\n",
       "      <td>0.010339</td>\n",
       "      <td>-0.030131</td>\n",
       "      <td>-0.006145</td>\n",
       "      <td>-0.087238</td>\n",
       "      <td>-0.097244</td>\n",
       "      <td>-0.146425</td>\n",
       "      <td>-0.032860</td>\n",
       "      <td>-0.008943</td>\n",
       "      <td>...</td>\n",
       "      <td>0.031527</td>\n",
       "      <td>-0.244586</td>\n",
       "      <td>-0.022235</td>\n",
       "      <td>-0.134315</td>\n",
       "      <td>0.077089</td>\n",
       "      <td>0.013049</td>\n",
       "      <td>-0.146426</td>\n",
       "      <td>-0.032858</td>\n",
       "      <td>-0.052264</td>\n",
       "      <td>0.159723</td>\n",
       "    </tr>\n",
       "    <tr>\n",
       "      <th>previous_cancellations</th>\n",
       "      <td>0.110132</td>\n",
       "      <td>0.086042</td>\n",
       "      <td>-0.119825</td>\n",
       "      <td>0.035501</td>\n",
       "      <td>-0.027011</td>\n",
       "      <td>-0.012774</td>\n",
       "      <td>-0.013991</td>\n",
       "      <td>-0.006738</td>\n",
       "      <td>-0.024730</td>\n",
       "      <td>-0.007501</td>\n",
       "      <td>...</td>\n",
       "      <td>-0.012488</td>\n",
       "      <td>-0.184574</td>\n",
       "      <td>0.005929</td>\n",
       "      <td>-0.065646</td>\n",
       "      <td>-0.018492</td>\n",
       "      <td>-0.048385</td>\n",
       "      <td>-0.006738</td>\n",
       "      <td>-0.024729</td>\n",
       "      <td>-0.018192</td>\n",
       "      <td>-0.001190</td>\n",
       "    </tr>\n",
       "    <tr>\n",
       "      <th>previous_bookings_not_canceled</th>\n",
       "      <td>-0.057358</td>\n",
       "      <td>-0.073548</td>\n",
       "      <td>0.029217</td>\n",
       "      <td>-0.020903</td>\n",
       "      <td>-0.000300</td>\n",
       "      <td>-0.042715</td>\n",
       "      <td>-0.048742</td>\n",
       "      <td>-0.107983</td>\n",
       "      <td>-0.021073</td>\n",
       "      <td>-0.006551</td>\n",
       "      <td>...</td>\n",
       "      <td>0.023252</td>\n",
       "      <td>-0.208557</td>\n",
       "      <td>-0.009397</td>\n",
       "      <td>-0.072144</td>\n",
       "      <td>0.047653</td>\n",
       "      <td>0.037823</td>\n",
       "      <td>-0.107983</td>\n",
       "      <td>-0.021072</td>\n",
       "      <td>-0.046296</td>\n",
       "      <td>0.110816</td>\n",
       "    </tr>\n",
       "    <tr>\n",
       "      <th>booking_changes</th>\n",
       "      <td>-0.144375</td>\n",
       "      <td>0.000148</td>\n",
       "      <td>0.030889</td>\n",
       "      <td>0.005506</td>\n",
       "      <td>0.010613</td>\n",
       "      <td>0.063271</td>\n",
       "      <td>0.096193</td>\n",
       "      <td>-0.051675</td>\n",
       "      <td>0.048952</td>\n",
       "      <td>0.083441</td>\n",
       "      <td>...</td>\n",
       "      <td>0.067012</td>\n",
       "      <td>0.122098</td>\n",
       "      <td>-0.011633</td>\n",
       "      <td>0.019619</td>\n",
       "      <td>0.065623</td>\n",
       "      <td>0.052841</td>\n",
       "      <td>-0.051676</td>\n",
       "      <td>0.048955</td>\n",
       "      <td>0.036479</td>\n",
       "      <td>0.088865</td>\n",
       "    </tr>\n",
       "    <tr>\n",
       "      <th>agent</th>\n",
       "      <td>-0.083116</td>\n",
       "      <td>-0.069741</td>\n",
       "      <td>0.063455</td>\n",
       "      <td>-0.031201</td>\n",
       "      <td>0.001487</td>\n",
       "      <td>0.140742</td>\n",
       "      <td>0.182388</td>\n",
       "      <td>-0.035595</td>\n",
       "      <td>0.041066</td>\n",
       "      <td>0.036184</td>\n",
       "      <td>...</td>\n",
       "      <td>1.000000</td>\n",
       "      <td>0.350746</td>\n",
       "      <td>-0.055151</td>\n",
       "      <td>-0.024695</td>\n",
       "      <td>0.177353</td>\n",
       "      <td>0.034160</td>\n",
       "      <td>-0.035593</td>\n",
       "      <td>0.041069</td>\n",
       "      <td>1.000000</td>\n",
       "      <td>0.050649</td>\n",
       "    </tr>\n",
       "    <tr>\n",
       "      <th>company</th>\n",
       "      <td>-0.020642</td>\n",
       "      <td>0.151464</td>\n",
       "      <td>0.259095</td>\n",
       "      <td>-0.076760</td>\n",
       "      <td>0.044858</td>\n",
       "      <td>0.066749</td>\n",
       "      <td>0.182211</td>\n",
       "      <td>0.207793</td>\n",
       "      <td>0.030931</td>\n",
       "      <td>0.019206</td>\n",
       "      <td>...</td>\n",
       "      <td>0.350746</td>\n",
       "      <td>1.000000</td>\n",
       "      <td>0.000411</td>\n",
       "      <td>0.086376</td>\n",
       "      <td>-0.012916</td>\n",
       "      <td>-0.098558</td>\n",
       "      <td>0.207793</td>\n",
       "      <td>0.030931</td>\n",
       "      <td>0.111721</td>\n",
       "      <td>1.000000</td>\n",
       "    </tr>\n",
       "    <tr>\n",
       "      <th>days_in_waiting_list</th>\n",
       "      <td>0.054185</td>\n",
       "      <td>0.170084</td>\n",
       "      <td>-0.056499</td>\n",
       "      <td>0.022933</td>\n",
       "      <td>0.022728</td>\n",
       "      <td>-0.054150</td>\n",
       "      <td>-0.002018</td>\n",
       "      <td>-0.008283</td>\n",
       "      <td>-0.033273</td>\n",
       "      <td>-0.010621</td>\n",
       "      <td>...</td>\n",
       "      <td>-0.055151</td>\n",
       "      <td>0.000411</td>\n",
       "      <td>1.000000</td>\n",
       "      <td>-0.040757</td>\n",
       "      <td>-0.030600</td>\n",
       "      <td>-0.082731</td>\n",
       "      <td>-0.008283</td>\n",
       "      <td>-0.033272</td>\n",
       "      <td>-0.040853</td>\n",
       "      <td>-0.022986</td>\n",
       "    </tr>\n",
       "    <tr>\n",
       "      <th>adr</th>\n",
       "      <td>0.047556</td>\n",
       "      <td>-0.063077</td>\n",
       "      <td>0.197581</td>\n",
       "      <td>0.075791</td>\n",
       "      <td>0.030245</td>\n",
       "      <td>0.049343</td>\n",
       "      <td>0.065240</td>\n",
       "      <td>0.230641</td>\n",
       "      <td>0.324853</td>\n",
       "      <td>0.029186</td>\n",
       "      <td>...</td>\n",
       "      <td>-0.024695</td>\n",
       "      <td>0.086376</td>\n",
       "      <td>-0.040757</td>\n",
       "      <td>1.000000</td>\n",
       "      <td>0.056628</td>\n",
       "      <td>0.172185</td>\n",
       "      <td>0.230642</td>\n",
       "      <td>0.324853</td>\n",
       "      <td>0.016707</td>\n",
       "      <td>-0.128470</td>\n",
       "    </tr>\n",
       "    <tr>\n",
       "      <th>required_car_parking_spaces</th>\n",
       "      <td>-0.195500</td>\n",
       "      <td>-0.116450</td>\n",
       "      <td>-0.013688</td>\n",
       "      <td>0.001921</td>\n",
       "      <td>0.008684</td>\n",
       "      <td>-0.018552</td>\n",
       "      <td>-0.024856</td>\n",
       "      <td>0.014786</td>\n",
       "      <td>0.056252</td>\n",
       "      <td>0.037383</td>\n",
       "      <td>...</td>\n",
       "      <td>0.177353</td>\n",
       "      <td>-0.012916</td>\n",
       "      <td>-0.030600</td>\n",
       "      <td>0.056628</td>\n",
       "      <td>1.000000</td>\n",
       "      <td>0.082625</td>\n",
       "      <td>0.014785</td>\n",
       "      <td>0.056254</td>\n",
       "      <td>0.119158</td>\n",
       "      <td>0.038298</td>\n",
       "    </tr>\n",
       "    <tr>\n",
       "      <th>total_of_special_requests</th>\n",
       "      <td>-0.234663</td>\n",
       "      <td>-0.095712</td>\n",
       "      <td>0.108523</td>\n",
       "      <td>0.026150</td>\n",
       "      <td>0.003062</td>\n",
       "      <td>0.072678</td>\n",
       "      <td>0.068204</td>\n",
       "      <td>0.122884</td>\n",
       "      <td>0.081743</td>\n",
       "      <td>0.097889</td>\n",
       "      <td>...</td>\n",
       "      <td>0.034160</td>\n",
       "      <td>-0.098558</td>\n",
       "      <td>-0.082731</td>\n",
       "      <td>0.172185</td>\n",
       "      <td>0.082625</td>\n",
       "      <td>1.000000</td>\n",
       "      <td>0.122885</td>\n",
       "      <td>0.081734</td>\n",
       "      <td>0.060696</td>\n",
       "      <td>-0.091067</td>\n",
       "    </tr>\n",
       "    <tr>\n",
       "      <th>adults_filled</th>\n",
       "      <td>0.060019</td>\n",
       "      <td>0.119519</td>\n",
       "      <td>0.029639</td>\n",
       "      <td>0.025909</td>\n",
       "      <td>-0.001566</td>\n",
       "      <td>0.091869</td>\n",
       "      <td>0.092973</td>\n",
       "      <td>1.000000</td>\n",
       "      <td>0.030447</td>\n",
       "      <td>0.018146</td>\n",
       "      <td>...</td>\n",
       "      <td>-0.035593</td>\n",
       "      <td>0.207793</td>\n",
       "      <td>-0.008283</td>\n",
       "      <td>0.230642</td>\n",
       "      <td>0.014785</td>\n",
       "      <td>0.122885</td>\n",
       "      <td>1.000000</td>\n",
       "      <td>0.030441</td>\n",
       "      <td>0.024994</td>\n",
       "      <td>-0.166778</td>\n",
       "    </tr>\n",
       "    <tr>\n",
       "      <th>children_filled</th>\n",
       "      <td>0.005035</td>\n",
       "      <td>-0.037613</td>\n",
       "      <td>0.054633</td>\n",
       "      <td>0.005515</td>\n",
       "      <td>0.014553</td>\n",
       "      <td>0.045796</td>\n",
       "      <td>0.044208</td>\n",
       "      <td>0.030441</td>\n",
       "      <td>1.000000</td>\n",
       "      <td>0.024030</td>\n",
       "      <td>...</td>\n",
       "      <td>0.041069</td>\n",
       "      <td>0.030931</td>\n",
       "      <td>-0.033272</td>\n",
       "      <td>0.324853</td>\n",
       "      <td>0.056254</td>\n",
       "      <td>0.081734</td>\n",
       "      <td>0.030441</td>\n",
       "      <td>1.000000</td>\n",
       "      <td>0.050581</td>\n",
       "      <td>-0.042622</td>\n",
       "    </tr>\n",
       "    <tr>\n",
       "      <th>agent_filled</th>\n",
       "      <td>-0.046530</td>\n",
       "      <td>-0.012640</td>\n",
       "      <td>0.056463</td>\n",
       "      <td>-0.018244</td>\n",
       "      <td>0.000202</td>\n",
       "      <td>0.161429</td>\n",
       "      <td>0.195139</td>\n",
       "      <td>0.024992</td>\n",
       "      <td>0.050576</td>\n",
       "      <td>0.030266</td>\n",
       "      <td>...</td>\n",
       "      <td>1.000000</td>\n",
       "      <td>0.111721</td>\n",
       "      <td>-0.040853</td>\n",
       "      <td>0.016707</td>\n",
       "      <td>0.119158</td>\n",
       "      <td>0.060696</td>\n",
       "      <td>0.024994</td>\n",
       "      <td>0.050581</td>\n",
       "      <td>1.000000</td>\n",
       "      <td>-0.121536</td>\n",
       "    </tr>\n",
       "    <tr>\n",
       "      <th>company_filled</th>\n",
       "      <td>-0.082996</td>\n",
       "      <td>-0.086250</td>\n",
       "      <td>0.033879</td>\n",
       "      <td>-0.032750</td>\n",
       "      <td>0.003724</td>\n",
       "      <td>-0.079976</td>\n",
       "      <td>-0.043638</td>\n",
       "      <td>-0.166778</td>\n",
       "      <td>-0.042624</td>\n",
       "      <td>-0.009459</td>\n",
       "      <td>...</td>\n",
       "      <td>0.050649</td>\n",
       "      <td>1.000000</td>\n",
       "      <td>-0.022986</td>\n",
       "      <td>-0.128470</td>\n",
       "      <td>0.038298</td>\n",
       "      <td>-0.091067</td>\n",
       "      <td>-0.166778</td>\n",
       "      <td>-0.042622</td>\n",
       "      <td>-0.121536</td>\n",
       "      <td>1.000000</td>\n",
       "    </tr>\n",
       "  </tbody>\n",
       "</table>\n",
       "<p>24 rows × 24 columns</p>\n",
       "</div>"
      ],
      "text/plain": [
       "                                is_canceled  lead_time  arrival_date_year  \\\n",
       "is_canceled                        1.000000   0.293125           0.016650   \n",
       "lead_time                          0.293125   1.000000           0.040144   \n",
       "arrival_date_year                  0.016650   0.040144           1.000000   \n",
       "arrival_date_week_number           0.008149   0.126871          -0.540566   \n",
       "arrival_date_day_of_month         -0.006130   0.002268          -0.000221   \n",
       "stays_in_weekend_nights           -0.001784   0.085671           0.021512   \n",
       "stays_in_week_nights               0.024777   0.165800           0.030909   \n",
       "adults                             0.060017   0.119519           0.029643   \n",
       "children                           0.005046  -0.037622           0.054621   \n",
       "babies                            -0.032492  -0.020915          -0.013193   \n",
       "is_repeated_guest                 -0.084795  -0.124410           0.010339   \n",
       "previous_cancellations             0.110132   0.086042          -0.119825   \n",
       "previous_bookings_not_canceled    -0.057358  -0.073548           0.029217   \n",
       "booking_changes                   -0.144375   0.000148           0.030889   \n",
       "agent                             -0.083116  -0.069741           0.063455   \n",
       "company                           -0.020642   0.151464           0.259095   \n",
       "days_in_waiting_list               0.054185   0.170084          -0.056499   \n",
       "adr                                0.047556  -0.063077           0.197581   \n",
       "required_car_parking_spaces       -0.195500  -0.116450          -0.013688   \n",
       "total_of_special_requests         -0.234663  -0.095712           0.108523   \n",
       "adults_filled                      0.060019   0.119519           0.029639   \n",
       "children_filled                    0.005035  -0.037613           0.054633   \n",
       "agent_filled                      -0.046530  -0.012640           0.056463   \n",
       "company_filled                    -0.082996  -0.086250           0.033879   \n",
       "\n",
       "                                arrival_date_week_number  \\\n",
       "is_canceled                                     0.008149   \n",
       "lead_time                                       0.126871   \n",
       "arrival_date_year                              -0.540566   \n",
       "arrival_date_week_number                        1.000000   \n",
       "arrival_date_day_of_month                       0.066809   \n",
       "stays_in_weekend_nights                         0.018207   \n",
       "stays_in_week_nights                            0.015556   \n",
       "adults                                          0.025908   \n",
       "children                                        0.005519   \n",
       "babies                                          0.010396   \n",
       "is_repeated_guest                              -0.030131   \n",
       "previous_cancellations                          0.035501   \n",
       "previous_bookings_not_canceled                 -0.020903   \n",
       "booking_changes                                 0.005506   \n",
       "agent                                          -0.031201   \n",
       "company                                        -0.076760   \n",
       "days_in_waiting_list                            0.022933   \n",
       "adr                                             0.075791   \n",
       "required_car_parking_spaces                     0.001921   \n",
       "total_of_special_requests                       0.026150   \n",
       "adults_filled                                   0.025909   \n",
       "children_filled                                 0.005515   \n",
       "agent_filled                                   -0.018244   \n",
       "company_filled                                 -0.032750   \n",
       "\n",
       "                                arrival_date_day_of_month  \\\n",
       "is_canceled                                     -0.006130   \n",
       "lead_time                                        0.002268   \n",
       "arrival_date_year                               -0.000221   \n",
       "arrival_date_week_number                         0.066809   \n",
       "arrival_date_day_of_month                        1.000000   \n",
       "stays_in_weekend_nights                         -0.016355   \n",
       "stays_in_week_nights                            -0.028174   \n",
       "adults                                          -0.001569   \n",
       "children                                         0.014544   \n",
       "babies                                          -0.000230   \n",
       "is_repeated_guest                               -0.006145   \n",
       "previous_cancellations                          -0.027011   \n",
       "previous_bookings_not_canceled                  -0.000300   \n",
       "booking_changes                                  0.010613   \n",
       "agent                                            0.001487   \n",
       "company                                          0.044858   \n",
       "days_in_waiting_list                             0.022728   \n",
       "adr                                              0.030245   \n",
       "required_car_parking_spaces                      0.008684   \n",
       "total_of_special_requests                        0.003062   \n",
       "adults_filled                                   -0.001566   \n",
       "children_filled                                  0.014553   \n",
       "agent_filled                                     0.000202   \n",
       "company_filled                                   0.003724   \n",
       "\n",
       "                                stays_in_weekend_nights  stays_in_week_nights  \\\n",
       "is_canceled                                   -0.001784              0.024777   \n",
       "lead_time                                      0.085671              0.165800   \n",
       "arrival_date_year                              0.021512              0.030909   \n",
       "arrival_date_week_number                       0.018207              0.015556   \n",
       "arrival_date_day_of_month                     -0.016355             -0.028174   \n",
       "stays_in_weekend_nights                        1.000000              0.498962   \n",
       "stays_in_week_nights                           0.498962              1.000000   \n",
       "adults                                         0.091869              0.092973   \n",
       "children                                       0.045796              0.044208   \n",
       "babies                                         0.018484              0.020193   \n",
       "is_repeated_guest                             -0.087238             -0.097244   \n",
       "previous_cancellations                        -0.012774             -0.013991   \n",
       "previous_bookings_not_canceled                -0.042715             -0.048742   \n",
       "booking_changes                                0.063271              0.096193   \n",
       "agent                                          0.140742              0.182388   \n",
       "company                                        0.066749              0.182211   \n",
       "days_in_waiting_list                          -0.054150             -0.002018   \n",
       "adr                                            0.049343              0.065240   \n",
       "required_car_parking_spaces                   -0.018552             -0.024856   \n",
       "total_of_special_requests                      0.072678              0.068204   \n",
       "adults_filled                                  0.091869              0.092973   \n",
       "children_filled                                0.045796              0.044208   \n",
       "agent_filled                                   0.161429              0.195139   \n",
       "company_filled                                -0.079976             -0.043638   \n",
       "\n",
       "                                  adults  children    babies  ...     agent  \\\n",
       "is_canceled                     0.060017  0.005046 -0.032492  ... -0.083116   \n",
       "lead_time                       0.119519 -0.037622 -0.020915  ... -0.069741   \n",
       "arrival_date_year               0.029643  0.054621 -0.013193  ...  0.063455   \n",
       "arrival_date_week_number        0.025908  0.005519  0.010396  ... -0.031201   \n",
       "arrival_date_day_of_month      -0.001569  0.014544 -0.000230  ...  0.001487   \n",
       "stays_in_weekend_nights         0.091869  0.045796  0.018484  ...  0.140742   \n",
       "stays_in_week_nights            0.092973  0.044208  0.020193  ...  0.182388   \n",
       "adults                          1.000000  0.030448  0.018146  ... -0.035595   \n",
       "children                        0.030448  1.000000  0.024029  ...  0.041066   \n",
       "babies                          0.018146  0.024029  1.000000  ...  0.036184   \n",
       "is_repeated_guest              -0.146425 -0.032860 -0.008943  ...  0.031527   \n",
       "previous_cancellations         -0.006738 -0.024730 -0.007501  ... -0.012488   \n",
       "previous_bookings_not_canceled -0.107983 -0.021073 -0.006551  ...  0.023252   \n",
       "booking_changes                -0.051675  0.048952  0.083441  ...  0.067012   \n",
       "agent                          -0.035595  0.041066  0.036184  ...  1.000000   \n",
       "company                         0.207793  0.030931  0.019206  ...  0.350746   \n",
       "days_in_waiting_list           -0.008283 -0.033273 -0.010621  ... -0.055151   \n",
       "adr                             0.230641  0.324853  0.029186  ... -0.024695   \n",
       "required_car_parking_spaces     0.014786  0.056252  0.037383  ...  0.177353   \n",
       "total_of_special_requests       0.122884  0.081743  0.097889  ...  0.034160   \n",
       "adults_filled                   1.000000  0.030447  0.018146  ... -0.035593   \n",
       "children_filled                 0.030441  1.000000  0.024030  ...  0.041069   \n",
       "agent_filled                    0.024992  0.050576  0.030266  ...  1.000000   \n",
       "company_filled                 -0.166778 -0.042624 -0.009459  ...  0.050649   \n",
       "\n",
       "                                 company  days_in_waiting_list       adr  \\\n",
       "is_canceled                    -0.020642              0.054185  0.047556   \n",
       "lead_time                       0.151464              0.170084 -0.063077   \n",
       "arrival_date_year               0.259095             -0.056499  0.197581   \n",
       "arrival_date_week_number       -0.076760              0.022933  0.075791   \n",
       "arrival_date_day_of_month       0.044858              0.022728  0.030245   \n",
       "stays_in_weekend_nights         0.066749             -0.054150  0.049343   \n",
       "stays_in_week_nights            0.182211             -0.002018  0.065240   \n",
       "adults                          0.207793             -0.008283  0.230641   \n",
       "children                        0.030931             -0.033273  0.324853   \n",
       "babies                          0.019206             -0.010621  0.029186   \n",
       "is_repeated_guest              -0.244586             -0.022235 -0.134315   \n",
       "previous_cancellations         -0.184574              0.005929 -0.065646   \n",
       "previous_bookings_not_canceled -0.208557             -0.009397 -0.072144   \n",
       "booking_changes                 0.122098             -0.011633  0.019619   \n",
       "agent                           0.350746             -0.055151 -0.024695   \n",
       "company                         1.000000              0.000411  0.086376   \n",
       "days_in_waiting_list            0.000411              1.000000 -0.040757   \n",
       "adr                             0.086376             -0.040757  1.000000   \n",
       "required_car_parking_spaces    -0.012916             -0.030600  0.056628   \n",
       "total_of_special_requests      -0.098558             -0.082731  0.172185   \n",
       "adults_filled                   0.207793             -0.008283  0.230642   \n",
       "children_filled                 0.030931             -0.033272  0.324853   \n",
       "agent_filled                    0.111721             -0.040853  0.016707   \n",
       "company_filled                  1.000000             -0.022986 -0.128470   \n",
       "\n",
       "                                required_car_parking_spaces  \\\n",
       "is_canceled                                       -0.195500   \n",
       "lead_time                                         -0.116450   \n",
       "arrival_date_year                                 -0.013688   \n",
       "arrival_date_week_number                           0.001921   \n",
       "arrival_date_day_of_month                          0.008684   \n",
       "stays_in_weekend_nights                           -0.018552   \n",
       "stays_in_week_nights                              -0.024856   \n",
       "adults                                             0.014786   \n",
       "children                                           0.056252   \n",
       "babies                                             0.037383   \n",
       "is_repeated_guest                                  0.077089   \n",
       "previous_cancellations                            -0.018492   \n",
       "previous_bookings_not_canceled                     0.047653   \n",
       "booking_changes                                    0.065623   \n",
       "agent                                              0.177353   \n",
       "company                                           -0.012916   \n",
       "days_in_waiting_list                              -0.030600   \n",
       "adr                                                0.056628   \n",
       "required_car_parking_spaces                        1.000000   \n",
       "total_of_special_requests                          0.082625   \n",
       "adults_filled                                      0.014785   \n",
       "children_filled                                    0.056254   \n",
       "agent_filled                                       0.119158   \n",
       "company_filled                                     0.038298   \n",
       "\n",
       "                                total_of_special_requests  adults_filled  \\\n",
       "is_canceled                                     -0.234663       0.060019   \n",
       "lead_time                                       -0.095712       0.119519   \n",
       "arrival_date_year                                0.108523       0.029639   \n",
       "arrival_date_week_number                         0.026150       0.025909   \n",
       "arrival_date_day_of_month                        0.003062      -0.001566   \n",
       "stays_in_weekend_nights                          0.072678       0.091869   \n",
       "stays_in_week_nights                             0.068204       0.092973   \n",
       "adults                                           0.122884       1.000000   \n",
       "children                                         0.081743       0.030447   \n",
       "babies                                           0.097889       0.018146   \n",
       "is_repeated_guest                                0.013049      -0.146426   \n",
       "previous_cancellations                          -0.048385      -0.006738   \n",
       "previous_bookings_not_canceled                   0.037823      -0.107983   \n",
       "booking_changes                                  0.052841      -0.051676   \n",
       "agent                                            0.034160      -0.035593   \n",
       "company                                         -0.098558       0.207793   \n",
       "days_in_waiting_list                            -0.082731      -0.008283   \n",
       "adr                                              0.172185       0.230642   \n",
       "required_car_parking_spaces                      0.082625       0.014785   \n",
       "total_of_special_requests                        1.000000       0.122885   \n",
       "adults_filled                                    0.122885       1.000000   \n",
       "children_filled                                  0.081734       0.030441   \n",
       "agent_filled                                     0.060696       0.024994   \n",
       "company_filled                                  -0.091067      -0.166778   \n",
       "\n",
       "                                children_filled  agent_filled  company_filled  \n",
       "is_canceled                            0.005035     -0.046530       -0.082996  \n",
       "lead_time                             -0.037613     -0.012640       -0.086250  \n",
       "arrival_date_year                      0.054633      0.056463        0.033879  \n",
       "arrival_date_week_number               0.005515     -0.018244       -0.032750  \n",
       "arrival_date_day_of_month              0.014553      0.000202        0.003724  \n",
       "stays_in_weekend_nights                0.045796      0.161429       -0.079976  \n",
       "stays_in_week_nights                   0.044208      0.195139       -0.043638  \n",
       "adults                                 0.030441      0.024992       -0.166778  \n",
       "children                               1.000000      0.050576       -0.042624  \n",
       "babies                                 0.024030      0.030266       -0.009459  \n",
       "is_repeated_guest                     -0.032858     -0.052264        0.159723  \n",
       "previous_cancellations                -0.024729     -0.018192       -0.001190  \n",
       "previous_bookings_not_canceled        -0.021072     -0.046296        0.110816  \n",
       "booking_changes                        0.048955      0.036479        0.088865  \n",
       "agent                                  0.041069      1.000000        0.050649  \n",
       "company                                0.030931      0.111721        1.000000  \n",
       "days_in_waiting_list                  -0.033272     -0.040853       -0.022986  \n",
       "adr                                    0.324853      0.016707       -0.128470  \n",
       "required_car_parking_spaces            0.056254      0.119158        0.038298  \n",
       "total_of_special_requests              0.081734      0.060696       -0.091067  \n",
       "adults_filled                          0.030441      0.024994       -0.166778  \n",
       "children_filled                        1.000000      0.050581       -0.042622  \n",
       "agent_filled                           0.050581      1.000000       -0.121536  \n",
       "company_filled                        -0.042622     -0.121536        1.000000  \n",
       "\n",
       "[24 rows x 24 columns]"
      ]
     },
     "execution_count": 60,
     "metadata": {},
     "output_type": "execute_result"
    }
   ],
   "source": [
    "correlation = data.corr(method='pearson', numeric_only=True)\n",
    "correlation"
   ]
  },
  {
   "cell_type": "markdown",
   "id": "5f4eb54d-6b6c-4671-8c7a-75a35ecff27c",
   "metadata": {},
   "source": [
    "### Heatmap"
   ]
  },
  {
   "cell_type": "code",
   "execution_count": 61,
   "id": "0579de7c-1595-42ff-935f-35139657af54",
   "metadata": {},
   "outputs": [],
   "source": [
    "import seaborn as sns"
   ]
  },
  {
   "cell_type": "code",
   "execution_count": 64,
   "id": "71a19f6f-d804-4998-9d15-94c52e8d0d5f",
   "metadata": {},
   "outputs": [
    {
     "data": {
      "image/png": "[encoded data removed]",
      "text/plain": [
       "<Figure size 1200x800 with 2 Axes>"
      ]
     },
     "metadata": {},
     "output_type": "display_data"
    }
   ],
   "source": [
    "numerical_data = data.select_dtypes(include=['number'])\n",
    "correlation_matrix = numerical_data.corr()\n",
    "plt.figure(figsize=(12, 8))\n",
    "sns.heatmap(correlation_matrix, annot=True, cmap='coolwarm')\n",
    "plt.title('Correlation Matrix')\n",
    "plt.show()"
   ]
  },
  {
   "cell_type": "markdown",
   "id": "c49425f4-06a8-49b2-823b-56c0127d5706",
   "metadata": {},
   "source": [
    "### Categorical Data Analysis"
   ]
  },
  {
   "cell_type": "code",
   "execution_count": 67,
   "id": "36e26fa0-61f0-4e0b-af14-1dd30d87d654",
   "metadata": {},
   "outputs": [],
   "source": [
    "from sklearn.preprocessing import LabelEncoder"
   ]
  },
  {
   "cell_type": "code",
   "execution_count": 68,
   "id": "31614545-2ee9-43c7-badc-8972a569990c",
   "metadata": {},
   "outputs": [],
   "source": [
    "label_encoders = {}"
   ]
  },
  {
   "cell_type": "code",
   "execution_count": 72,
   "id": "40d0db09-d3d6-418b-aa76-e57845e238ce",
   "metadata": {},
   "outputs": [],
   "source": [
    "for column in data.columns:\n",
    "    if data[column].dtype == 'object':\n",
    "        le = LabelEncoder()\n",
    "        data[column] = le.fit_transform(data[column])\n",
    "        label_encoders[column] = le"
   ]
  },
  {
   "cell_type": "code",
   "execution_count": 73,
   "id": "9dcf19e4-8f09-43ac-919f-60a01e587207",
   "metadata": {},
   "outputs": [
    {
     "name": "stdout",
     "output_type": "stream",
     "text": [
      "Encoded DataFrame:\n",
      "        hotel  is_canceled  lead_time  arrival_date_year  arrival_date_month  \\\n",
      "0           0            0        342               2015                   0   \n",
      "1           0            0        737               2015                   0   \n",
      "2           0            0          7               2015                   0   \n",
      "3           0            0         13               2015                   0   \n",
      "4           0            0         14               2015                   0   \n",
      "...       ...          ...        ...                ...                 ...   \n",
      "119385      0            0         23               2017                   0   \n",
      "119386      0            0        102               2017                   0   \n",
      "119387      0            0         34               2017                   0   \n",
      "119388      0            0        109               2017                   0   \n",
      "119389      0            0        205               2017                   0   \n",
      "\n",
      "        arrival_date_week_number  arrival_date_day_of_month  \\\n",
      "0                             27                          1   \n",
      "1                             27                          1   \n",
      "2                             27                          1   \n",
      "3                             27                          1   \n",
      "4                             27                          1   \n",
      "...                          ...                        ...   \n",
      "119385                        35                         30   \n",
      "119386                        35                         31   \n",
      "119387                        35                         31   \n",
      "119388                        35                         31   \n",
      "119389                        35                         29   \n",
      "\n",
      "        stays_in_weekend_nights  stays_in_week_nights  adults  ...  \\\n",
      "0                             0                     0     2.0  ...   \n",
      "1                             0                     0     2.0  ...   \n",
      "2                             0                     1     1.0  ...   \n",
      "3                             0                     1     1.0  ...   \n",
      "4                             0                     2     2.0  ...   \n",
      "...                         ...                   ...     ...  ...   \n",
      "119385                        2                     5     2.0  ...   \n",
      "119386                        2                     5     3.0  ...   \n",
      "119387                        2                     5     2.0  ...   \n",
      "119388                        2                     5     2.0  ...   \n",
      "119389                        2                     7     2.0  ...   \n",
      "\n",
      "        children_filled  country_filled  market_segment_filled  \\\n",
      "0                   0.0               0                      0   \n",
      "1                   0.0               0                      0   \n",
      "2                   0.0               0                      0   \n",
      "3                   0.0               0                      0   \n",
      "4                   0.0               0                      0   \n",
      "...                 ...             ...                    ...   \n",
      "119385              0.0               0                      0   \n",
      "119386              0.0               0                      0   \n",
      "119387              0.0               0                      0   \n",
      "119388              0.0               0                      0   \n",
      "119389              0.0               0                      0   \n",
      "\n",
      "        distribution_channel_filled  reserved_room_type_filled  \\\n",
      "0                                 0                          0   \n",
      "1                                 0                          0   \n",
      "2                                 0                          0   \n",
      "3                                 0                          0   \n",
      "4                                 0                          0   \n",
      "...                             ...                        ...   \n",
      "119385                            0                          0   \n",
      "119386                            0                          0   \n",
      "119387                            0                          0   \n",
      "119388                            0                          0   \n",
      "119389                            0                          0   \n",
      "\n",
      "        assigned_room_type_filled  deposit_type_filled  agent_filled  \\\n",
      "0                               0                    0           0.0   \n",
      "1                               0                    0           0.0   \n",
      "2                               0                    0           0.0   \n",
      "3                               0                    0         304.0   \n",
      "4                               0                    0         240.0   \n",
      "...                           ...                  ...           ...   \n",
      "119385                          0                    0         394.0   \n",
      "119386                          0                    0           9.0   \n",
      "119387                          0                    0           9.0   \n",
      "119388                          0                    0          89.0   \n",
      "119389                          0                    0           9.0   \n",
      "\n",
      "        company_filled  customer_type_filled  \n",
      "0                  0.0                     0  \n",
      "1                  0.0                     0  \n",
      "2                  0.0                     0  \n",
      "3                  0.0                     0  \n",
      "4                  0.0                     0  \n",
      "...                ...                   ...  \n",
      "119385             0.0                     0  \n",
      "119386             0.0                     0  \n",
      "119387             0.0                     0  \n",
      "119388             0.0                     0  \n",
      "119389             0.0                     0  \n",
      "\n",
      "[119389 rows x 43 columns]\n"
     ]
    }
   ],
   "source": [
    "print(\"Encoded DataFrame:\")\n",
    "print(data)"
   ]
  },
  {
   "cell_type": "code",
   "execution_count": 78,
   "id": "0a8f12cb-6494-4787-acaa-4406ff0ad168",
   "metadata": {},
   "outputs": [
    {
     "name": "stdout",
     "output_type": "stream",
     "text": [
      "DataFrame after label encoding and standard scaling:\n",
      "        hotel  is_canceled  lead_time  arrival_date_year  arrival_date_month  \\\n",
      "0           0    -0.767046   2.227043          -1.634793                   0   \n",
      "1           0    -0.767046   5.923361          -1.634793                   0   \n",
      "2           0    -0.767046  -0.907810          -1.634793                   0   \n",
      "3           0    -0.767046  -0.851663          -1.634793                   0   \n",
      "4           0    -0.767046  -0.842305          -1.634793                   0   \n",
      "...       ...          ...        ...                ...                 ...   \n",
      "119385      0    -0.767046  -0.758085           1.192190                   0   \n",
      "119386      0    -0.767046  -0.018822           1.192190                   0   \n",
      "119387      0    -0.767046  -0.655150           1.192190                   0   \n",
      "119388      0    -0.767046   0.046683           1.192190                   0   \n",
      "119389      0    -0.767046   0.945028           1.192190                   0   \n",
      "\n",
      "        arrival_date_week_number  arrival_date_day_of_month  \\\n",
      "0                      -0.012139                  -1.685289   \n",
      "1                      -0.012139                  -1.685289   \n",
      "2                      -0.012139                  -1.685289   \n",
      "3                      -0.012139                  -1.685289   \n",
      "4                      -0.012139                  -1.685289   \n",
      "...                          ...                        ...   \n",
      "119385                  0.575874                   1.617360   \n",
      "119386                  0.575874                   1.731244   \n",
      "119387                  0.575874                   1.731244   \n",
      "119388                  0.575874                   1.731244   \n",
      "119389                  0.575874                   1.503475   \n",
      "\n",
      "        stays_in_weekend_nights  stays_in_week_nights    adults  ...  \\\n",
      "0                     -0.928882             -1.310238  0.247899  ...   \n",
      "1                     -0.928882             -1.310238  0.247899  ...   \n",
      "2                     -0.928882             -0.786200 -1.478432  ...   \n",
      "3                     -0.928882             -0.786200 -1.478432  ...   \n",
      "4                     -0.928882             -0.262162  0.247899  ...   \n",
      "...                         ...                   ...       ...  ...   \n",
      "119385                 1.073905              1.309952  0.247899  ...   \n",
      "119386                 1.073905              1.309952  1.974231  ...   \n",
      "119387                 1.073905              1.309952  0.247899  ...   \n",
      "119388                 1.073905              1.309952  0.247899  ...   \n",
      "119389                 1.073905              2.358028  0.247899  ...   \n",
      "\n",
      "        children_filled  country_filled  market_segment_filled  \\\n",
      "0              -0.26066               0                      0   \n",
      "1              -0.26066               0                      0   \n",
      "2              -0.26066               0                      0   \n",
      "3              -0.26066               0                      0   \n",
      "4              -0.26066               0                      0   \n",
      "...                 ...             ...                    ...   \n",
      "119385         -0.26066               0                      0   \n",
      "119386         -0.26066               0                      0   \n",
      "119387         -0.26066               0                      0   \n",
      "119388         -0.26066               0                      0   \n",
      "119389         -0.26066               0                      0   \n",
      "\n",
      "        distribution_channel_filled  reserved_room_type_filled  \\\n",
      "0                                 0                          0   \n",
      "1                                 0                          0   \n",
      "2                                 0                          0   \n",
      "3                                 0                          0   \n",
      "4                                 0                          0   \n",
      "...                             ...                        ...   \n",
      "119385                            0                          0   \n",
      "119386                            0                          0   \n",
      "119387                            0                          0   \n",
      "119388                            0                          0   \n",
      "119389                            0                          0   \n",
      "\n",
      "        assigned_room_type_filled  deposit_type_filled  agent_filled  \\\n",
      "0                               0                    0     -0.698404   \n",
      "1                               0                    0     -0.698404   \n",
      "2                               0                    0     -0.698404   \n",
      "3                               0                    0      2.138953   \n",
      "4                               0                    0      1.541615   \n",
      "...                           ...                  ...           ...   \n",
      "119385                          0                    0      2.978960   \n",
      "119386                          0                    0     -0.614403   \n",
      "119387                          0                    0     -0.614403   \n",
      "119388                          0                    0      0.132270   \n",
      "119389                          0                    0     -0.614403   \n",
      "\n",
      "        company_filled  customer_type_filled  \n",
      "0            -0.199749                     0  \n",
      "1            -0.199749                     0  \n",
      "2            -0.199749                     0  \n",
      "3            -0.199749                     0  \n",
      "4            -0.199749                     0  \n",
      "...                ...                   ...  \n",
      "119385       -0.199749                     0  \n",
      "119386       -0.199749                     0  \n",
      "119387       -0.199749                     0  \n",
      "119388       -0.199749                     0  \n",
      "119389       -0.199749                     0  \n",
      "\n",
      "[119389 rows x 43 columns]\n"
     ]
    }
   ],
   "source": [
    "from sklearn.preprocessing import StandardScaler\n",
    "\n",
    "numerical_columns = data.select_dtypes(include=['float64', 'int64']).columns\n",
    "scaler = StandardScaler()\n",
    "\n",
    "# Fit and transform the numerical data\n",
    "data[numerical_columns] = scaler.fit_transform(data[numerical_columns])\n",
    "\n",
    "print(\"DataFrame after label encoding and standard scaling:\")\n",
    "print(data)"
   ]
  },
  {
   "cell_type": "code",
   "execution_count": 79,
   "id": "ecdeedd8-9b50-41f9-a3f3-bd2d2ef89f47",
   "metadata": {},
   "outputs": [
    {
     "name": "stderr",
     "output_type": "stream",
     "text": [
      "C:\\Users\\HP\\.conda\\envs\\myenv\\Lib\\site-packages\\seaborn\\matrix.py:260: FutureWarning: Format strings passed to MaskedConstant are ignored, but in future may error or produce different behavior\n",
      "  annotation = (\"{:\" + self.fmt + \"}\").format(val)\n"
     ]
    },
    {
     "data": {
      "image/png": "[encoded data removed]",
      "text/plain": [
       "<Figure size 1200x800 with 2 Axes>"
      ]
     },
     "metadata": {},
     "output_type": "display_data"
    }
   ],
   "source": [
    "correlation_matrix = data.corr()\n",
    "plt.figure(figsize=(12, 8))\n",
    "sns.heatmap(correlation_matrix, annot=True, cmap='coolwarm')\n",
    "plt.title('Correlation Matrix')\n",
    "plt.show()"
   ]
  },
  {
   "cell_type": "markdown",
   "id": "1a61d4b0-53ce-48e0-b1d0-b35cdf09462d",
   "metadata": {},
   "source": [
    "### Time Series Analysis"
   ]
  },
  {
   "cell_type": "markdown",
   "id": "13f7af21-01df-4253-a202-b6859d3d1ade",
   "metadata": {},
   "source": [
    "### Feature Engineering"
   ]
  },
  {
   "cell_type": "code",
   "execution_count": 87,
   "id": "28e70cd7-9d93-46ff-bb02-6329e9e7a755",
   "metadata": {},
   "outputs": [],
   "source": [
    "data[numerical_columns] = scaler.inverse_transform(data[numerical_columns])"
   ]
  },
  {
   "cell_type": "code",
   "execution_count": 82,
   "id": "dbbb650f-2af1-4eb6-a0d3-557f0b2ea9cf",
   "metadata": {},
   "outputs": [],
   "source": [
    "# Create new features based on existing columns, such as calculating the duration of stay from stays_in_weekend_nights and stays_in_week_nights."
   ]
  },
  {
   "cell_type": "code",
   "execution_count": 88,
   "id": "2b427e26-4418-4fbd-a875-2c47482c9d82",
   "metadata": {},
   "outputs": [],
   "source": [
    "data['duration_of_stay'] = data['stays_in_weekend_nights'] + data['stays_in_week_nights']"
   ]
  },
  {
   "cell_type": "code",
   "execution_count": 89,
   "id": "732d45f9-c733-4be5-88f1-e57b88746f0f",
   "metadata": {},
   "outputs": [
    {
     "data": {
      "text/plain": [
       "0         0.0\n",
       "1         0.0\n",
       "2         1.0\n",
       "3         1.0\n",
       "4         2.0\n",
       "         ... \n",
       "119385    7.0\n",
       "119386    7.0\n",
       "119387    7.0\n",
       "119388    7.0\n",
       "119389    9.0\n",
       "Name: duration_of_stay, Length: 119389, dtype: float64"
      ]
     },
     "execution_count": 89,
     "metadata": {},
     "output_type": "execute_result"
    }
   ],
   "source": [
    "data['duration_of_stay']"
   ]
  },
  {
   "cell_type": "code",
   "execution_count": 85,
   "id": "41e0e6e9-941a-4324-9322-d1780ff82b2e",
   "metadata": {},
   "outputs": [],
   "source": [
    "# Derive new features from date columns like arrival_date_year, arrival_date_month, arrival_date_week_number, and arrival_date_day_of_month (e.g., season, month name, day of the week)."
   ]
  },
  {
   "cell_type": "markdown",
   "id": "342d5347-a58e-4679-a654-5e04bb05eae2",
   "metadata": {},
   "source": [
    "### Handling Datetime Columns"
   ]
  },
  {
   "cell_type": "code",
   "execution_count": 93,
   "id": "a4975b5d-50ac-4aee-b89d-9c441fc22877",
   "metadata": {},
   "outputs": [
    {
     "data": {
      "text/plain": [
       "0          1.0\n",
       "1          1.0\n",
       "2          1.0\n",
       "3          1.0\n",
       "4          1.0\n",
       "          ... \n",
       "119385    30.0\n",
       "119386    31.0\n",
       "119387    31.0\n",
       "119388    31.0\n",
       "119389    29.0\n",
       "Name: arrival_date_day_of_month, Length: 119389, dtype: float64"
      ]
     },
     "execution_count": 93,
     "metadata": {},
     "output_type": "execute_result"
    }
   ],
   "source": [
    "data['arrival_date_day_of_month']"
   ]
  },
  {
   "cell_type": "code",
   "execution_count": 98,
   "id": "a5377c5d-15be-4875-ac9d-845673846475",
   "metadata": {},
   "outputs": [
    {
     "ename": "ValueError",
     "evalue": "to assemble mappings requires at least that [year, month, day] be specified: [day,month,year] is missing",
     "output_type": "error",
     "traceback": [
      "\u001b[1;31m---------------------------------------------------------------------------\u001b[0m",
      "\u001b[1;31mValueError\u001b[0m                                Traceback (most recent call last)",
      "Cell \u001b[1;32mIn[98], line 1\u001b[0m\n\u001b[1;32m----> 1\u001b[0m data[\u001b[38;5;124m'\u001b[39m\u001b[38;5;124marrival_date\u001b[39m\u001b[38;5;124m'\u001b[39m] \u001b[38;5;241m=\u001b[39m \u001b[43mpd\u001b[49m\u001b[38;5;241;43m.\u001b[39;49m\u001b[43mto_datetime\u001b[49m\u001b[43m(\u001b[49m\u001b[43mdata\u001b[49m\u001b[43m[\u001b[49m\u001b[43m[\u001b[49m\u001b[38;5;124;43m'\u001b[39;49m\u001b[38;5;124;43marrival_date_year\u001b[39;49m\u001b[38;5;124;43m'\u001b[39;49m\u001b[43m,\u001b[49m\u001b[43m \u001b[49m\u001b[38;5;124;43m'\u001b[39;49m\u001b[38;5;124;43marrival_date_month\u001b[39;49m\u001b[38;5;124;43m'\u001b[39;49m\u001b[43m,\u001b[49m\u001b[43m \u001b[49m\u001b[38;5;124;43m'\u001b[39;49m\u001b[38;5;124;43marrival_date_day_of_month\u001b[39;49m\u001b[38;5;124;43m'\u001b[39;49m\u001b[43m]\u001b[49m\u001b[43m]\u001b[49m\u001b[43m)\u001b[49m\n",
      "File \u001b[1;32m~\\.conda\\envs\\myenv\\Lib\\site-packages\\pandas\\core\\tools\\datetimes.py:1070\u001b[0m, in \u001b[0;36mto_datetime\u001b[1;34m(arg, errors, dayfirst, yearfirst, utc, format, exact, unit, infer_datetime_format, origin, cache)\u001b[0m\n\u001b[0;32m   1068\u001b[0m         result \u001b[38;5;241m=\u001b[39m arg\u001b[38;5;241m.\u001b[39m_constructor(values, index\u001b[38;5;241m=\u001b[39marg\u001b[38;5;241m.\u001b[39mindex, name\u001b[38;5;241m=\u001b[39marg\u001b[38;5;241m.\u001b[39mname)\n\u001b[0;32m   1069\u001b[0m \u001b[38;5;28;01melif\u001b[39;00m \u001b[38;5;28misinstance\u001b[39m(arg, (ABCDataFrame, abc\u001b[38;5;241m.\u001b[39mMutableMapping)):\n\u001b[1;32m-> 1070\u001b[0m     result \u001b[38;5;241m=\u001b[39m \u001b[43m_assemble_from_unit_mappings\u001b[49m\u001b[43m(\u001b[49m\u001b[43marg\u001b[49m\u001b[43m,\u001b[49m\u001b[43m \u001b[49m\u001b[43merrors\u001b[49m\u001b[43m,\u001b[49m\u001b[43m \u001b[49m\u001b[43mutc\u001b[49m\u001b[43m)\u001b[49m\n\u001b[0;32m   1071\u001b[0m \u001b[38;5;28;01melif\u001b[39;00m \u001b[38;5;28misinstance\u001b[39m(arg, Index):\n\u001b[0;32m   1072\u001b[0m     cache_array \u001b[38;5;241m=\u001b[39m _maybe_cache(arg, \u001b[38;5;28mformat\u001b[39m, cache, convert_listlike)\n",
      "File \u001b[1;32m~\\.conda\\envs\\myenv\\Lib\\site-packages\\pandas\\core\\tools\\datetimes.py:1186\u001b[0m, in \u001b[0;36m_assemble_from_unit_mappings\u001b[1;34m(arg, errors, utc)\u001b[0m\n\u001b[0;32m   1184\u001b[0m \u001b[38;5;28;01mif\u001b[39;00m \u001b[38;5;28mlen\u001b[39m(req):\n\u001b[0;32m   1185\u001b[0m     _required \u001b[38;5;241m=\u001b[39m \u001b[38;5;124m\"\u001b[39m\u001b[38;5;124m,\u001b[39m\u001b[38;5;124m\"\u001b[39m\u001b[38;5;241m.\u001b[39mjoin(req)\n\u001b[1;32m-> 1186\u001b[0m     \u001b[38;5;28;01mraise\u001b[39;00m \u001b[38;5;167;01mValueError\u001b[39;00m(\n\u001b[0;32m   1187\u001b[0m         \u001b[38;5;124m\"\u001b[39m\u001b[38;5;124mto assemble mappings requires at least that \u001b[39m\u001b[38;5;124m\"\u001b[39m\n\u001b[0;32m   1188\u001b[0m         \u001b[38;5;124mf\u001b[39m\u001b[38;5;124m\"\u001b[39m\u001b[38;5;124m[year, month, day] be specified: [\u001b[39m\u001b[38;5;132;01m{\u001b[39;00m_required\u001b[38;5;132;01m}\u001b[39;00m\u001b[38;5;124m] is missing\u001b[39m\u001b[38;5;124m\"\u001b[39m\n\u001b[0;32m   1189\u001b[0m     )\n\u001b[0;32m   1191\u001b[0m \u001b[38;5;66;03m# keys we don't recognize\u001b[39;00m\n\u001b[0;32m   1192\u001b[0m excess \u001b[38;5;241m=\u001b[39m \u001b[38;5;28msorted\u001b[39m(\u001b[38;5;28mset\u001b[39m(unit_rev\u001b[38;5;241m.\u001b[39mkeys()) \u001b[38;5;241m-\u001b[39m \u001b[38;5;28mset\u001b[39m(_unit_map\u001b[38;5;241m.\u001b[39mvalues()))\n",
      "\u001b[1;31mValueError\u001b[0m: to assemble mappings requires at least that [year, month, day] be specified: [day,month,year] is missing"
     ]
    }
   ],
   "source": [
    "data['arrival_date'] = pd.to_datetime(data[['arrival_date_year', 'arrival_date_month', 'arrival_date_day_of_month']])"
   ]
  },
  {
   "cell_type": "code",
   "execution_count": 95,
   "id": "0ea500f0-e1e0-437c-b5c4-a801226ee7a8",
   "metadata": {},
   "outputs": [
    {
     "name": "stdout",
     "output_type": "stream",
     "text": [
      "Help on function to_datetime in module pandas.core.tools.datetimes:\n",
      "\n",
      "to_datetime(arg: 'DatetimeScalarOrArrayConvertible | DictConvertible', errors: 'DateTimeErrorChoices' = 'raise', dayfirst: 'bool' = False, yearfirst: 'bool' = False, utc: 'bool' = False, format: 'str | None' = None, exact: 'bool | lib.NoDefault' = <no_default>, unit: 'str | None' = None, infer_datetime_format: 'lib.NoDefault | bool' = <no_default>, origin: 'str' = 'unix', cache: 'bool' = True) -> 'DatetimeIndex | Series | DatetimeScalar | NaTType | None'\n",
      "    Convert argument to datetime.\n",
      "    \n",
      "    This function converts a scalar, array-like, :class:`Series` or\n",
      "    :class:`DataFrame`/dict-like to a pandas datetime object.\n",
      "    \n",
      "    Parameters\n",
      "    ----------\n",
      "    arg : int, float, str, datetime, list, tuple, 1-d array, Series, DataFrame/dict-like\n",
      "        The object to convert to a datetime. If a :class:`DataFrame` is provided, the\n",
      "        method expects minimally the following columns: :const:`\"year\"`,\n",
      "        :const:`\"month\"`, :const:`\"day\"`. The column \"year\"\n",
      "        must be specified in 4-digit format.\n",
      "    errors : {'ignore', 'raise', 'coerce'}, default 'raise'\n",
      "        - If :const:`'raise'`, then invalid parsing will raise an exception.\n",
      "        - If :const:`'coerce'`, then invalid parsing will be set as :const:`NaT`.\n",
      "        - If :const:`'ignore'`, then invalid parsing will return the input.\n",
      "    dayfirst : bool, default False\n",
      "        Specify a date parse order if `arg` is str or is list-like.\n",
      "        If :const:`True`, parses dates with the day first, e.g. :const:`\"10/11/12\"`\n",
      "        is parsed as :const:`2012-11-10`.\n",
      "    \n",
      "        .. warning::\n",
      "    \n",
      "            ``dayfirst=True`` is not strict, but will prefer to parse\n",
      "            with day first.\n",
      "    \n",
      "    yearfirst : bool, default False\n",
      "        Specify a date parse order if `arg` is str or is list-like.\n",
      "    \n",
      "        - If :const:`True` parses dates with the year first, e.g.\n",
      "          :const:`\"10/11/12\"` is parsed as :const:`2010-11-12`.\n",
      "        - If both `dayfirst` and `yearfirst` are :const:`True`, `yearfirst` is\n",
      "          preceded (same as :mod:`dateutil`).\n",
      "    \n",
      "        .. warning::\n",
      "    \n",
      "            ``yearfirst=True`` is not strict, but will prefer to parse\n",
      "            with year first.\n",
      "    \n",
      "    utc : bool, default False\n",
      "        Control timezone-related parsing, localization and conversion.\n",
      "    \n",
      "        - If :const:`True`, the function *always* returns a timezone-aware\n",
      "          UTC-localized :class:`Timestamp`, :class:`Series` or\n",
      "          :class:`DatetimeIndex`. To do this, timezone-naive inputs are\n",
      "          *localized* as UTC, while timezone-aware inputs are *converted* to UTC.\n",
      "    \n",
      "        - If :const:`False` (default), inputs will not be coerced to UTC.\n",
      "          Timezone-naive inputs will remain naive, while timezone-aware ones\n",
      "          will keep their time offsets. Limitations exist for mixed\n",
      "          offsets (typically, daylight savings), see :ref:`Examples\n",
      "          <to_datetime_tz_examples>` section for details.\n",
      "    \n",
      "        .. warning::\n",
      "    \n",
      "            In a future version of pandas, parsing datetimes with mixed time\n",
      "            zones will raise an error unless `utc=True`.\n",
      "            Please specify `utc=True` to opt in to the new behaviour\n",
      "            and silence this warning. To create a `Series` with mixed offsets and\n",
      "            `object` dtype, please use `apply` and `datetime.datetime.strptime`.\n",
      "    \n",
      "        See also: pandas general documentation about `timezone conversion and\n",
      "        localization\n",
      "        <https://pandas.pydata.org/pandas-docs/stable/user_guide/timeseries.html\n",
      "        #time-zone-handling>`_.\n",
      "    \n",
      "    format : str, default None\n",
      "        The strftime to parse time, e.g. :const:`\"%d/%m/%Y\"`. See\n",
      "        `strftime documentation\n",
      "        <https://docs.python.org/3/library/datetime.html\n",
      "        #strftime-and-strptime-behavior>`_ for more information on choices, though\n",
      "        note that :const:`\"%f\"` will parse all the way up to nanoseconds.\n",
      "        You can also pass:\n",
      "    \n",
      "        - \"ISO8601\", to parse any `ISO8601 <https://en.wikipedia.org/wiki/ISO_8601>`_\n",
      "          time string (not necessarily in exactly the same format);\n",
      "        - \"mixed\", to infer the format for each element individually. This is risky,\n",
      "          and you should probably use it along with `dayfirst`.\n",
      "    \n",
      "        .. note::\n",
      "    \n",
      "            If a :class:`DataFrame` is passed, then `format` has no effect.\n",
      "    \n",
      "    exact : bool, default True\n",
      "        Control how `format` is used:\n",
      "    \n",
      "        - If :const:`True`, require an exact `format` match.\n",
      "        - If :const:`False`, allow the `format` to match anywhere in the target\n",
      "          string.\n",
      "    \n",
      "        Cannot be used alongside ``format='ISO8601'`` or ``format='mixed'``.\n",
      "    unit : str, default 'ns'\n",
      "        The unit of the arg (D,s,ms,us,ns) denote the unit, which is an\n",
      "        integer or float number. This will be based off the origin.\n",
      "        Example, with ``unit='ms'`` and ``origin='unix'``, this would calculate\n",
      "        the number of milliseconds to the unix epoch start.\n",
      "    infer_datetime_format : bool, default False\n",
      "        If :const:`True` and no `format` is given, attempt to infer the format\n",
      "        of the datetime strings based on the first non-NaN element,\n",
      "        and if it can be inferred, switch to a faster method of parsing them.\n",
      "        In some cases this can increase the parsing speed by ~5-10x.\n",
      "    \n",
      "        .. deprecated:: 2.0.0\n",
      "            A strict version of this argument is now the default, passing it has\n",
      "            no effect.\n",
      "    \n",
      "    origin : scalar, default 'unix'\n",
      "        Define the reference date. The numeric values would be parsed as number\n",
      "        of units (defined by `unit`) since this reference date.\n",
      "    \n",
      "        - If :const:`'unix'` (or POSIX) time; origin is set to 1970-01-01.\n",
      "        - If :const:`'julian'`, unit must be :const:`'D'`, and origin is set to\n",
      "          beginning of Julian Calendar. Julian day number :const:`0` is assigned\n",
      "          to the day starting at noon on January 1, 4713 BC.\n",
      "        - If Timestamp convertible (Timestamp, dt.datetime, np.datetimt64 or date\n",
      "          string), origin is set to Timestamp identified by origin.\n",
      "        - If a float or integer, origin is the difference\n",
      "          (in units determined by the ``unit`` argument) relative to 1970-01-01.\n",
      "    cache : bool, default True\n",
      "        If :const:`True`, use a cache of unique, converted dates to apply the\n",
      "        datetime conversion. May produce significant speed-up when parsing\n",
      "        duplicate date strings, especially ones with timezone offsets. The cache\n",
      "        is only used when there are at least 50 values. The presence of\n",
      "        out-of-bounds values will render the cache unusable and may slow down\n",
      "        parsing.\n",
      "    \n",
      "    Returns\n",
      "    -------\n",
      "    datetime\n",
      "        If parsing succeeded.\n",
      "        Return type depends on input (types in parenthesis correspond to\n",
      "        fallback in case of unsuccessful timezone or out-of-range timestamp\n",
      "        parsing):\n",
      "    \n",
      "        - scalar: :class:`Timestamp` (or :class:`datetime.datetime`)\n",
      "        - array-like: :class:`DatetimeIndex` (or :class:`Series` with\n",
      "          :class:`object` dtype containing :class:`datetime.datetime`)\n",
      "        - Series: :class:`Series` of :class:`datetime64` dtype (or\n",
      "          :class:`Series` of :class:`object` dtype containing\n",
      "          :class:`datetime.datetime`)\n",
      "        - DataFrame: :class:`Series` of :class:`datetime64` dtype (or\n",
      "          :class:`Series` of :class:`object` dtype containing\n",
      "          :class:`datetime.datetime`)\n",
      "    \n",
      "    Raises\n",
      "    ------\n",
      "    ParserError\n",
      "        When parsing a date from string fails.\n",
      "    ValueError\n",
      "        When another datetime conversion error happens. For example when one\n",
      "        of 'year', 'month', day' columns is missing in a :class:`DataFrame`, or\n",
      "        when a Timezone-aware :class:`datetime.datetime` is found in an array-like\n",
      "        of mixed time offsets, and ``utc=False``.\n",
      "    \n",
      "    See Also\n",
      "    --------\n",
      "    DataFrame.astype : Cast argument to a specified dtype.\n",
      "    to_timedelta : Convert argument to timedelta.\n",
      "    convert_dtypes : Convert dtypes.\n",
      "    \n",
      "    Notes\n",
      "    -----\n",
      "    \n",
      "    Many input types are supported, and lead to different output types:\n",
      "    \n",
      "    - **scalars** can be int, float, str, datetime object (from stdlib :mod:`datetime`\n",
      "      module or :mod:`numpy`). They are converted to :class:`Timestamp` when\n",
      "      possible, otherwise they are converted to :class:`datetime.datetime`.\n",
      "      None/NaN/null scalars are converted to :const:`NaT`.\n",
      "    \n",
      "    - **array-like** can contain int, float, str, datetime objects. They are\n",
      "      converted to :class:`DatetimeIndex` when possible, otherwise they are\n",
      "      converted to :class:`Index` with :class:`object` dtype, containing\n",
      "      :class:`datetime.datetime`. None/NaN/null entries are converted to\n",
      "      :const:`NaT` in both cases.\n",
      "    \n",
      "    - **Series** are converted to :class:`Series` with :class:`datetime64`\n",
      "      dtype when possible, otherwise they are converted to :class:`Series` with\n",
      "      :class:`object` dtype, containing :class:`datetime.datetime`. None/NaN/null\n",
      "      entries are converted to :const:`NaT` in both cases.\n",
      "    \n",
      "    - **DataFrame/dict-like** are converted to :class:`Series` with\n",
      "      :class:`datetime64` dtype. For each row a datetime is created from assembling\n",
      "      the various dataframe columns. Column keys can be common abbreviations\n",
      "      like ['year', 'month', 'day', 'minute', 'second', 'ms', 'us', 'ns']) or\n",
      "      plurals of the same.\n",
      "    \n",
      "    The following causes are responsible for :class:`datetime.datetime` objects\n",
      "    being returned (possibly inside an :class:`Index` or a :class:`Series` with\n",
      "    :class:`object` dtype) instead of a proper pandas designated type\n",
      "    (:class:`Timestamp`, :class:`DatetimeIndex` or :class:`Series`\n",
      "    with :class:`datetime64` dtype):\n",
      "    \n",
      "    - when any input element is before :const:`Timestamp.min` or after\n",
      "      :const:`Timestamp.max`, see `timestamp limitations\n",
      "      <https://pandas.pydata.org/pandas-docs/stable/user_guide/timeseries.html\n",
      "      #timeseries-timestamp-limits>`_.\n",
      "    \n",
      "    - when ``utc=False`` (default) and the input is an array-like or\n",
      "      :class:`Series` containing mixed naive/aware datetime, or aware with mixed\n",
      "      time offsets. Note that this happens in the (quite frequent) situation when\n",
      "      the timezone has a daylight savings policy. In that case you may wish to\n",
      "      use ``utc=True``.\n",
      "    \n",
      "    Examples\n",
      "    --------\n",
      "    \n",
      "    **Handling various input formats**\n",
      "    \n",
      "    Assembling a datetime from multiple columns of a :class:`DataFrame`. The keys\n",
      "    can be common abbreviations like ['year', 'month', 'day', 'minute', 'second',\n",
      "    'ms', 'us', 'ns']) or plurals of the same\n",
      "    \n",
      "    >>> df = pd.DataFrame({'year': [2015, 2016],\n",
      "    ...                    'month': [2, 3],\n",
      "    ...                    'day': [4, 5]})\n",
      "    >>> pd.to_datetime(df)\n",
      "    0   2015-02-04\n",
      "    1   2016-03-05\n",
      "    dtype: datetime64[ns]\n",
      "    \n",
      "    Using a unix epoch time\n",
      "    \n",
      "    >>> pd.to_datetime(1490195805, unit='s')\n",
      "    Timestamp('2017-03-22 15:16:45')\n",
      "    >>> pd.to_datetime(1490195805433502912, unit='ns')\n",
      "    Timestamp('2017-03-22 15:16:45.433502912')\n",
      "    \n",
      "    .. warning:: For float arg, precision rounding might happen. To prevent\n",
      "        unexpected behavior use a fixed-width exact type.\n",
      "    \n",
      "    Using a non-unix epoch origin\n",
      "    \n",
      "    >>> pd.to_datetime([1, 2, 3], unit='D',\n",
      "    ...                origin=pd.Timestamp('1960-01-01'))\n",
      "    DatetimeIndex(['1960-01-02', '1960-01-03', '1960-01-04'],\n",
      "                  dtype='datetime64[ns]', freq=None)\n",
      "    \n",
      "    **Differences with strptime behavior**\n",
      "    \n",
      "    :const:`\"%f\"` will parse all the way up to nanoseconds.\n",
      "    \n",
      "    >>> pd.to_datetime('2018-10-26 12:00:00.0000000011',\n",
      "    ...                format='%Y-%m-%d %H:%M:%S.%f')\n",
      "    Timestamp('2018-10-26 12:00:00.000000001')\n",
      "    \n",
      "    **Non-convertible date/times**\n",
      "    \n",
      "    Passing ``errors='coerce'`` will force an out-of-bounds date to :const:`NaT`,\n",
      "    in addition to forcing non-dates (or non-parseable dates) to :const:`NaT`.\n",
      "    \n",
      "    >>> pd.to_datetime('13000101', format='%Y%m%d', errors='coerce')\n",
      "    NaT\n",
      "    \n",
      "    .. _to_datetime_tz_examples:\n",
      "    \n",
      "    **Timezones and time offsets**\n",
      "    \n",
      "    The default behaviour (``utc=False``) is as follows:\n",
      "    \n",
      "    - Timezone-naive inputs are converted to timezone-naive :class:`DatetimeIndex`:\n",
      "    \n",
      "    >>> pd.to_datetime(['2018-10-26 12:00:00', '2018-10-26 13:00:15'])\n",
      "    DatetimeIndex(['2018-10-26 12:00:00', '2018-10-26 13:00:15'],\n",
      "                  dtype='datetime64[ns]', freq=None)\n",
      "    \n",
      "    - Timezone-aware inputs *with constant time offset* are converted to\n",
      "      timezone-aware :class:`DatetimeIndex`:\n",
      "    \n",
      "    >>> pd.to_datetime(['2018-10-26 12:00 -0500', '2018-10-26 13:00 -0500'])\n",
      "    DatetimeIndex(['2018-10-26 12:00:00-05:00', '2018-10-26 13:00:00-05:00'],\n",
      "                  dtype='datetime64[ns, UTC-05:00]', freq=None)\n",
      "    \n",
      "    - However, timezone-aware inputs *with mixed time offsets* (for example\n",
      "      issued from a timezone with daylight savings, such as Europe/Paris)\n",
      "      are **not successfully converted** to a :class:`DatetimeIndex`.\n",
      "      Parsing datetimes with mixed time zones will show a warning unless\n",
      "      `utc=True`. If you specify `utc=False` the warning below will be shown\n",
      "      and a simple :class:`Index` containing :class:`datetime.datetime`\n",
      "      objects will be returned:\n",
      "    \n",
      "    >>> pd.to_datetime(['2020-10-25 02:00 +0200',\n",
      "    ...                 '2020-10-25 04:00 +0100'])  # doctest: +SKIP\n",
      "    FutureWarning: In a future version of pandas, parsing datetimes with mixed\n",
      "    time zones will raise an error unless `utc=True`. Please specify `utc=True`\n",
      "    to opt in to the new behaviour and silence this warning. To create a `Series`\n",
      "    with mixed offsets and `object` dtype, please use `apply` and\n",
      "    `datetime.datetime.strptime`.\n",
      "    Index([2020-10-25 02:00:00+02:00, 2020-10-25 04:00:00+01:00],\n",
      "          dtype='object')\n",
      "    \n",
      "    - A mix of timezone-aware and timezone-naive inputs is also converted to\n",
      "      a simple :class:`Index` containing :class:`datetime.datetime` objects:\n",
      "    \n",
      "    >>> from datetime import datetime\n",
      "    >>> pd.to_datetime([\"2020-01-01 01:00:00-01:00\",\n",
      "    ...                 datetime(2020, 1, 1, 3, 0)])  # doctest: +SKIP\n",
      "    FutureWarning: In a future version of pandas, parsing datetimes with mixed\n",
      "    time zones will raise an error unless `utc=True`. Please specify `utc=True`\n",
      "    to opt in to the new behaviour and silence this warning. To create a `Series`\n",
      "    with mixed offsets and `object` dtype, please use `apply` and\n",
      "    `datetime.datetime.strptime`.\n",
      "    Index([2020-01-01 01:00:00-01:00, 2020-01-01 03:00:00], dtype='object')\n",
      "    \n",
      "    |\n",
      "    \n",
      "    Setting ``utc=True`` solves most of the above issues:\n",
      "    \n",
      "    - Timezone-naive inputs are *localized* as UTC\n",
      "    \n",
      "    >>> pd.to_datetime(['2018-10-26 12:00', '2018-10-26 13:00'], utc=True)\n",
      "    DatetimeIndex(['2018-10-26 12:00:00+00:00', '2018-10-26 13:00:00+00:00'],\n",
      "                  dtype='datetime64[ns, UTC]', freq=None)\n",
      "    \n",
      "    - Timezone-aware inputs are *converted* to UTC (the output represents the\n",
      "      exact same datetime, but viewed from the UTC time offset `+00:00`).\n",
      "    \n",
      "    >>> pd.to_datetime(['2018-10-26 12:00 -0530', '2018-10-26 12:00 -0500'],\n",
      "    ...                utc=True)\n",
      "    DatetimeIndex(['2018-10-26 17:30:00+00:00', '2018-10-26 17:00:00+00:00'],\n",
      "                  dtype='datetime64[ns, UTC]', freq=None)\n",
      "    \n",
      "    - Inputs can contain both string or datetime, the above\n",
      "      rules still apply\n",
      "    \n",
      "    >>> pd.to_datetime(['2018-10-26 12:00', datetime(2020, 1, 1, 18)], utc=True)\n",
      "    DatetimeIndex(['2018-10-26 12:00:00+00:00', '2020-01-01 18:00:00+00:00'],\n",
      "                  dtype='datetime64[ns, UTC]', freq=None)\n",
      "\n"
     ]
    }
   ],
   "source": [
    "help(pd.to_datetime)"
   ]
  },
  {
   "cell_type": "code",
   "execution_count": null,
   "id": "51caa7c0-eb84-4bd9-9c4a-46d73256d6cc",
   "metadata": {},
   "outputs": [],
   "source": []
  }
 ],
 "metadata": {
  "kernelspec": {
   "display_name": "Python 3 (ipykernel)",
   "language": "python",
   "name": "python3"
  },
  "language_info": {
   "codemirror_mode": {
    "name": "ipython",
    "version": 3
   },
   "file_extension": ".py",
   "mimetype": "text/x-python",
   "name": "python",
   "nbconvert_exporter": "python",
   "pygments_lexer": "ipython3",
   "version": "3.11.9"
  }
 },
 "nbformat": 4,
 "nbformat_minor": 5
}
