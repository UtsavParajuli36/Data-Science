{
 "cells": [
  {
   "cell_type": "code",
   "execution_count": 2,
   "id": "00acd281-9583-4744-860a-d181de21c7fe",
   "metadata": {},
   "outputs": [],
   "source": [
    "import pandas as pd\n",
    "import numpy as np\n",
    "import matplotlib.pyplot as plt"
   ]
  },
  {
   "cell_type": "code",
   "execution_count": 3,
   "id": "cf05db10-fd73-4bac-b039-265a4c38ee5d",
   "metadata": {},
   "outputs": [],
   "source": [
    "data=pd.read_csv(\"hotel_bookings.csv\")"
   ]
  },
  {
   "cell_type": "code",
   "execution_count": 3,
   "id": "ce76fa2f-a474-404a-bd9a-786864a03270",
   "metadata": {},
   "outputs": [
    {
     "data": {
      "text/html": [
       "<div>\n",
       "<style scoped>\n",
       "    .dataframe tbody tr th:only-of-type {\n",
       "        vertical-align: middle;\n",
       "    }\n",
       "\n",
       "    .dataframe tbody tr th {\n",
       "        vertical-align: top;\n",
       "    }\n",
       "\n",
       "    .dataframe thead th {\n",
       "        text-align: right;\n",
       "    }\n",
       "</style>\n",
       "<table border=\"1\" class=\"dataframe\">\n",
       "  <thead>\n",
       "    <tr style=\"text-align: right;\">\n",
       "      <th></th>\n",
       "      <th>hotel</th>\n",
       "      <th>is_canceled</th>\n",
       "      <th>lead_time</th>\n",
       "      <th>arrival_date_year</th>\n",
       "      <th>arrival_date_month</th>\n",
       "      <th>arrival_date_week_number</th>\n",
       "      <th>arrival_date_day_of_month</th>\n",
       "      <th>stays_in_weekend_nights</th>\n",
       "      <th>stays_in_week_nights</th>\n",
       "      <th>adults</th>\n",
       "      <th>...</th>\n",
       "      <th>deposit_type</th>\n",
       "      <th>agent</th>\n",
       "      <th>company</th>\n",
       "      <th>days_in_waiting_list</th>\n",
       "      <th>customer_type</th>\n",
       "      <th>adr</th>\n",
       "      <th>required_car_parking_spaces</th>\n",
       "      <th>total_of_special_requests</th>\n",
       "      <th>reservation_status</th>\n",
       "      <th>reservation_status_date</th>\n",
       "    </tr>\n",
       "  </thead>\n",
       "  <tbody>\n",
       "    <tr>\n",
       "      <th>0</th>\n",
       "      <td>Resort Hotel</td>\n",
       "      <td>0</td>\n",
       "      <td>342</td>\n",
       "      <td>2015</td>\n",
       "      <td>July</td>\n",
       "      <td>27</td>\n",
       "      <td>1</td>\n",
       "      <td>0</td>\n",
       "      <td>0</td>\n",
       "      <td>2.0</td>\n",
       "      <td>...</td>\n",
       "      <td>No Deposit</td>\n",
       "      <td>NaN</td>\n",
       "      <td>NaN</td>\n",
       "      <td>0</td>\n",
       "      <td>Transient</td>\n",
       "      <td>0.0</td>\n",
       "      <td>0</td>\n",
       "      <td>0</td>\n",
       "      <td>Check-Out</td>\n",
       "      <td>01/07/2015</td>\n",
       "    </tr>\n",
       "    <tr>\n",
       "      <th>1</th>\n",
       "      <td>Resort Hotel</td>\n",
       "      <td>0</td>\n",
       "      <td>737</td>\n",
       "      <td>2015</td>\n",
       "      <td>July</td>\n",
       "      <td>27</td>\n",
       "      <td>1</td>\n",
       "      <td>0</td>\n",
       "      <td>0</td>\n",
       "      <td>2.0</td>\n",
       "      <td>...</td>\n",
       "      <td>No Deposit</td>\n",
       "      <td>NaN</td>\n",
       "      <td>NaN</td>\n",
       "      <td>0</td>\n",
       "      <td>Transient</td>\n",
       "      <td>0.0</td>\n",
       "      <td>0</td>\n",
       "      <td>0</td>\n",
       "      <td>Check-Out</td>\n",
       "      <td>01/07/2015</td>\n",
       "    </tr>\n",
       "    <tr>\n",
       "      <th>2</th>\n",
       "      <td>Resort Hotel</td>\n",
       "      <td>0</td>\n",
       "      <td>7</td>\n",
       "      <td>2015</td>\n",
       "      <td>July</td>\n",
       "      <td>27</td>\n",
       "      <td>1</td>\n",
       "      <td>0</td>\n",
       "      <td>1</td>\n",
       "      <td>1.0</td>\n",
       "      <td>...</td>\n",
       "      <td>No Deposit</td>\n",
       "      <td>NaN</td>\n",
       "      <td>NaN</td>\n",
       "      <td>0</td>\n",
       "      <td>Transient</td>\n",
       "      <td>75.0</td>\n",
       "      <td>0</td>\n",
       "      <td>0</td>\n",
       "      <td>Check-Out</td>\n",
       "      <td>02/07/2015</td>\n",
       "    </tr>\n",
       "    <tr>\n",
       "      <th>3</th>\n",
       "      <td>Resort Hotel</td>\n",
       "      <td>0</td>\n",
       "      <td>13</td>\n",
       "      <td>2015</td>\n",
       "      <td>July</td>\n",
       "      <td>27</td>\n",
       "      <td>1</td>\n",
       "      <td>0</td>\n",
       "      <td>1</td>\n",
       "      <td>1.0</td>\n",
       "      <td>...</td>\n",
       "      <td>No Deposit</td>\n",
       "      <td>304.0</td>\n",
       "      <td>NaN</td>\n",
       "      <td>0</td>\n",
       "      <td>Transient</td>\n",
       "      <td>75.0</td>\n",
       "      <td>0</td>\n",
       "      <td>0</td>\n",
       "      <td>Check-Out</td>\n",
       "      <td>02/07/2015</td>\n",
       "    </tr>\n",
       "    <tr>\n",
       "      <th>4</th>\n",
       "      <td>Resort Hotel</td>\n",
       "      <td>0</td>\n",
       "      <td>14</td>\n",
       "      <td>2015</td>\n",
       "      <td>July</td>\n",
       "      <td>27</td>\n",
       "      <td>1</td>\n",
       "      <td>0</td>\n",
       "      <td>2</td>\n",
       "      <td>2.0</td>\n",
       "      <td>...</td>\n",
       "      <td>No Deposit</td>\n",
       "      <td>240.0</td>\n",
       "      <td>NaN</td>\n",
       "      <td>0</td>\n",
       "      <td>Transient</td>\n",
       "      <td>98.0</td>\n",
       "      <td>0</td>\n",
       "      <td>1</td>\n",
       "      <td>Check-Out</td>\n",
       "      <td>03/07/2015</td>\n",
       "    </tr>\n",
       "    <tr>\n",
       "      <th>5</th>\n",
       "      <td>Resort Hotel</td>\n",
       "      <td>0</td>\n",
       "      <td>14</td>\n",
       "      <td>2015</td>\n",
       "      <td>July</td>\n",
       "      <td>27</td>\n",
       "      <td>1</td>\n",
       "      <td>0</td>\n",
       "      <td>2</td>\n",
       "      <td>2.0</td>\n",
       "      <td>...</td>\n",
       "      <td>No Deposit</td>\n",
       "      <td>240.0</td>\n",
       "      <td>NaN</td>\n",
       "      <td>0</td>\n",
       "      <td>Transient</td>\n",
       "      <td>98.0</td>\n",
       "      <td>0</td>\n",
       "      <td>1</td>\n",
       "      <td>Check-Out</td>\n",
       "      <td>03/07/2015</td>\n",
       "    </tr>\n",
       "    <tr>\n",
       "      <th>6</th>\n",
       "      <td>Resort Hotel</td>\n",
       "      <td>0</td>\n",
       "      <td>0</td>\n",
       "      <td>2015</td>\n",
       "      <td>July</td>\n",
       "      <td>27</td>\n",
       "      <td>1</td>\n",
       "      <td>0</td>\n",
       "      <td>2</td>\n",
       "      <td>2.0</td>\n",
       "      <td>...</td>\n",
       "      <td>No Deposit</td>\n",
       "      <td>NaN</td>\n",
       "      <td>NaN</td>\n",
       "      <td>0</td>\n",
       "      <td>Transient</td>\n",
       "      <td>107.0</td>\n",
       "      <td>0</td>\n",
       "      <td>0</td>\n",
       "      <td>Check-Out</td>\n",
       "      <td>03/07/2015</td>\n",
       "    </tr>\n",
       "    <tr>\n",
       "      <th>7</th>\n",
       "      <td>Resort Hotel</td>\n",
       "      <td>0</td>\n",
       "      <td>9</td>\n",
       "      <td>2015</td>\n",
       "      <td>July</td>\n",
       "      <td>27</td>\n",
       "      <td>1</td>\n",
       "      <td>0</td>\n",
       "      <td>2</td>\n",
       "      <td>2.0</td>\n",
       "      <td>...</td>\n",
       "      <td>No Deposit</td>\n",
       "      <td>303.0</td>\n",
       "      <td>NaN</td>\n",
       "      <td>0</td>\n",
       "      <td>Transient</td>\n",
       "      <td>103.0</td>\n",
       "      <td>0</td>\n",
       "      <td>1</td>\n",
       "      <td>Check-Out</td>\n",
       "      <td>03/07/2015</td>\n",
       "    </tr>\n",
       "    <tr>\n",
       "      <th>8</th>\n",
       "      <td>Resort Hotel</td>\n",
       "      <td>1</td>\n",
       "      <td>85</td>\n",
       "      <td>2015</td>\n",
       "      <td>July</td>\n",
       "      <td>27</td>\n",
       "      <td>1</td>\n",
       "      <td>0</td>\n",
       "      <td>3</td>\n",
       "      <td>2.0</td>\n",
       "      <td>...</td>\n",
       "      <td>No Deposit</td>\n",
       "      <td>240.0</td>\n",
       "      <td>NaN</td>\n",
       "      <td>0</td>\n",
       "      <td>Transient</td>\n",
       "      <td>82.0</td>\n",
       "      <td>0</td>\n",
       "      <td>1</td>\n",
       "      <td>Canceled</td>\n",
       "      <td>06/05/2015</td>\n",
       "    </tr>\n",
       "    <tr>\n",
       "      <th>9</th>\n",
       "      <td>Resort Hotel</td>\n",
       "      <td>1</td>\n",
       "      <td>75</td>\n",
       "      <td>2015</td>\n",
       "      <td>July</td>\n",
       "      <td>27</td>\n",
       "      <td>1</td>\n",
       "      <td>0</td>\n",
       "      <td>3</td>\n",
       "      <td>2.0</td>\n",
       "      <td>...</td>\n",
       "      <td>No Deposit</td>\n",
       "      <td>15.0</td>\n",
       "      <td>NaN</td>\n",
       "      <td>0</td>\n",
       "      <td>Transient</td>\n",
       "      <td>105.5</td>\n",
       "      <td>0</td>\n",
       "      <td>0</td>\n",
       "      <td>Canceled</td>\n",
       "      <td>22/04/2015</td>\n",
       "    </tr>\n",
       "  </tbody>\n",
       "</table>\n",
       "<p>10 rows × 32 columns</p>\n",
       "</div>"
      ],
      "text/plain": [
       "          hotel  is_canceled  lead_time  arrival_date_year arrival_date_month  \\\n",
       "0  Resort Hotel            0        342               2015               July   \n",
       "1  Resort Hotel            0        737               2015               July   \n",
       "2  Resort Hotel            0          7               2015               July   \n",
       "3  Resort Hotel            0         13               2015               July   \n",
       "4  Resort Hotel            0         14               2015               July   \n",
       "5  Resort Hotel            0         14               2015               July   \n",
       "6  Resort Hotel            0          0               2015               July   \n",
       "7  Resort Hotel            0          9               2015               July   \n",
       "8  Resort Hotel            1         85               2015               July   \n",
       "9  Resort Hotel            1         75               2015               July   \n",
       "\n",
       "   arrival_date_week_number  arrival_date_day_of_month  \\\n",
       "0                        27                          1   \n",
       "1                        27                          1   \n",
       "2                        27                          1   \n",
       "3                        27                          1   \n",
       "4                        27                          1   \n",
       "5                        27                          1   \n",
       "6                        27                          1   \n",
       "7                        27                          1   \n",
       "8                        27                          1   \n",
       "9                        27                          1   \n",
       "\n",
       "   stays_in_weekend_nights  stays_in_week_nights  adults  ...  deposit_type  \\\n",
       "0                        0                     0     2.0  ...    No Deposit   \n",
       "1                        0                     0     2.0  ...    No Deposit   \n",
       "2                        0                     1     1.0  ...    No Deposit   \n",
       "3                        0                     1     1.0  ...    No Deposit   \n",
       "4                        0                     2     2.0  ...    No Deposit   \n",
       "5                        0                     2     2.0  ...    No Deposit   \n",
       "6                        0                     2     2.0  ...    No Deposit   \n",
       "7                        0                     2     2.0  ...    No Deposit   \n",
       "8                        0                     3     2.0  ...    No Deposit   \n",
       "9                        0                     3     2.0  ...    No Deposit   \n",
       "\n",
       "   agent company days_in_waiting_list customer_type    adr  \\\n",
       "0    NaN     NaN                    0     Transient    0.0   \n",
       "1    NaN     NaN                    0     Transient    0.0   \n",
       "2    NaN     NaN                    0     Transient   75.0   \n",
       "3  304.0     NaN                    0     Transient   75.0   \n",
       "4  240.0     NaN                    0     Transient   98.0   \n",
       "5  240.0     NaN                    0     Transient   98.0   \n",
       "6    NaN     NaN                    0     Transient  107.0   \n",
       "7  303.0     NaN                    0     Transient  103.0   \n",
       "8  240.0     NaN                    0     Transient   82.0   \n",
       "9   15.0     NaN                    0     Transient  105.5   \n",
       "\n",
       "   required_car_parking_spaces  total_of_special_requests  reservation_status  \\\n",
       "0                            0                          0           Check-Out   \n",
       "1                            0                          0           Check-Out   \n",
       "2                            0                          0           Check-Out   \n",
       "3                            0                          0           Check-Out   \n",
       "4                            0                          1           Check-Out   \n",
       "5                            0                          1           Check-Out   \n",
       "6                            0                          0           Check-Out   \n",
       "7                            0                          1           Check-Out   \n",
       "8                            0                          1            Canceled   \n",
       "9                            0                          0            Canceled   \n",
       "\n",
       "  reservation_status_date  \n",
       "0              01/07/2015  \n",
       "1              01/07/2015  \n",
       "2              02/07/2015  \n",
       "3              02/07/2015  \n",
       "4              03/07/2015  \n",
       "5              03/07/2015  \n",
       "6              03/07/2015  \n",
       "7              03/07/2015  \n",
       "8              06/05/2015  \n",
       "9              22/04/2015  \n",
       "\n",
       "[10 rows x 32 columns]"
      ]
     },
     "execution_count": 3,
     "metadata": {},
     "output_type": "execute_result"
    }
   ],
   "source": [
    "data.head(10)"
   ]
  },
  {
   "cell_type": "code",
   "execution_count": 4,
   "id": "53886e2c-5957-4a60-8aba-f122a905156b",
   "metadata": {},
   "outputs": [
    {
     "data": {
      "text/plain": [
       "hotel                                  0\n",
       "is_canceled                            0\n",
       "lead_time                              0\n",
       "arrival_date_year                      0\n",
       "arrival_date_month                     0\n",
       "arrival_date_week_number               0\n",
       "arrival_date_day_of_month              0\n",
       "stays_in_weekend_nights                0\n",
       "stays_in_week_nights                   0\n",
       "adults                                 1\n",
       "children                               4\n",
       "babies                                 0\n",
       "meal                                   0\n",
       "country                              507\n",
       "market_segment                         2\n",
       "distribution_channel                   1\n",
       "is_repeated_guest                      0\n",
       "previous_cancellations                 0\n",
       "previous_bookings_not_canceled         0\n",
       "reserved_room_type                     1\n",
       "assigned_room_type                     1\n",
       "booking_changes                        0\n",
       "deposit_type                          21\n",
       "agent                              16340\n",
       "company                           112593\n",
       "days_in_waiting_list                   0\n",
       "customer_type                         31\n",
       "adr                                    0\n",
       "required_car_parking_spaces            0\n",
       "total_of_special_requests              0\n",
       "reservation_status                     1\n",
       "reservation_status_date                0\n",
       "dtype: int64"
      ]
     },
     "execution_count": 4,
     "metadata": {},
     "output_type": "execute_result"
    }
   ],
   "source": [
    "data.isna().sum()"
   ]
  },
  {
   "cell_type": "markdown",
   "id": "4dbd474d-0baf-4e84-a2b3-0040acb5a9dd",
   "metadata": {},
   "source": [
    "### For handling empty data on adults column"
   ]
  },
  {
   "cell_type": "code",
   "execution_count": 5,
   "id": "1e987d6b-9676-40a0-85c1-44c42e47a9e9",
   "metadata": {},
   "outputs": [
    {
     "data": {
      "text/html": [
       "<div>\n",
       "<style scoped>\n",
       "    .dataframe tbody tr th:only-of-type {\n",
       "        vertical-align: middle;\n",
       "    }\n",
       "\n",
       "    .dataframe tbody tr th {\n",
       "        vertical-align: top;\n",
       "    }\n",
       "\n",
       "    .dataframe thead th {\n",
       "        text-align: right;\n",
       "    }\n",
       "</style>\n",
       "<table border=\"1\" class=\"dataframe\">\n",
       "  <thead>\n",
       "    <tr style=\"text-align: right;\">\n",
       "      <th></th>\n",
       "      <th>hotel</th>\n",
       "      <th>is_canceled</th>\n",
       "      <th>lead_time</th>\n",
       "      <th>arrival_date_year</th>\n",
       "      <th>arrival_date_month</th>\n",
       "      <th>arrival_date_week_number</th>\n",
       "      <th>arrival_date_day_of_month</th>\n",
       "      <th>stays_in_weekend_nights</th>\n",
       "      <th>stays_in_week_nights</th>\n",
       "      <th>adults</th>\n",
       "      <th>...</th>\n",
       "      <th>deposit_type</th>\n",
       "      <th>agent</th>\n",
       "      <th>company</th>\n",
       "      <th>days_in_waiting_list</th>\n",
       "      <th>customer_type</th>\n",
       "      <th>adr</th>\n",
       "      <th>required_car_parking_spaces</th>\n",
       "      <th>total_of_special_requests</th>\n",
       "      <th>reservation_status</th>\n",
       "      <th>reservation_status_date</th>\n",
       "    </tr>\n",
       "  </thead>\n",
       "  <tbody>\n",
       "    <tr>\n",
       "      <th>740</th>\n",
       "      <td>Resort Hotel</td>\n",
       "      <td>1</td>\n",
       "      <td>74</td>\n",
       "      <td>2015</td>\n",
       "      <td>July</td>\n",
       "      <td>31</td>\n",
       "      <td>27</td>\n",
       "      <td>1</td>\n",
       "      <td>3</td>\n",
       "      <td>NaN</td>\n",
       "      <td>...</td>\n",
       "      <td>No Deposit</td>\n",
       "      <td>171.0</td>\n",
       "      <td>NaN</td>\n",
       "      <td>0</td>\n",
       "      <td>Transient</td>\n",
       "      <td>107.0</td>\n",
       "      <td>0</td>\n",
       "      <td>1</td>\n",
       "      <td>Canceled</td>\n",
       "      <td>29/06/2015</td>\n",
       "    </tr>\n",
       "  </tbody>\n",
       "</table>\n",
       "<p>1 rows × 32 columns</p>\n",
       "</div>"
      ],
      "text/plain": [
       "            hotel  is_canceled  lead_time  arrival_date_year  \\\n",
       "740  Resort Hotel            1         74               2015   \n",
       "\n",
       "    arrival_date_month  arrival_date_week_number  arrival_date_day_of_month  \\\n",
       "740               July                        31                         27   \n",
       "\n",
       "     stays_in_weekend_nights  stays_in_week_nights  adults  ...  deposit_type  \\\n",
       "740                        1                     3     NaN  ...    No Deposit   \n",
       "\n",
       "     agent company days_in_waiting_list customer_type    adr  \\\n",
       "740  171.0     NaN                    0     Transient  107.0   \n",
       "\n",
       "     required_car_parking_spaces  total_of_special_requests  \\\n",
       "740                            0                          1   \n",
       "\n",
       "     reservation_status reservation_status_date  \n",
       "740            Canceled              29/06/2015  \n",
       "\n",
       "[1 rows x 32 columns]"
      ]
     },
     "execution_count": 5,
     "metadata": {},
     "output_type": "execute_result"
    }
   ],
   "source": [
    "empty_adults=data[data['adults'].isna()]\n",
    "empty_adults"
   ]
  },
  {
   "cell_type": "code",
   "execution_count": 7,
   "id": "0f2bf0ac-1bc0-41de-93c8-6d36f62bc4c0",
   "metadata": {},
   "outputs": [],
   "source": [
    "adults_median = data['adults'].median()\n",
    "data['adults_filled']=data['adults'].fillna(adults_median)"
   ]
  },
  {
   "cell_type": "code",
   "execution_count": 8,
   "id": "f0099def-29bf-4591-8549-515e09a587de",
   "metadata": {},
   "outputs": [
    {
     "data": {
      "text/plain": [
       "0"
      ]
     },
     "execution_count": 8,
     "metadata": {},
     "output_type": "execute_result"
    }
   ],
   "source": [
    "data['adults_filled'].isna().sum()"
   ]
  },
  {
   "cell_type": "markdown",
   "id": "b9a0ef12-e381-4882-a76b-068b6233c507",
   "metadata": {},
   "source": [
    "### For children"
   ]
  },
  {
   "cell_type": "code",
   "execution_count": 10,
   "id": "3cc37e34-6f20-4e4e-a3ed-1316921cc737",
   "metadata": {},
   "outputs": [
    {
     "data": {
      "text/plain": [
       "4"
      ]
     },
     "execution_count": 10,
     "metadata": {},
     "output_type": "execute_result"
    }
   ],
   "source": [
    "data['children'].isna().sum()"
   ]
  },
  {
   "cell_type": "code",
   "execution_count": 13,
   "id": "e892e38c-77ea-4159-8b97-5c2b4b9ad599",
   "metadata": {},
   "outputs": [
    {
     "data": {
      "text/plain": [
       "40600   NaN\n",
       "40667   NaN\n",
       "40679   NaN\n",
       "41160   NaN\n",
       "Name: children, dtype: float64"
      ]
     },
     "execution_count": 13,
     "metadata": {},
     "output_type": "execute_result"
    }
   ],
   "source": [
    "empty_children=data[data['children'].isna()]\n",
    "empty_children['children']"
   ]
  },
  {
   "cell_type": "code",
   "execution_count": 17,
   "id": "50f90ca5-34ba-4fbe-afef-94a15906c747",
   "metadata": {},
   "outputs": [
    {
     "data": {
      "text/plain": [
       "0.0"
      ]
     },
     "execution_count": 17,
     "metadata": {},
     "output_type": "execute_result"
    }
   ],
   "source": [
    "children_median = data['children'].median()\n",
    "children_median"
   ]
  },
  {
   "cell_type": "code",
   "execution_count": 23,
   "id": "e779e829-e62c-4b12-ab23-15e16756374a",
   "metadata": {},
   "outputs": [],
   "source": [
    "data['children_filled']=data['children'].fillna(children_median)"
   ]
  },
  {
   "cell_type": "code",
   "execution_count": 24,
   "id": "236dba2e-6f00-4f21-8733-dde995cb7bb9",
   "metadata": {},
   "outputs": [
    {
     "data": {
      "text/plain": [
       "0"
      ]
     },
     "execution_count": 24,
     "metadata": {},
     "output_type": "execute_result"
    }
   ],
   "source": [
    "data['children_filled'].isna().sum()"
   ]
  },
  {
   "cell_type": "code",
   "execution_count": 25,
   "id": "62302be8-4179-4638-a3ef-87ff6c6abfe2",
   "metadata": {},
   "outputs": [
    {
     "data": {
      "text/plain": [
       "0         0.0\n",
       "1         0.0\n",
       "2         0.0\n",
       "3         0.0\n",
       "4         0.0\n",
       "         ... \n",
       "119385    0.0\n",
       "119386    0.0\n",
       "119387    0.0\n",
       "119388    0.0\n",
       "119389    0.0\n",
       "Name: children_filled, Length: 119390, dtype: float64"
      ]
     },
     "execution_count": 25,
     "metadata": {},
     "output_type": "execute_result"
    }
   ],
   "source": [
    "data['children_filled']"
   ]
  },
  {
   "cell_type": "markdown",
   "id": "4fc43889-b2bf-4282-b89d-88c10bbfdd48",
   "metadata": {},
   "source": [
    "### For countries"
   ]
  },
  {
   "cell_type": "code",
   "execution_count": 28,
   "id": "a9de0350-c8b5-4872-b6c9-c2e3596e0d30",
   "metadata": {},
   "outputs": [
    {
     "data": {
      "text/plain": [
       "507"
      ]
     },
     "execution_count": 28,
     "metadata": {},
     "output_type": "execute_result"
    }
   ],
   "source": [
    "data['country'].isna().sum()"
   ]
  },
  {
   "cell_type": "code",
   "execution_count": 37,
   "id": "a63a6bd8-c6b6-467a-9d09-6e6fcc414406",
   "metadata": {},
   "outputs": [
    {
     "data": {
      "text/plain": [
       "'PRT'"
      ]
     },
     "execution_count": 37,
     "metadata": {},
     "output_type": "execute_result"
    }
   ],
   "source": [
    "mode_country = data['country'].mode()[0]\n",
    "mode_country"
   ]
  },
  {
   "cell_type": "code",
   "execution_count": 38,
   "id": "fe8322bf-eba1-436d-9bfc-f856f11886e0",
   "metadata": {},
   "outputs": [],
   "source": [
    "data['country_filled']=data['country'].fillna(mode_country)"
   ]
  },
  {
   "cell_type": "code",
   "execution_count": 39,
   "id": "6f1192d6-6887-4510-8180-24527afe65f2",
   "metadata": {},
   "outputs": [
    {
     "data": {
      "text/plain": [
       "0"
      ]
     },
     "execution_count": 39,
     "metadata": {},
     "output_type": "execute_result"
    }
   ],
   "source": [
    "data['country_filled'].isna().sum()"
   ]
  },
  {
   "cell_type": "markdown",
   "id": "935d51c4-d4fe-4113-8796-c32c3775e6fd",
   "metadata": {},
   "source": [
    "### For Market Segment"
   ]
  },
  {
   "cell_type": "code",
   "execution_count": 40,
   "id": "fc133aeb-cbf7-40ef-96f0-c1de0456eb11",
   "metadata": {},
   "outputs": [
    {
     "data": {
      "text/plain": [
       "0                Direct\n",
       "1                Direct\n",
       "2                Direct\n",
       "3             Corporate\n",
       "4             Online TA\n",
       "              ...      \n",
       "119385    Offline TA/TO\n",
       "119386        Online TA\n",
       "119387        Online TA\n",
       "119388        Online TA\n",
       "119389        Online TA\n",
       "Name: market_segment, Length: 119390, dtype: object"
      ]
     },
     "execution_count": 40,
     "metadata": {},
     "output_type": "execute_result"
    }
   ],
   "source": [
    "data['market_segment']"
   ]
  },
  {
   "cell_type": "code",
   "execution_count": 41,
   "id": "c18165a3-7e1d-447b-b123-975a5cf24b2d",
   "metadata": {},
   "outputs": [
    {
     "data": {
      "text/plain": [
       "'Online TA'"
      ]
     },
     "execution_count": 41,
     "metadata": {},
     "output_type": "execute_result"
    }
   ],
   "source": [
    "mode_market = data['market_segment'].mode()[0]\n",
    "mode_market"
   ]
  },
  {
   "cell_type": "code",
   "execution_count": 43,
   "id": "c08d2253-36c1-4bd0-b78d-7780e733fbf9",
   "metadata": {},
   "outputs": [
    {
     "data": {
      "text/plain": [
       "0                Direct\n",
       "1                Direct\n",
       "2                Direct\n",
       "3             Corporate\n",
       "4             Online TA\n",
       "              ...      \n",
       "119385    Offline TA/TO\n",
       "119386        Online TA\n",
       "119387        Online TA\n",
       "119388        Online TA\n",
       "119389        Online TA\n",
       "Name: market_segment_filled, Length: 119390, dtype: object"
      ]
     },
     "execution_count": 43,
     "metadata": {},
     "output_type": "execute_result"
    }
   ],
   "source": [
    "data['market_segment_filled']=data['market_segment'].fillna(mode_market)\n",
    "data['market_segment_filled']"
   ]
  },
  {
   "cell_type": "code",
   "execution_count": 44,
   "id": "e61a900f-ed6d-403e-b53a-7a65a79bc30c",
   "metadata": {},
   "outputs": [
    {
     "data": {
      "text/plain": [
       "0"
      ]
     },
     "execution_count": 44,
     "metadata": {},
     "output_type": "execute_result"
    }
   ],
   "source": [
    "data['market_segment_filled'].isna().sum()"
   ]
  },
  {
   "cell_type": "markdown",
   "id": "21ec12e7-b0f8-46f9-8284-495ae758932d",
   "metadata": {},
   "source": [
    "### For distribution channel"
   ]
  },
  {
   "cell_type": "code",
   "execution_count": 46,
   "id": "021efe7a-6e4f-4792-a28b-9bc44e07af13",
   "metadata": {},
   "outputs": [
    {
     "data": {
      "text/plain": [
       "0            Direct\n",
       "1            Direct\n",
       "2            Direct\n",
       "3         Corporate\n",
       "4             TA/TO\n",
       "            ...    \n",
       "119385        TA/TO\n",
       "119386        TA/TO\n",
       "119387        TA/TO\n",
       "119388        TA/TO\n",
       "119389        TA/TO\n",
       "Name: distribution_channel, Length: 119390, dtype: object"
      ]
     },
     "execution_count": 46,
     "metadata": {},
     "output_type": "execute_result"
    }
   ],
   "source": [
    "data['distribution_channel']"
   ]
  },
  {
   "cell_type": "code",
   "execution_count": 47,
   "id": "58692f0f-691a-4d2e-83a1-e22cc85d1df9",
   "metadata": {},
   "outputs": [
    {
     "data": {
      "text/plain": [
       "'TA/TO'"
      ]
     },
     "execution_count": 47,
     "metadata": {},
     "output_type": "execute_result"
    }
   ],
   "source": [
    "mode_channel = data['distribution_channel'].mode()[0]\n",
    "mode_channel"
   ]
  },
  {
   "cell_type": "code",
   "execution_count": 48,
   "id": "bf5088bd-8df2-4ecc-957b-871ad0af43af",
   "metadata": {},
   "outputs": [
    {
     "data": {
      "text/plain": [
       "0            Direct\n",
       "1            Direct\n",
       "2            Direct\n",
       "3         Corporate\n",
       "4             TA/TO\n",
       "            ...    \n",
       "119385        TA/TO\n",
       "119386        TA/TO\n",
       "119387        TA/TO\n",
       "119388        TA/TO\n",
       "119389        TA/TO\n",
       "Name: distribution_channel_filled, Length: 119390, dtype: object"
      ]
     },
     "execution_count": 48,
     "metadata": {},
     "output_type": "execute_result"
    }
   ],
   "source": [
    "data['distribution_channel_filled']=data['distribution_channel'].fillna(mode_channel)\n",
    "data['distribution_channel_filled']"
   ]
  },
  {
   "cell_type": "code",
   "execution_count": 49,
   "id": "613e95b8-4883-4e36-a98e-d2451207644b",
   "metadata": {},
   "outputs": [
    {
     "data": {
      "text/plain": [
       "0"
      ]
     },
     "execution_count": 49,
     "metadata": {},
     "output_type": "execute_result"
    }
   ],
   "source": [
    "data['distribution_channel_filled'].isna().sum()"
   ]
  },
  {
   "cell_type": "markdown",
   "id": "443f1428-5e60-497d-9dde-fedcfba657ae",
   "metadata": {},
   "source": [
    "### For reserved room type and assigned room type"
   ]
  },
  {
   "cell_type": "code",
   "execution_count": 53,
   "id": "1ab88e06-17e1-4b4b-b305-a80254cea223",
   "metadata": {},
   "outputs": [
    {
     "data": {
      "text/plain": [
       "0         C\n",
       "1         C\n",
       "2         A\n",
       "3         A\n",
       "4         A\n",
       "         ..\n",
       "119385    A\n",
       "119386    E\n",
       "119387    D\n",
       "119388    A\n",
       "119389    A\n",
       "Name: reserved_room_type, Length: 119390, dtype: object"
      ]
     },
     "execution_count": 53,
     "metadata": {},
     "output_type": "execute_result"
    }
   ],
   "source": [
    "data['reserved_room_type']"
   ]
  },
  {
   "cell_type": "code",
   "execution_count": 54,
   "id": "93fd56da-92ef-4f88-9fd9-26d032fc4088",
   "metadata": {},
   "outputs": [
    {
     "data": {
      "text/plain": [
       "0         C\n",
       "1         C\n",
       "2         C\n",
       "3         A\n",
       "4         A\n",
       "         ..\n",
       "119385    A\n",
       "119386    E\n",
       "119387    D\n",
       "119388    A\n",
       "119389    A\n",
       "Name: assigned_room_type, Length: 119390, dtype: object"
      ]
     },
     "execution_count": 54,
     "metadata": {},
     "output_type": "execute_result"
    }
   ],
   "source": [
    "data['assigned_room_type']"
   ]
  },
  {
   "cell_type": "code",
   "execution_count": 55,
   "id": "7111e5cd-d58b-4267-b742-2edf8321ed82",
   "metadata": {},
   "outputs": [
    {
     "data": {
      "text/plain": [
       "'A'"
      ]
     },
     "execution_count": 55,
     "metadata": {},
     "output_type": "execute_result"
    }
   ],
   "source": [
    "mode_reserved = data['reserved_room_type'].mode()[0]\n",
    "mode_reserved"
   ]
  },
  {
   "cell_type": "code",
   "execution_count": 56,
   "id": "bd6ae47e-4e66-4f36-95f4-8601e4effd99",
   "metadata": {},
   "outputs": [
    {
     "data": {
      "text/plain": [
       "'A'"
      ]
     },
     "execution_count": 56,
     "metadata": {},
     "output_type": "execute_result"
    }
   ],
   "source": [
    "mode_assigned = data['assigned_room_type'].mode()[0]\n",
    "mode_assigned"
   ]
  },
  {
   "cell_type": "code",
   "execution_count": 57,
   "id": "2f00a7a5-b4f8-4536-895d-7835aa63c0b3",
   "metadata": {},
   "outputs": [
    {
     "data": {
      "text/plain": [
       "0         C\n",
       "1         C\n",
       "2         A\n",
       "3         A\n",
       "4         A\n",
       "         ..\n",
       "119385    A\n",
       "119386    E\n",
       "119387    D\n",
       "119388    A\n",
       "119389    A\n",
       "Name: reserved_room_type_filled, Length: 119390, dtype: object"
      ]
     },
     "execution_count": 57,
     "metadata": {},
     "output_type": "execute_result"
    }
   ],
   "source": [
    "data['reserved_room_type_filled']=data['reserved_room_type'].fillna(mode_reserved)\n",
    "data['reserved_room_type_filled']"
   ]
  },
  {
   "cell_type": "code",
   "execution_count": 58,
   "id": "00ea0a3c-9481-44be-9721-3c75502004b4",
   "metadata": {},
   "outputs": [
    {
     "data": {
      "text/plain": [
       "0         C\n",
       "1         C\n",
       "2         C\n",
       "3         A\n",
       "4         A\n",
       "         ..\n",
       "119385    A\n",
       "119386    E\n",
       "119387    D\n",
       "119388    A\n",
       "119389    A\n",
       "Name: assigned_room_type_filled, Length: 119390, dtype: object"
      ]
     },
     "execution_count": 58,
     "metadata": {},
     "output_type": "execute_result"
    }
   ],
   "source": [
    "data['assigned_room_type_filled']=data['assigned_room_type'].fillna(mode_assigned)\n",
    "data['assigned_room_type_filled']"
   ]
  },
  {
   "cell_type": "code",
   "execution_count": 60,
   "id": "0a970cc8-60bf-438f-8a51-523a30262ce5",
   "metadata": {},
   "outputs": [
    {
     "data": {
      "text/plain": [
       "0"
      ]
     },
     "execution_count": 60,
     "metadata": {},
     "output_type": "execute_result"
    }
   ],
   "source": [
    "data['reserved_room_type_filled'].isna().sum()"
   ]
  },
  {
   "cell_type": "code",
   "execution_count": 61,
   "id": "b7ccc878-bca5-45e9-8212-c97d93ced838",
   "metadata": {},
   "outputs": [
    {
     "data": {
      "text/plain": [
       "0"
      ]
     },
     "execution_count": 61,
     "metadata": {},
     "output_type": "execute_result"
    }
   ],
   "source": [
    "data['assigned_room_type_filled'].isna().sum()"
   ]
  },
  {
   "cell_type": "code",
   "execution_count": 11,
   "id": "694f7031-aac7-46d3-86fc-359aef2865c5",
   "metadata": {},
   "outputs": [],
   "source": [
    "data.to_csv('hotel_bookings_modifiedd.csv', index=False)"
   ]
  },
  {
   "cell_type": "markdown",
   "id": "2cf74a4c-afbb-4f6a-93c7-59be7f077ef7",
   "metadata": {},
   "source": [
    "### For deposit type"
   ]
  },
  {
   "cell_type": "code",
   "execution_count": 64,
   "id": "87633730-70fb-4229-9ccc-513cbbd98bf3",
   "metadata": {},
   "outputs": [
    {
     "data": {
      "text/plain": [
       "0         No Deposit\n",
       "1         No Deposit\n",
       "2         No Deposit\n",
       "3         No Deposit\n",
       "4         No Deposit\n",
       "             ...    \n",
       "119385    No Deposit\n",
       "119386    No Deposit\n",
       "119387    No Deposit\n",
       "119388    No Deposit\n",
       "119389    No Deposit\n",
       "Name: deposit_type, Length: 119390, dtype: object"
      ]
     },
     "execution_count": 64,
     "metadata": {},
     "output_type": "execute_result"
    }
   ],
   "source": [
    "data['deposit_type']"
   ]
  },
  {
   "cell_type": "code",
   "execution_count": 65,
   "id": "8907af51-3647-4764-88e7-1edebc824902",
   "metadata": {},
   "outputs": [
    {
     "data": {
      "text/plain": [
       "21"
      ]
     },
     "execution_count": 65,
     "metadata": {},
     "output_type": "execute_result"
    }
   ],
   "source": [
    "data['deposit_type'].isna().sum()"
   ]
  },
  {
   "cell_type": "code",
   "execution_count": 67,
   "id": "799beb51-abfa-47a6-baad-2a58345a49ce",
   "metadata": {},
   "outputs": [
    {
     "data": {
      "text/plain": [
       "'No Deposit'"
      ]
     },
     "execution_count": 67,
     "metadata": {},
     "output_type": "execute_result"
    }
   ],
   "source": [
    "mode_deposit = data['deposit_type'].mode()[0]\n",
    "mode_deposit"
   ]
  },
  {
   "cell_type": "code",
   "execution_count": 69,
   "id": "5b1496dd-076c-4a54-8d41-844e00657dac",
   "metadata": {},
   "outputs": [
    {
     "data": {
      "text/plain": [
       "0         No Deposit\n",
       "1         No Deposit\n",
       "2         No Deposit\n",
       "3         No Deposit\n",
       "4         No Deposit\n",
       "             ...    \n",
       "119385    No Deposit\n",
       "119386    No Deposit\n",
       "119387    No Deposit\n",
       "119388    No Deposit\n",
       "119389    No Deposit\n",
       "Name: deposit_type_filled, Length: 119390, dtype: object"
      ]
     },
     "execution_count": 69,
     "metadata": {},
     "output_type": "execute_result"
    }
   ],
   "source": [
    "data['deposit_type_filled']=data['deposit_type'].fillna(mode_deposit)\n",
    "data['deposit_type_filled']"
   ]
  },
  {
   "cell_type": "code",
   "execution_count": 70,
   "id": "f8bbf7eb-e3dd-41d1-b6cd-1ae7b81b88ca",
   "metadata": {},
   "outputs": [
    {
     "data": {
      "text/plain": [
       "0"
      ]
     },
     "execution_count": 70,
     "metadata": {},
     "output_type": "execute_result"
    }
   ],
   "source": [
    "data['deposit_type_filled'].isna().sum()"
   ]
  },
  {
   "cell_type": "markdown",
   "id": "df346a0e-90d8-467c-8c87-9093630853d8",
   "metadata": {},
   "source": [
    "### For agent and company"
   ]
  },
  {
   "cell_type": "code",
   "execution_count": 71,
   "id": "942fa68b-1676-4009-9a72-00010a88f655",
   "metadata": {},
   "outputs": [
    {
     "data": {
      "text/plain": [
       "0           NaN\n",
       "1           NaN\n",
       "2           NaN\n",
       "3         304.0\n",
       "4         240.0\n",
       "          ...  \n",
       "119385    394.0\n",
       "119386      9.0\n",
       "119387      9.0\n",
       "119388     89.0\n",
       "119389      9.0\n",
       "Name: agent, Length: 119390, dtype: float64"
      ]
     },
     "execution_count": 71,
     "metadata": {},
     "output_type": "execute_result"
    }
   ],
   "source": [
    "data['agent']"
   ]
  },
  {
   "cell_type": "code",
   "execution_count": 72,
   "id": "e35f5faf-8162-4f26-95f7-3a5055a51c2b",
   "metadata": {},
   "outputs": [
    {
     "data": {
      "text/plain": [
       "0        NaN\n",
       "1        NaN\n",
       "2        NaN\n",
       "3        NaN\n",
       "4        NaN\n",
       "          ..\n",
       "119385   NaN\n",
       "119386   NaN\n",
       "119387   NaN\n",
       "119388   NaN\n",
       "119389   NaN\n",
       "Name: company, Length: 119390, dtype: float64"
      ]
     },
     "execution_count": 72,
     "metadata": {},
     "output_type": "execute_result"
    }
   ],
   "source": [
    "data['company']"
   ]
  },
  {
   "cell_type": "code",
   "execution_count": 76,
   "id": "637b68cb-8ff4-4cf7-b322-85dc0703ac1f",
   "metadata": {},
   "outputs": [],
   "source": [
    "# Let 0 be undefined ids of agent and company\n",
    "data['agent_filled']=data['agent'].fillna(0)\n",
    "data['company_filled']=data['company'].fillna(0)"
   ]
  },
  {
   "cell_type": "code",
   "execution_count": 77,
   "id": "2264fd2c-3004-4fdb-a22b-72d624fc431d",
   "metadata": {},
   "outputs": [
    {
     "data": {
      "text/plain": [
       "0"
      ]
     },
     "execution_count": 77,
     "metadata": {},
     "output_type": "execute_result"
    }
   ],
   "source": [
    "data['agent_filled'].isna().sum()"
   ]
  },
  {
   "cell_type": "code",
   "execution_count": 78,
   "id": "3cf47235-d16a-4b70-87af-5184cd9b7499",
   "metadata": {},
   "outputs": [
    {
     "data": {
      "text/plain": [
       "0"
      ]
     },
     "execution_count": 78,
     "metadata": {},
     "output_type": "execute_result"
    }
   ],
   "source": [
    "data['company_filled'].isna().sum()"
   ]
  },
  {
   "cell_type": "markdown",
   "id": "84810ff9-57e1-46a4-bba4-339964f03b39",
   "metadata": {},
   "source": [
    "### For customer type"
   ]
  },
  {
   "cell_type": "code",
   "execution_count": 79,
   "id": "13236e16-08cb-4904-bc61-65a213ca6c29",
   "metadata": {},
   "outputs": [
    {
     "data": {
      "text/plain": [
       "0         Transient\n",
       "1         Transient\n",
       "2         Transient\n",
       "3         Transient\n",
       "4         Transient\n",
       "            ...    \n",
       "119385    Transient\n",
       "119386    Transient\n",
       "119387    Transient\n",
       "119388    Transient\n",
       "119389    Transient\n",
       "Name: customer_type, Length: 119390, dtype: object"
      ]
     },
     "execution_count": 79,
     "metadata": {},
     "output_type": "execute_result"
    }
   ],
   "source": [
    "data['customer_type']"
   ]
  },
  {
   "cell_type": "code",
   "execution_count": 82,
   "id": "a9c92cbe-ee9f-486f-ab3a-0be08290ccf4",
   "metadata": {},
   "outputs": [
    {
     "data": {
      "text/plain": [
       "0"
      ]
     },
     "execution_count": 82,
     "metadata": {},
     "output_type": "execute_result"
    }
   ],
   "source": [
    "mode_customer = data['customer_type'].mode()[0]\n",
    "data['customer_type_filled']=data['customer_type'].fillna(mode_customer)\n",
    "data['customer_type_filled'].isna().sum()"
   ]
  },
  {
   "cell_type": "markdown",
   "id": "500edc02-03e5-4762-bc40-4aec12b95ff9",
   "metadata": {},
   "source": [
    "### For Reservation status"
   ]
  },
  {
   "cell_type": "code",
   "execution_count": 83,
   "id": "eab1a797-03d4-40a4-9f58-506c27cbd9af",
   "metadata": {},
   "outputs": [
    {
     "data": {
      "text/plain": [
       "0         Check-Out\n",
       "1         Check-Out\n",
       "2         Check-Out\n",
       "3         Check-Out\n",
       "4         Check-Out\n",
       "            ...    \n",
       "119385    Check-Out\n",
       "119386    Check-Out\n",
       "119387    Check-Out\n",
       "119388    Check-Out\n",
       "119389    Check-Out\n",
       "Name: reservation_status, Length: 119390, dtype: object"
      ]
     },
     "execution_count": 83,
     "metadata": {},
     "output_type": "execute_result"
    }
   ],
   "source": [
    "data['reservation_status']"
   ]
  },
  {
   "cell_type": "code",
   "execution_count": 86,
   "id": "cbdd119a-adab-40b0-99aa-c13b62a3dfb5",
   "metadata": {},
   "outputs": [
    {
     "data": {
      "text/plain": [
       "1"
      ]
     },
     "execution_count": 86,
     "metadata": {},
     "output_type": "execute_result"
    }
   ],
   "source": [
    "data['reservation_status'].isna().sum()"
   ]
  },
  {
   "cell_type": "code",
   "execution_count": 88,
   "id": "554128a6-c50a-4c08-8b68-85b8f6b5f8b8",
   "metadata": {},
   "outputs": [],
   "source": [
    "data.dropna(subset=['reservation_status'], inplace=True)"
   ]
  },
  {
   "cell_type": "code",
   "execution_count": 89,
   "id": "d57797e5-8d92-4ed6-a781-dff7a6a5ef71",
   "metadata": {},
   "outputs": [
    {
     "data": {
      "text/plain": [
       "0"
      ]
     },
     "execution_count": 89,
     "metadata": {},
     "output_type": "execute_result"
    }
   ],
   "source": [
    "data['reservation_status'].isna().sum()"
   ]
  },
  {
   "cell_type": "markdown",
   "id": "08e3545c-e5f3-4006-a74f-1be7c44f4fb7",
   "metadata": {},
   "source": [
    "### Marks the ending of filling null values and imputation "
   ]
  },
  {
   "cell_type": "markdown",
   "id": "f03ba1e9-7e7f-4a65-a466-c6778735082e",
   "metadata": {},
   "source": [
    "### 2. Descriptive Status"
   ]
  },
  {
   "cell_type": "markdown",
   "id": "05ca6e9b-6198-4549-84dd-91cdb64cddcb",
   "metadata": {},
   "source": [
    "Calculate summary statistics (mean, median, mode, standard deviation, etc.) for\n",
    "numerical columns like lead_time, stays_in_weekend_nights,\n",
    "stays_in_week_nights, adults, children, babies, previous_cancellations,\n",
    "previous_bookings_not_canceled, days_in_waiting_list, adr,\n",
    "required_car_parking_spaces, and total_of_special_requests."
   ]
  },
  {
   "cell_type": "code",
   "execution_count": 92,
   "id": "d630b417-bca2-4dee-9040-186cc870baaa",
   "metadata": {},
   "outputs": [
    {
     "name": "stdout",
     "output_type": "stream",
     "text": [
      "The mean value of lead_time is:  104.0113410783238\n",
      "The median value is:  69.0\n",
      "The mode value is:  0\n",
      "\n",
      "\n",
      "The mean value of stays_in_weekend_nights is:  0.9275896439370461\n",
      "The median value is:  1.0\n",
      "The mode value is:  0\n",
      "\n",
      "\n",
      "The mean value of lead_time is:  2.5002722193836955\n",
      "The median value is:  2.0\n",
      "The mode value is:  2\n"
     ]
    }
   ],
   "source": [
    "# Calculation of mean,median,mode,sd of the following columns.\n",
    "# a. Leat_time\n",
    "lead_time_mean = data['lead_time'].mean()\n",
    "print(f\"The mean value of lead_time is: \",lead_time_mean)\n",
    "\n",
    "lead_time_median = data['lead_time'].median()\n",
    "print(\"The median value is: \",lead_time_median)\n",
    "\n",
    "lead_time_mode = data['lead_time'].mode()[0]\n",
    "print(\"The mode value is: \",lead_time_mode)\n",
    "\n",
    "# b. Stays_in_weekend_nights\n",
    "print(\"\\n\")\n",
    "stays_in_weekend_nights_mean = data['stays_in_weekend_nights'].mean()\n",
    "print(f\"The mean value of stays_in_weekend_nights is: \",stays_in_weekend_nights_mean)\n",
    "\n",
    "stays_in_weekend_nights_median = data['stays_in_weekend_nights'].median()\n",
    "print(\"The median value is: \",stays_in_weekend_nights_median)\n",
    "\n",
    "stays_in_weekend_nights_mode = data['stays_in_weekend_nights'].mode()[0]\n",
    "print(\"The mode value is: \",stays_in_weekend_nights_mode)\n",
    "\n",
    "# c. Stays_in_week_nights\n",
    "print(\"\\n\")\n",
    "stays_in_week_nights_mean = data['stays_in_week_nights'].mean()\n",
    "print(f\"The mean value of lead_time is: \",stays_in_week_nights_mean)\n",
    "\n",
    "stays_in_week_nights_median = data['stays_in_week_nights'].median()\n",
    "print(\"The median value is: \",stays_in_week_nights_median)\n",
    "\n",
    "stays_in_week_nights_mode = data['stays_in_week_nights'].mode()[0]\n",
    "print(\"The mode value is: \",stays_in_week_nights_mode)"
   ]
  },
  {
   "cell_type": "code",
   "execution_count": 93,
   "id": "f88bcd48-54f5-42b7-b1f9-b98543d2457f",
   "metadata": {},
   "outputs": [
    {
     "data": {
      "text/html": [
       "<div>\n",
       "<style scoped>\n",
       "    .dataframe tbody tr th:only-of-type {\n",
       "        vertical-align: middle;\n",
       "    }\n",
       "\n",
       "    .dataframe tbody tr th {\n",
       "        vertical-align: top;\n",
       "    }\n",
       "\n",
       "    .dataframe thead th {\n",
       "        text-align: right;\n",
       "    }\n",
       "</style>\n",
       "<table border=\"1\" class=\"dataframe\">\n",
       "  <thead>\n",
       "    <tr style=\"text-align: right;\">\n",
       "      <th></th>\n",
       "      <th>is_canceled</th>\n",
       "      <th>lead_time</th>\n",
       "      <th>arrival_date_year</th>\n",
       "      <th>arrival_date_week_number</th>\n",
       "      <th>arrival_date_day_of_month</th>\n",
       "      <th>stays_in_weekend_nights</th>\n",
       "      <th>stays_in_week_nights</th>\n",
       "      <th>adults</th>\n",
       "      <th>children</th>\n",
       "      <th>babies</th>\n",
       "      <th>...</th>\n",
       "      <th>agent</th>\n",
       "      <th>company</th>\n",
       "      <th>days_in_waiting_list</th>\n",
       "      <th>adr</th>\n",
       "      <th>required_car_parking_spaces</th>\n",
       "      <th>total_of_special_requests</th>\n",
       "      <th>adults_filled</th>\n",
       "      <th>children_filled</th>\n",
       "      <th>agent_filled</th>\n",
       "      <th>company_filled</th>\n",
       "    </tr>\n",
       "  </thead>\n",
       "  <tbody>\n",
       "    <tr>\n",
       "      <th>count</th>\n",
       "      <td>119389.000000</td>\n",
       "      <td>119389.000000</td>\n",
       "      <td>119389.000000</td>\n",
       "      <td>119389.000000</td>\n",
       "      <td>119389.000000</td>\n",
       "      <td>119389.000000</td>\n",
       "      <td>119389.000000</td>\n",
       "      <td>119388.000000</td>\n",
       "      <td>119385.000000</td>\n",
       "      <td>119389.000000</td>\n",
       "      <td>...</td>\n",
       "      <td>119389.000000</td>\n",
       "      <td>119389.000000</td>\n",
       "      <td>119389.000000</td>\n",
       "      <td>119389.000000</td>\n",
       "      <td>119389.000000</td>\n",
       "      <td>119389.000000</td>\n",
       "      <td>119389.000000</td>\n",
       "      <td>119389.000000</td>\n",
       "      <td>119389.000000</td>\n",
       "      <td>119389.000000</td>\n",
       "    </tr>\n",
       "    <tr>\n",
       "      <th>mean</th>\n",
       "      <td>0.370419</td>\n",
       "      <td>104.011341</td>\n",
       "      <td>2016.156564</td>\n",
       "      <td>27.165158</td>\n",
       "      <td>15.798239</td>\n",
       "      <td>0.927590</td>\n",
       "      <td>2.500272</td>\n",
       "      <td>1.856401</td>\n",
       "      <td>0.103891</td>\n",
       "      <td>0.007949</td>\n",
       "      <td>...</td>\n",
       "      <td>74.828385</td>\n",
       "      <td>10.775247</td>\n",
       "      <td>2.321169</td>\n",
       "      <td>101.831168</td>\n",
       "      <td>0.062518</td>\n",
       "      <td>0.571368</td>\n",
       "      <td>1.856402</td>\n",
       "      <td>0.103887</td>\n",
       "      <td>74.828385</td>\n",
       "      <td>10.775247</td>\n",
       "    </tr>\n",
       "    <tr>\n",
       "      <th>std</th>\n",
       "      <td>0.482919</td>\n",
       "      <td>106.863541</td>\n",
       "      <td>0.707471</td>\n",
       "      <td>13.605194</td>\n",
       "      <td>8.780866</td>\n",
       "      <td>0.998613</td>\n",
       "      <td>1.908267</td>\n",
       "      <td>0.579266</td>\n",
       "      <td>0.398563</td>\n",
       "      <td>0.097437</td>\n",
       "      <td>...</td>\n",
       "      <td>107.142399</td>\n",
       "      <td>53.944101</td>\n",
       "      <td>17.594793</td>\n",
       "      <td>50.535999</td>\n",
       "      <td>0.245292</td>\n",
       "      <td>0.792800</td>\n",
       "      <td>0.579263</td>\n",
       "      <td>0.398557</td>\n",
       "      <td>107.142399</td>\n",
       "      <td>53.944101</td>\n",
       "    </tr>\n",
       "    <tr>\n",
       "      <th>min</th>\n",
       "      <td>0.000000</td>\n",
       "      <td>0.000000</td>\n",
       "      <td>2015.000000</td>\n",
       "      <td>1.000000</td>\n",
       "      <td>1.000000</td>\n",
       "      <td>0.000000</td>\n",
       "      <td>0.000000</td>\n",
       "      <td>0.000000</td>\n",
       "      <td>0.000000</td>\n",
       "      <td>0.000000</td>\n",
       "      <td>...</td>\n",
       "      <td>0.000000</td>\n",
       "      <td>0.000000</td>\n",
       "      <td>0.000000</td>\n",
       "      <td>-6.380000</td>\n",
       "      <td>0.000000</td>\n",
       "      <td>0.000000</td>\n",
       "      <td>0.000000</td>\n",
       "      <td>0.000000</td>\n",
       "      <td>0.000000</td>\n",
       "      <td>0.000000</td>\n",
       "    </tr>\n",
       "    <tr>\n",
       "      <th>25%</th>\n",
       "      <td>0.000000</td>\n",
       "      <td>18.000000</td>\n",
       "      <td>2016.000000</td>\n",
       "      <td>16.000000</td>\n",
       "      <td>8.000000</td>\n",
       "      <td>0.000000</td>\n",
       "      <td>1.000000</td>\n",
       "      <td>2.000000</td>\n",
       "      <td>0.000000</td>\n",
       "      <td>0.000000</td>\n",
       "      <td>...</td>\n",
       "      <td>7.000000</td>\n",
       "      <td>0.000000</td>\n",
       "      <td>0.000000</td>\n",
       "      <td>69.290000</td>\n",
       "      <td>0.000000</td>\n",
       "      <td>0.000000</td>\n",
       "      <td>2.000000</td>\n",
       "      <td>0.000000</td>\n",
       "      <td>7.000000</td>\n",
       "      <td>0.000000</td>\n",
       "    </tr>\n",
       "    <tr>\n",
       "      <th>50%</th>\n",
       "      <td>0.000000</td>\n",
       "      <td>69.000000</td>\n",
       "      <td>2016.000000</td>\n",
       "      <td>28.000000</td>\n",
       "      <td>16.000000</td>\n",
       "      <td>1.000000</td>\n",
       "      <td>2.000000</td>\n",
       "      <td>2.000000</td>\n",
       "      <td>0.000000</td>\n",
       "      <td>0.000000</td>\n",
       "      <td>...</td>\n",
       "      <td>9.000000</td>\n",
       "      <td>0.000000</td>\n",
       "      <td>0.000000</td>\n",
       "      <td>94.560000</td>\n",
       "      <td>0.000000</td>\n",
       "      <td>0.000000</td>\n",
       "      <td>2.000000</td>\n",
       "      <td>0.000000</td>\n",
       "      <td>9.000000</td>\n",
       "      <td>0.000000</td>\n",
       "    </tr>\n",
       "    <tr>\n",
       "      <th>75%</th>\n",
       "      <td>1.000000</td>\n",
       "      <td>160.000000</td>\n",
       "      <td>2017.000000</td>\n",
       "      <td>38.000000</td>\n",
       "      <td>23.000000</td>\n",
       "      <td>2.000000</td>\n",
       "      <td>3.000000</td>\n",
       "      <td>2.000000</td>\n",
       "      <td>0.000000</td>\n",
       "      <td>0.000000</td>\n",
       "      <td>...</td>\n",
       "      <td>152.000000</td>\n",
       "      <td>0.000000</td>\n",
       "      <td>0.000000</td>\n",
       "      <td>126.000000</td>\n",
       "      <td>0.000000</td>\n",
       "      <td>1.000000</td>\n",
       "      <td>2.000000</td>\n",
       "      <td>0.000000</td>\n",
       "      <td>152.000000</td>\n",
       "      <td>0.000000</td>\n",
       "    </tr>\n",
       "    <tr>\n",
       "      <th>max</th>\n",
       "      <td>1.000000</td>\n",
       "      <td>737.000000</td>\n",
       "      <td>2017.000000</td>\n",
       "      <td>53.000000</td>\n",
       "      <td>31.000000</td>\n",
       "      <td>19.000000</td>\n",
       "      <td>50.000000</td>\n",
       "      <td>55.000000</td>\n",
       "      <td>10.000000</td>\n",
       "      <td>10.000000</td>\n",
       "      <td>...</td>\n",
       "      <td>535.000000</td>\n",
       "      <td>543.000000</td>\n",
       "      <td>391.000000</td>\n",
       "      <td>5400.000000</td>\n",
       "      <td>8.000000</td>\n",
       "      <td>5.000000</td>\n",
       "      <td>55.000000</td>\n",
       "      <td>10.000000</td>\n",
       "      <td>535.000000</td>\n",
       "      <td>543.000000</td>\n",
       "    </tr>\n",
       "  </tbody>\n",
       "</table>\n",
       "<p>8 rows × 24 columns</p>\n",
       "</div>"
      ],
      "text/plain": [
       "         is_canceled      lead_time  arrival_date_year  \\\n",
       "count  119389.000000  119389.000000      119389.000000   \n",
       "mean        0.370419     104.011341        2016.156564   \n",
       "std         0.482919     106.863541           0.707471   \n",
       "min         0.000000       0.000000        2015.000000   \n",
       "25%         0.000000      18.000000        2016.000000   \n",
       "50%         0.000000      69.000000        2016.000000   \n",
       "75%         1.000000     160.000000        2017.000000   \n",
       "max         1.000000     737.000000        2017.000000   \n",
       "\n",
       "       arrival_date_week_number  arrival_date_day_of_month  \\\n",
       "count             119389.000000              119389.000000   \n",
       "mean                  27.165158                  15.798239   \n",
       "std                   13.605194                   8.780866   \n",
       "min                    1.000000                   1.000000   \n",
       "25%                   16.000000                   8.000000   \n",
       "50%                   28.000000                  16.000000   \n",
       "75%                   38.000000                  23.000000   \n",
       "max                   53.000000                  31.000000   \n",
       "\n",
       "       stays_in_weekend_nights  stays_in_week_nights         adults  \\\n",
       "count            119389.000000         119389.000000  119388.000000   \n",
       "mean                  0.927590              2.500272       1.856401   \n",
       "std                   0.998613              1.908267       0.579266   \n",
       "min                   0.000000              0.000000       0.000000   \n",
       "25%                   0.000000              1.000000       2.000000   \n",
       "50%                   1.000000              2.000000       2.000000   \n",
       "75%                   2.000000              3.000000       2.000000   \n",
       "max                  19.000000             50.000000      55.000000   \n",
       "\n",
       "            children         babies  ...          agent        company  \\\n",
       "count  119385.000000  119389.000000  ...  119389.000000  119389.000000   \n",
       "mean        0.103891       0.007949  ...      74.828385      10.775247   \n",
       "std         0.398563       0.097437  ...     107.142399      53.944101   \n",
       "min         0.000000       0.000000  ...       0.000000       0.000000   \n",
       "25%         0.000000       0.000000  ...       7.000000       0.000000   \n",
       "50%         0.000000       0.000000  ...       9.000000       0.000000   \n",
       "75%         0.000000       0.000000  ...     152.000000       0.000000   \n",
       "max        10.000000      10.000000  ...     535.000000     543.000000   \n",
       "\n",
       "       days_in_waiting_list            adr  required_car_parking_spaces  \\\n",
       "count         119389.000000  119389.000000                119389.000000   \n",
       "mean               2.321169     101.831168                     0.062518   \n",
       "std               17.594793      50.535999                     0.245292   \n",
       "min                0.000000      -6.380000                     0.000000   \n",
       "25%                0.000000      69.290000                     0.000000   \n",
       "50%                0.000000      94.560000                     0.000000   \n",
       "75%                0.000000     126.000000                     0.000000   \n",
       "max              391.000000    5400.000000                     8.000000   \n",
       "\n",
       "       total_of_special_requests  adults_filled  children_filled  \\\n",
       "count              119389.000000  119389.000000    119389.000000   \n",
       "mean                    0.571368       1.856402         0.103887   \n",
       "std                     0.792800       0.579263         0.398557   \n",
       "min                     0.000000       0.000000         0.000000   \n",
       "25%                     0.000000       2.000000         0.000000   \n",
       "50%                     0.000000       2.000000         0.000000   \n",
       "75%                     1.000000       2.000000         0.000000   \n",
       "max                     5.000000      55.000000        10.000000   \n",
       "\n",
       "        agent_filled  company_filled  \n",
       "count  119389.000000   119389.000000  \n",
       "mean       74.828385       10.775247  \n",
       "std       107.142399       53.944101  \n",
       "min         0.000000        0.000000  \n",
       "25%         7.000000        0.000000  \n",
       "50%         9.000000        0.000000  \n",
       "75%       152.000000        0.000000  \n",
       "max       535.000000      543.000000  \n",
       "\n",
       "[8 rows x 24 columns]"
      ]
     },
     "execution_count": 93,
     "metadata": {},
     "output_type": "execute_result"
    }
   ],
   "source": [
    "data.describe()"
   ]
  },
  {
   "cell_type": "code",
   "execution_count": 96,
   "id": "1a048b3e-aca8-4718-a60b-986499cef7b0",
   "metadata": {},
   "outputs": [
    {
     "data": {
      "text/html": [
       "<div>\n",
       "<style scoped>\n",
       "    .dataframe tbody tr th:only-of-type {\n",
       "        vertical-align: middle;\n",
       "    }\n",
       "\n",
       "    .dataframe tbody tr th {\n",
       "        vertical-align: top;\n",
       "    }\n",
       "\n",
       "    .dataframe thead th {\n",
       "        text-align: right;\n",
       "    }\n",
       "</style>\n",
       "<table border=\"1\" class=\"dataframe\">\n",
       "  <thead>\n",
       "    <tr style=\"text-align: right;\">\n",
       "      <th></th>\n",
       "      <th>hotel</th>\n",
       "      <th>arrival_date_month</th>\n",
       "      <th>meal</th>\n",
       "      <th>country</th>\n",
       "      <th>market_segment</th>\n",
       "      <th>distribution_channel</th>\n",
       "      <th>reserved_room_type</th>\n",
       "      <th>assigned_room_type</th>\n",
       "      <th>deposit_type</th>\n",
       "      <th>customer_type</th>\n",
       "      <th>reservation_status</th>\n",
       "      <th>reservation_status_date</th>\n",
       "      <th>country_filled</th>\n",
       "      <th>market_segment_filled</th>\n",
       "      <th>distribution_channel_filled</th>\n",
       "      <th>reserved_room_type_filled</th>\n",
       "      <th>assigned_room_type_filled</th>\n",
       "      <th>desposit_type_filled</th>\n",
       "      <th>deposit_type_filled</th>\n",
       "      <th>customer_type_filled</th>\n",
       "    </tr>\n",
       "  </thead>\n",
       "  <tbody>\n",
       "    <tr>\n",
       "      <th>count</th>\n",
       "      <td>119389</td>\n",
       "      <td>119389</td>\n",
       "      <td>119389</td>\n",
       "      <td>118882</td>\n",
       "      <td>119387</td>\n",
       "      <td>119388</td>\n",
       "      <td>119388</td>\n",
       "      <td>119388</td>\n",
       "      <td>119368</td>\n",
       "      <td>119358</td>\n",
       "      <td>119389</td>\n",
       "      <td>119389</td>\n",
       "      <td>119389</td>\n",
       "      <td>119389</td>\n",
       "      <td>119389</td>\n",
       "      <td>119389</td>\n",
       "      <td>119389</td>\n",
       "      <td>119389</td>\n",
       "      <td>119389</td>\n",
       "      <td>119389</td>\n",
       "    </tr>\n",
       "    <tr>\n",
       "      <th>unique</th>\n",
       "      <td>2</td>\n",
       "      <td>12</td>\n",
       "      <td>5</td>\n",
       "      <td>177</td>\n",
       "      <td>8</td>\n",
       "      <td>5</td>\n",
       "      <td>10</td>\n",
       "      <td>12</td>\n",
       "      <td>3</td>\n",
       "      <td>4</td>\n",
       "      <td>3</td>\n",
       "      <td>926</td>\n",
       "      <td>177</td>\n",
       "      <td>8</td>\n",
       "      <td>5</td>\n",
       "      <td>10</td>\n",
       "      <td>12</td>\n",
       "      <td>3</td>\n",
       "      <td>3</td>\n",
       "      <td>4</td>\n",
       "    </tr>\n",
       "    <tr>\n",
       "      <th>top</th>\n",
       "      <td>City Hotel</td>\n",
       "      <td>August</td>\n",
       "      <td>BB</td>\n",
       "      <td>PRT</td>\n",
       "      <td>Online TA</td>\n",
       "      <td>TA/TO</td>\n",
       "      <td>A</td>\n",
       "      <td>A</td>\n",
       "      <td>No Deposit</td>\n",
       "      <td>Transient</td>\n",
       "      <td>Check-Out</td>\n",
       "      <td>21/10/2015</td>\n",
       "      <td>PRT</td>\n",
       "      <td>Online TA</td>\n",
       "      <td>TA/TO</td>\n",
       "      <td>A</td>\n",
       "      <td>A</td>\n",
       "      <td>No Deposit</td>\n",
       "      <td>No Deposit</td>\n",
       "      <td>Transient</td>\n",
       "    </tr>\n",
       "    <tr>\n",
       "      <th>freq</th>\n",
       "      <td>79330</td>\n",
       "      <td>13877</td>\n",
       "      <td>92309</td>\n",
       "      <td>48570</td>\n",
       "      <td>56477</td>\n",
       "      <td>97868</td>\n",
       "      <td>85993</td>\n",
       "      <td>74052</td>\n",
       "      <td>104630</td>\n",
       "      <td>89585</td>\n",
       "      <td>75165</td>\n",
       "      <td>1461</td>\n",
       "      <td>49077</td>\n",
       "      <td>56479</td>\n",
       "      <td>97869</td>\n",
       "      <td>85994</td>\n",
       "      <td>74053</td>\n",
       "      <td>104651</td>\n",
       "      <td>104651</td>\n",
       "      <td>89616</td>\n",
       "    </tr>\n",
       "  </tbody>\n",
       "</table>\n",
       "</div>"
      ],
      "text/plain": [
       "             hotel arrival_date_month    meal country market_segment  \\\n",
       "count       119389             119389  119389  118882         119387   \n",
       "unique           2                 12       5     177              8   \n",
       "top     City Hotel             August      BB     PRT      Online TA   \n",
       "freq         79330              13877   92309   48570          56477   \n",
       "\n",
       "       distribution_channel reserved_room_type assigned_room_type  \\\n",
       "count                119388             119388             119388   \n",
       "unique                    5                 10                 12   \n",
       "top                   TA/TO                  A                  A   \n",
       "freq                  97868              85993              74052   \n",
       "\n",
       "       deposit_type customer_type reservation_status reservation_status_date  \\\n",
       "count        119368        119358             119389                  119389   \n",
       "unique            3             4                  3                     926   \n",
       "top      No Deposit     Transient          Check-Out              21/10/2015   \n",
       "freq         104630         89585              75165                    1461   \n",
       "\n",
       "       country_filled market_segment_filled distribution_channel_filled  \\\n",
       "count          119389                119389                      119389   \n",
       "unique            177                     8                           5   \n",
       "top               PRT             Online TA                       TA/TO   \n",
       "freq            49077                 56479                       97869   \n",
       "\n",
       "       reserved_room_type_filled assigned_room_type_filled  \\\n",
       "count                     119389                    119389   \n",
       "unique                        10                        12   \n",
       "top                            A                         A   \n",
       "freq                       85994                     74053   \n",
       "\n",
       "       desposit_type_filled deposit_type_filled customer_type_filled  \n",
       "count                119389              119389               119389  \n",
       "unique                    3                   3                    4  \n",
       "top              No Deposit          No Deposit            Transient  \n",
       "freq                 104651              104651                89616  "
      ]
     },
     "execution_count": 96,
     "metadata": {},
     "output_type": "execute_result"
    }
   ],
   "source": [
    "data.describe(include='object')"
   ]
  },
  {
   "cell_type": "markdown",
   "id": "86efc1d0-65af-4aec-9c18-7c1731e4327e",
   "metadata": {},
   "source": [
    "### Data Visualization"
   ]
  },
  {
   "cell_type": "code",
   "execution_count": 97,
   "id": "7f9507e3-f39f-47c4-9ca4-ff652d09022c",
   "metadata": {},
   "outputs": [],
   "source": [
    "# Histogram for is_canceled"
   ]
  },
  {
   "cell_type": "code",
   "execution_count": 104,
   "id": "7ffff7eb-5ac8-480d-88eb-4b98a34cdcb2",
   "metadata": {},
   "outputs": [
    {
     "data": {
      "text/plain": [
       "(array([75165.,     0.,     0.,     0.,     0.,     0.,     0.,     0.,\n",
       "            0., 44224.]),\n",
       " array([0. , 0.1, 0.2, 0.3, 0.4, 0.5, 0.6, 0.7, 0.8, 0.9, 1. ]),\n",
       " <BarContainer object of 10 artists>)"
      ]
     },
     "execution_count": 104,
     "metadata": {},
     "output_type": "execute_result"
    },
    {
     "data": {
      "image/png": "[encoded data removed]",
      "text/plain": [
       "<Figure size 640x480 with 1 Axes>"
      ]
     },
     "metadata": {},
     "output_type": "display_data"
    }
   ],
   "source": [
    "is_cancelled = data['is_canceled']\n",
    "plt.hist(is_cancelled)"
   ]
  },
  {
   "cell_type": "code",
   "execution_count": 105,
   "id": "f7e59711-29e8-4f95-b9c7-34c1f6c60911",
   "metadata": {},
   "outputs": [],
   "source": [
    "# Bar plots"
   ]
  },
  {
   "cell_type": "code",
   "execution_count": 4,
   "id": "ae98f7f4-726a-4a25-a0b5-95ab30a4ab78",
   "metadata": {},
   "outputs": [
    {
     "data": {
      "text/plain": [
       "0         2015\n",
       "1         2015\n",
       "2         2015\n",
       "3         2015\n",
       "4         2015\n",
       "          ... \n",
       "119385    2017\n",
       "119386    2017\n",
       "119387    2017\n",
       "119388    2017\n",
       "119389    2017\n",
       "Name: arrival_date_year, Length: 119390, dtype: int64"
      ]
     },
     "execution_count": 4,
     "metadata": {},
     "output_type": "execute_result"
    }
   ],
   "source": [
    "years = data['arrival_date_year']\n",
    "years"
   ]
  },
  {
   "cell_type": "code",
   "execution_count": 8,
   "id": "b3e139f7-1a38-4cf3-bfd1-02473c67628b",
   "metadata": {},
   "outputs": [
    {
     "data": {
      "image/png": "[encoded data removed]",
      "text/plain": [
       "<Figure size 1000x600 with 1 Axes>"
      ]
     },
     "metadata": {},
     "output_type": "display_data"
    }
   ],
   "source": [
    "year_counts = data['arrival_date_year'].value_counts().sort_index()\n",
    "years = year_counts.index\n",
    "counts = year_counts.values\n",
    "plt.figure(figsize=(10, 6))\n",
    "plt.title('Frequency of Arrival Dates by Year')\n",
    "plt.xlabel('Year')\n",
    "plt.ylabel('Frequency')\n",
    "plt.bar(years,counts)\n",
    "plt.show()"
   ]
  },
  {
   "cell_type": "markdown",
   "id": "872d9e24-cd35-4d35-b3c3-fd698f129f4a",
   "metadata": {},
   "source": [
    "### Scatter Plot"
   ]
  },
  {
   "cell_type": "code",
   "execution_count": 9,
   "id": "a619e407-5291-4617-9a19-5b8817a81091",
   "metadata": {},
   "outputs": [
    {
     "data": {
      "image/png": "[encoded data removed]",
      "text/plain": [
       "<Figure size 1000x800 with 1 Axes>"
      ]
     },
     "metadata": {},
     "output_type": "display_data"
    }
   ],
   "source": [
    "# Scatter plot of: Average Daily Rate vs. Booking Changes (not related)\n",
    "plt.figure(figsize=(10, 8))\n",
    "plt.scatter(x=data['adr'], y=data['booking_changes'])\n",
    "plt.title('Scatter Plot of Average Daily Rate vs. Booking Changes')\n",
    "plt.xlabel('Average Daily Rate')\n",
    "plt.ylabel('Booking Changes')\n",
    "plt.show()"
   ]
  },
  {
   "cell_type": "markdown",
   "id": "bdcb58b3-dcd9-4480-932c-fd12af5a1e7d",
   "metadata": {},
   "source": [
    "### Correlation Analysis"
   ]
  },
  {
   "cell_type": "code",
   "execution_count": 10,
   "id": "afd4cfe6-15ca-4300-985f-10cb46627e77",
   "metadata": {},
   "outputs": [
    {
     "data": {
      "text/html": [
       "<div>\n",
       "<style scoped>\n",
       "    .dataframe tbody tr th:only-of-type {\n",
       "        vertical-align: middle;\n",
       "    }\n",
       "\n",
       "    .dataframe tbody tr th {\n",
       "        vertical-align: top;\n",
       "    }\n",
       "\n",
       "    .dataframe thead th {\n",
       "        text-align: right;\n",
       "    }\n",
       "</style>\n",
       "<table border=\"1\" class=\"dataframe\">\n",
       "  <thead>\n",
       "    <tr style=\"text-align: right;\">\n",
       "      <th></th>\n",
       "      <th>is_canceled</th>\n",
       "      <th>lead_time</th>\n",
       "      <th>arrival_date_year</th>\n",
       "      <th>arrival_date_week_number</th>\n",
       "      <th>arrival_date_day_of_month</th>\n",
       "      <th>stays_in_weekend_nights</th>\n",
       "      <th>stays_in_week_nights</th>\n",
       "      <th>adults</th>\n",
       "      <th>children</th>\n",
       "      <th>babies</th>\n",
       "      <th>is_repeated_guest</th>\n",
       "      <th>previous_cancellations</th>\n",
       "      <th>previous_bookings_not_canceled</th>\n",
       "      <th>booking_changes</th>\n",
       "      <th>agent</th>\n",
       "      <th>company</th>\n",
       "      <th>days_in_waiting_list</th>\n",
       "      <th>adr</th>\n",
       "      <th>required_car_parking_spaces</th>\n",
       "      <th>total_of_special_requests</th>\n",
       "    </tr>\n",
       "  </thead>\n",
       "  <tbody>\n",
       "    <tr>\n",
       "      <th>is_canceled</th>\n",
       "      <td>1.000000</td>\n",
       "      <td>0.293123</td>\n",
       "      <td>0.016660</td>\n",
       "      <td>0.008148</td>\n",
       "      <td>-0.006130</td>\n",
       "      <td>-0.001791</td>\n",
       "      <td>0.024765</td>\n",
       "      <td>0.060015</td>\n",
       "      <td>0.005048</td>\n",
       "      <td>-0.032491</td>\n",
       "      <td>-0.084793</td>\n",
       "      <td>0.110133</td>\n",
       "      <td>-0.057358</td>\n",
       "      <td>-0.144381</td>\n",
       "      <td>-0.083114</td>\n",
       "      <td>-0.020642</td>\n",
       "      <td>0.054186</td>\n",
       "      <td>0.047557</td>\n",
       "      <td>-0.195498</td>\n",
       "      <td>-0.234658</td>\n",
       "    </tr>\n",
       "    <tr>\n",
       "      <th>lead_time</th>\n",
       "      <td>0.293123</td>\n",
       "      <td>1.000000</td>\n",
       "      <td>0.040142</td>\n",
       "      <td>0.126871</td>\n",
       "      <td>0.002268</td>\n",
       "      <td>0.085671</td>\n",
       "      <td>0.165799</td>\n",
       "      <td>0.119519</td>\n",
       "      <td>-0.037622</td>\n",
       "      <td>-0.020915</td>\n",
       "      <td>-0.124410</td>\n",
       "      <td>0.086042</td>\n",
       "      <td>-0.073548</td>\n",
       "      <td>0.000149</td>\n",
       "      <td>-0.069741</td>\n",
       "      <td>0.151464</td>\n",
       "      <td>0.170084</td>\n",
       "      <td>-0.063077</td>\n",
       "      <td>-0.116451</td>\n",
       "      <td>-0.095712</td>\n",
       "    </tr>\n",
       "    <tr>\n",
       "      <th>arrival_date_year</th>\n",
       "      <td>0.016660</td>\n",
       "      <td>0.040142</td>\n",
       "      <td>1.000000</td>\n",
       "      <td>-0.540561</td>\n",
       "      <td>-0.000221</td>\n",
       "      <td>0.021497</td>\n",
       "      <td>0.030883</td>\n",
       "      <td>0.029639</td>\n",
       "      <td>0.054624</td>\n",
       "      <td>-0.013192</td>\n",
       "      <td>0.010341</td>\n",
       "      <td>-0.119822</td>\n",
       "      <td>0.029218</td>\n",
       "      <td>0.030872</td>\n",
       "      <td>0.063457</td>\n",
       "      <td>0.259095</td>\n",
       "      <td>-0.056497</td>\n",
       "      <td>0.197580</td>\n",
       "      <td>-0.013684</td>\n",
       "      <td>0.108531</td>\n",
       "    </tr>\n",
       "    <tr>\n",
       "      <th>arrival_date_week_number</th>\n",
       "      <td>0.008148</td>\n",
       "      <td>0.126871</td>\n",
       "      <td>-0.540561</td>\n",
       "      <td>1.000000</td>\n",
       "      <td>0.066809</td>\n",
       "      <td>0.018208</td>\n",
       "      <td>0.015558</td>\n",
       "      <td>0.025908</td>\n",
       "      <td>0.005518</td>\n",
       "      <td>0.010395</td>\n",
       "      <td>-0.030131</td>\n",
       "      <td>0.035501</td>\n",
       "      <td>-0.020904</td>\n",
       "      <td>0.005508</td>\n",
       "      <td>-0.031201</td>\n",
       "      <td>-0.076760</td>\n",
       "      <td>0.022933</td>\n",
       "      <td>0.075791</td>\n",
       "      <td>0.001920</td>\n",
       "      <td>0.026149</td>\n",
       "    </tr>\n",
       "    <tr>\n",
       "      <th>arrival_date_day_of_month</th>\n",
       "      <td>-0.006130</td>\n",
       "      <td>0.002268</td>\n",
       "      <td>-0.000221</td>\n",
       "      <td>0.066809</td>\n",
       "      <td>1.000000</td>\n",
       "      <td>-0.016354</td>\n",
       "      <td>-0.028174</td>\n",
       "      <td>-0.001569</td>\n",
       "      <td>0.014544</td>\n",
       "      <td>-0.000230</td>\n",
       "      <td>-0.006145</td>\n",
       "      <td>-0.027011</td>\n",
       "      <td>-0.000300</td>\n",
       "      <td>0.010613</td>\n",
       "      <td>0.001487</td>\n",
       "      <td>0.044858</td>\n",
       "      <td>0.022728</td>\n",
       "      <td>0.030245</td>\n",
       "      <td>0.008683</td>\n",
       "      <td>0.003062</td>\n",
       "    </tr>\n",
       "    <tr>\n",
       "      <th>stays_in_weekend_nights</th>\n",
       "      <td>-0.001791</td>\n",
       "      <td>0.085671</td>\n",
       "      <td>0.021497</td>\n",
       "      <td>0.018208</td>\n",
       "      <td>-0.016354</td>\n",
       "      <td>1.000000</td>\n",
       "      <td>0.498969</td>\n",
       "      <td>0.091871</td>\n",
       "      <td>0.045793</td>\n",
       "      <td>0.018483</td>\n",
       "      <td>-0.087239</td>\n",
       "      <td>-0.012775</td>\n",
       "      <td>-0.042715</td>\n",
       "      <td>0.063281</td>\n",
       "      <td>0.140739</td>\n",
       "      <td>0.066749</td>\n",
       "      <td>-0.054151</td>\n",
       "      <td>0.049342</td>\n",
       "      <td>-0.018554</td>\n",
       "      <td>0.072671</td>\n",
       "    </tr>\n",
       "    <tr>\n",
       "      <th>stays_in_week_nights</th>\n",
       "      <td>0.024765</td>\n",
       "      <td>0.165799</td>\n",
       "      <td>0.030883</td>\n",
       "      <td>0.015558</td>\n",
       "      <td>-0.028174</td>\n",
       "      <td>0.498969</td>\n",
       "      <td>1.000000</td>\n",
       "      <td>0.092975</td>\n",
       "      <td>0.044203</td>\n",
       "      <td>0.020191</td>\n",
       "      <td>-0.097245</td>\n",
       "      <td>-0.013992</td>\n",
       "      <td>-0.048743</td>\n",
       "      <td>0.096209</td>\n",
       "      <td>0.182382</td>\n",
       "      <td>0.182211</td>\n",
       "      <td>-0.002020</td>\n",
       "      <td>0.065237</td>\n",
       "      <td>-0.024859</td>\n",
       "      <td>0.068192</td>\n",
       "    </tr>\n",
       "    <tr>\n",
       "      <th>adults</th>\n",
       "      <td>0.060015</td>\n",
       "      <td>0.119519</td>\n",
       "      <td>0.029639</td>\n",
       "      <td>0.025908</td>\n",
       "      <td>-0.001569</td>\n",
       "      <td>0.091871</td>\n",
       "      <td>0.092975</td>\n",
       "      <td>1.000000</td>\n",
       "      <td>0.030447</td>\n",
       "      <td>0.018146</td>\n",
       "      <td>-0.146426</td>\n",
       "      <td>-0.006738</td>\n",
       "      <td>-0.107983</td>\n",
       "      <td>-0.051672</td>\n",
       "      <td>-0.035595</td>\n",
       "      <td>0.207793</td>\n",
       "      <td>-0.008283</td>\n",
       "      <td>0.230641</td>\n",
       "      <td>0.014785</td>\n",
       "      <td>0.122883</td>\n",
       "    </tr>\n",
       "    <tr>\n",
       "      <th>children</th>\n",
       "      <td>0.005048</td>\n",
       "      <td>-0.037622</td>\n",
       "      <td>0.054624</td>\n",
       "      <td>0.005518</td>\n",
       "      <td>0.014544</td>\n",
       "      <td>0.045793</td>\n",
       "      <td>0.044203</td>\n",
       "      <td>0.030447</td>\n",
       "      <td>1.000000</td>\n",
       "      <td>0.024030</td>\n",
       "      <td>-0.032859</td>\n",
       "      <td>-0.024730</td>\n",
       "      <td>-0.021072</td>\n",
       "      <td>0.048949</td>\n",
       "      <td>0.041066</td>\n",
       "      <td>0.030931</td>\n",
       "      <td>-0.033273</td>\n",
       "      <td>0.324854</td>\n",
       "      <td>0.056253</td>\n",
       "      <td>0.081745</td>\n",
       "    </tr>\n",
       "    <tr>\n",
       "      <th>babies</th>\n",
       "      <td>-0.032491</td>\n",
       "      <td>-0.020915</td>\n",
       "      <td>-0.013192</td>\n",
       "      <td>0.010395</td>\n",
       "      <td>-0.000230</td>\n",
       "      <td>0.018483</td>\n",
       "      <td>0.020191</td>\n",
       "      <td>0.018146</td>\n",
       "      <td>0.024030</td>\n",
       "      <td>1.000000</td>\n",
       "      <td>-0.008943</td>\n",
       "      <td>-0.007501</td>\n",
       "      <td>-0.006550</td>\n",
       "      <td>0.083440</td>\n",
       "      <td>0.036184</td>\n",
       "      <td>0.019206</td>\n",
       "      <td>-0.010621</td>\n",
       "      <td>0.029186</td>\n",
       "      <td>0.037383</td>\n",
       "      <td>0.097889</td>\n",
       "    </tr>\n",
       "    <tr>\n",
       "      <th>is_repeated_guest</th>\n",
       "      <td>-0.084793</td>\n",
       "      <td>-0.124410</td>\n",
       "      <td>0.010341</td>\n",
       "      <td>-0.030131</td>\n",
       "      <td>-0.006145</td>\n",
       "      <td>-0.087239</td>\n",
       "      <td>-0.097245</td>\n",
       "      <td>-0.146426</td>\n",
       "      <td>-0.032859</td>\n",
       "      <td>-0.008943</td>\n",
       "      <td>1.000000</td>\n",
       "      <td>0.082293</td>\n",
       "      <td>0.418056</td>\n",
       "      <td>0.012092</td>\n",
       "      <td>0.031527</td>\n",
       "      <td>-0.244586</td>\n",
       "      <td>-0.022235</td>\n",
       "      <td>-0.134314</td>\n",
       "      <td>0.077090</td>\n",
       "      <td>0.013050</td>\n",
       "    </tr>\n",
       "    <tr>\n",
       "      <th>previous_cancellations</th>\n",
       "      <td>0.110133</td>\n",
       "      <td>0.086042</td>\n",
       "      <td>-0.119822</td>\n",
       "      <td>0.035501</td>\n",
       "      <td>-0.027011</td>\n",
       "      <td>-0.012775</td>\n",
       "      <td>-0.013992</td>\n",
       "      <td>-0.006738</td>\n",
       "      <td>-0.024730</td>\n",
       "      <td>-0.007501</td>\n",
       "      <td>0.082293</td>\n",
       "      <td>1.000000</td>\n",
       "      <td>0.152728</td>\n",
       "      <td>-0.026993</td>\n",
       "      <td>-0.012488</td>\n",
       "      <td>-0.184574</td>\n",
       "      <td>0.005929</td>\n",
       "      <td>-0.065646</td>\n",
       "      <td>-0.018492</td>\n",
       "      <td>-0.048384</td>\n",
       "    </tr>\n",
       "    <tr>\n",
       "      <th>previous_bookings_not_canceled</th>\n",
       "      <td>-0.057358</td>\n",
       "      <td>-0.073548</td>\n",
       "      <td>0.029218</td>\n",
       "      <td>-0.020904</td>\n",
       "      <td>-0.000300</td>\n",
       "      <td>-0.042715</td>\n",
       "      <td>-0.048743</td>\n",
       "      <td>-0.107983</td>\n",
       "      <td>-0.021072</td>\n",
       "      <td>-0.006550</td>\n",
       "      <td>0.418056</td>\n",
       "      <td>0.152728</td>\n",
       "      <td>1.000000</td>\n",
       "      <td>0.011608</td>\n",
       "      <td>0.023252</td>\n",
       "      <td>-0.208557</td>\n",
       "      <td>-0.009397</td>\n",
       "      <td>-0.072144</td>\n",
       "      <td>0.047653</td>\n",
       "      <td>0.037824</td>\n",
       "    </tr>\n",
       "    <tr>\n",
       "      <th>booking_changes</th>\n",
       "      <td>-0.144381</td>\n",
       "      <td>0.000149</td>\n",
       "      <td>0.030872</td>\n",
       "      <td>0.005508</td>\n",
       "      <td>0.010613</td>\n",
       "      <td>0.063281</td>\n",
       "      <td>0.096209</td>\n",
       "      <td>-0.051672</td>\n",
       "      <td>0.048949</td>\n",
       "      <td>0.083440</td>\n",
       "      <td>0.012092</td>\n",
       "      <td>-0.026993</td>\n",
       "      <td>0.011608</td>\n",
       "      <td>1.000000</td>\n",
       "      <td>0.067010</td>\n",
       "      <td>0.122098</td>\n",
       "      <td>-0.011634</td>\n",
       "      <td>0.019618</td>\n",
       "      <td>0.065620</td>\n",
       "      <td>0.052833</td>\n",
       "    </tr>\n",
       "    <tr>\n",
       "      <th>agent</th>\n",
       "      <td>-0.083114</td>\n",
       "      <td>-0.069741</td>\n",
       "      <td>0.063457</td>\n",
       "      <td>-0.031201</td>\n",
       "      <td>0.001487</td>\n",
       "      <td>0.140739</td>\n",
       "      <td>0.182382</td>\n",
       "      <td>-0.035595</td>\n",
       "      <td>0.041066</td>\n",
       "      <td>0.036184</td>\n",
       "      <td>0.031527</td>\n",
       "      <td>-0.012488</td>\n",
       "      <td>0.023252</td>\n",
       "      <td>0.067010</td>\n",
       "      <td>1.000000</td>\n",
       "      <td>0.350746</td>\n",
       "      <td>-0.055151</td>\n",
       "      <td>-0.024695</td>\n",
       "      <td>0.177353</td>\n",
       "      <td>0.034162</td>\n",
       "    </tr>\n",
       "    <tr>\n",
       "      <th>company</th>\n",
       "      <td>-0.020642</td>\n",
       "      <td>0.151464</td>\n",
       "      <td>0.259095</td>\n",
       "      <td>-0.076760</td>\n",
       "      <td>0.044858</td>\n",
       "      <td>0.066749</td>\n",
       "      <td>0.182211</td>\n",
       "      <td>0.207793</td>\n",
       "      <td>0.030931</td>\n",
       "      <td>0.019206</td>\n",
       "      <td>-0.244586</td>\n",
       "      <td>-0.184574</td>\n",
       "      <td>-0.208557</td>\n",
       "      <td>0.122098</td>\n",
       "      <td>0.350746</td>\n",
       "      <td>1.000000</td>\n",
       "      <td>0.000411</td>\n",
       "      <td>0.086376</td>\n",
       "      <td>-0.012916</td>\n",
       "      <td>-0.098558</td>\n",
       "    </tr>\n",
       "    <tr>\n",
       "      <th>days_in_waiting_list</th>\n",
       "      <td>0.054186</td>\n",
       "      <td>0.170084</td>\n",
       "      <td>-0.056497</td>\n",
       "      <td>0.022933</td>\n",
       "      <td>0.022728</td>\n",
       "      <td>-0.054151</td>\n",
       "      <td>-0.002020</td>\n",
       "      <td>-0.008283</td>\n",
       "      <td>-0.033273</td>\n",
       "      <td>-0.010621</td>\n",
       "      <td>-0.022235</td>\n",
       "      <td>0.005929</td>\n",
       "      <td>-0.009397</td>\n",
       "      <td>-0.011634</td>\n",
       "      <td>-0.055151</td>\n",
       "      <td>0.000411</td>\n",
       "      <td>1.000000</td>\n",
       "      <td>-0.040756</td>\n",
       "      <td>-0.030600</td>\n",
       "      <td>-0.082730</td>\n",
       "    </tr>\n",
       "    <tr>\n",
       "      <th>adr</th>\n",
       "      <td>0.047557</td>\n",
       "      <td>-0.063077</td>\n",
       "      <td>0.197580</td>\n",
       "      <td>0.075791</td>\n",
       "      <td>0.030245</td>\n",
       "      <td>0.049342</td>\n",
       "      <td>0.065237</td>\n",
       "      <td>0.230641</td>\n",
       "      <td>0.324854</td>\n",
       "      <td>0.029186</td>\n",
       "      <td>-0.134314</td>\n",
       "      <td>-0.065646</td>\n",
       "      <td>-0.072144</td>\n",
       "      <td>0.019618</td>\n",
       "      <td>-0.024695</td>\n",
       "      <td>0.086376</td>\n",
       "      <td>-0.040756</td>\n",
       "      <td>1.000000</td>\n",
       "      <td>0.056628</td>\n",
       "      <td>0.172185</td>\n",
       "    </tr>\n",
       "    <tr>\n",
       "      <th>required_car_parking_spaces</th>\n",
       "      <td>-0.195498</td>\n",
       "      <td>-0.116451</td>\n",
       "      <td>-0.013684</td>\n",
       "      <td>0.001920</td>\n",
       "      <td>0.008683</td>\n",
       "      <td>-0.018554</td>\n",
       "      <td>-0.024859</td>\n",
       "      <td>0.014785</td>\n",
       "      <td>0.056253</td>\n",
       "      <td>0.037383</td>\n",
       "      <td>0.077090</td>\n",
       "      <td>-0.018492</td>\n",
       "      <td>0.047653</td>\n",
       "      <td>0.065620</td>\n",
       "      <td>0.177353</td>\n",
       "      <td>-0.012916</td>\n",
       "      <td>-0.030600</td>\n",
       "      <td>0.056628</td>\n",
       "      <td>1.000000</td>\n",
       "      <td>0.082626</td>\n",
       "    </tr>\n",
       "    <tr>\n",
       "      <th>total_of_special_requests</th>\n",
       "      <td>-0.234658</td>\n",
       "      <td>-0.095712</td>\n",
       "      <td>0.108531</td>\n",
       "      <td>0.026149</td>\n",
       "      <td>0.003062</td>\n",
       "      <td>0.072671</td>\n",
       "      <td>0.068192</td>\n",
       "      <td>0.122883</td>\n",
       "      <td>0.081745</td>\n",
       "      <td>0.097889</td>\n",
       "      <td>0.013050</td>\n",
       "      <td>-0.048384</td>\n",
       "      <td>0.037824</td>\n",
       "      <td>0.052833</td>\n",
       "      <td>0.034162</td>\n",
       "      <td>-0.098558</td>\n",
       "      <td>-0.082730</td>\n",
       "      <td>0.172185</td>\n",
       "      <td>0.082626</td>\n",
       "      <td>1.000000</td>\n",
       "    </tr>\n",
       "  </tbody>\n",
       "</table>\n",
       "</div>"
      ],
      "text/plain": [
       "                                is_canceled  lead_time  arrival_date_year  \\\n",
       "is_canceled                        1.000000   0.293123           0.016660   \n",
       "lead_time                          0.293123   1.000000           0.040142   \n",
       "arrival_date_year                  0.016660   0.040142           1.000000   \n",
       "arrival_date_week_number           0.008148   0.126871          -0.540561   \n",
       "arrival_date_day_of_month         -0.006130   0.002268          -0.000221   \n",
       "stays_in_weekend_nights           -0.001791   0.085671           0.021497   \n",
       "stays_in_week_nights               0.024765   0.165799           0.030883   \n",
       "adults                             0.060015   0.119519           0.029639   \n",
       "children                           0.005048  -0.037622           0.054624   \n",
       "babies                            -0.032491  -0.020915          -0.013192   \n",
       "is_repeated_guest                 -0.084793  -0.124410           0.010341   \n",
       "previous_cancellations             0.110133   0.086042          -0.119822   \n",
       "previous_bookings_not_canceled    -0.057358  -0.073548           0.029218   \n",
       "booking_changes                   -0.144381   0.000149           0.030872   \n",
       "agent                             -0.083114  -0.069741           0.063457   \n",
       "company                           -0.020642   0.151464           0.259095   \n",
       "days_in_waiting_list               0.054186   0.170084          -0.056497   \n",
       "adr                                0.047557  -0.063077           0.197580   \n",
       "required_car_parking_spaces       -0.195498  -0.116451          -0.013684   \n",
       "total_of_special_requests         -0.234658  -0.095712           0.108531   \n",
       "\n",
       "                                arrival_date_week_number  \\\n",
       "is_canceled                                     0.008148   \n",
       "lead_time                                       0.126871   \n",
       "arrival_date_year                              -0.540561   \n",
       "arrival_date_week_number                        1.000000   \n",
       "arrival_date_day_of_month                       0.066809   \n",
       "stays_in_weekend_nights                         0.018208   \n",
       "stays_in_week_nights                            0.015558   \n",
       "adults                                          0.025908   \n",
       "children                                        0.005518   \n",
       "babies                                          0.010395   \n",
       "is_repeated_guest                              -0.030131   \n",
       "previous_cancellations                          0.035501   \n",
       "previous_bookings_not_canceled                 -0.020904   \n",
       "booking_changes                                 0.005508   \n",
       "agent                                          -0.031201   \n",
       "company                                        -0.076760   \n",
       "days_in_waiting_list                            0.022933   \n",
       "adr                                             0.075791   \n",
       "required_car_parking_spaces                     0.001920   \n",
       "total_of_special_requests                       0.026149   \n",
       "\n",
       "                                arrival_date_day_of_month  \\\n",
       "is_canceled                                     -0.006130   \n",
       "lead_time                                        0.002268   \n",
       "arrival_date_year                               -0.000221   \n",
       "arrival_date_week_number                         0.066809   \n",
       "arrival_date_day_of_month                        1.000000   \n",
       "stays_in_weekend_nights                         -0.016354   \n",
       "stays_in_week_nights                            -0.028174   \n",
       "adults                                          -0.001569   \n",
       "children                                         0.014544   \n",
       "babies                                          -0.000230   \n",
       "is_repeated_guest                               -0.006145   \n",
       "previous_cancellations                          -0.027011   \n",
       "previous_bookings_not_canceled                  -0.000300   \n",
       "booking_changes                                  0.010613   \n",
       "agent                                            0.001487   \n",
       "company                                          0.044858   \n",
       "days_in_waiting_list                             0.022728   \n",
       "adr                                              0.030245   \n",
       "required_car_parking_spaces                      0.008683   \n",
       "total_of_special_requests                        0.003062   \n",
       "\n",
       "                                stays_in_weekend_nights  stays_in_week_nights  \\\n",
       "is_canceled                                   -0.001791              0.024765   \n",
       "lead_time                                      0.085671              0.165799   \n",
       "arrival_date_year                              0.021497              0.030883   \n",
       "arrival_date_week_number                       0.018208              0.015558   \n",
       "arrival_date_day_of_month                     -0.016354             -0.028174   \n",
       "stays_in_weekend_nights                        1.000000              0.498969   \n",
       "stays_in_week_nights                           0.498969              1.000000   \n",
       "adults                                         0.091871              0.092975   \n",
       "children                                       0.045793              0.044203   \n",
       "babies                                         0.018483              0.020191   \n",
       "is_repeated_guest                             -0.087239             -0.097245   \n",
       "previous_cancellations                        -0.012775             -0.013992   \n",
       "previous_bookings_not_canceled                -0.042715             -0.048743   \n",
       "booking_changes                                0.063281              0.096209   \n",
       "agent                                          0.140739              0.182382   \n",
       "company                                        0.066749              0.182211   \n",
       "days_in_waiting_list                          -0.054151             -0.002020   \n",
       "adr                                            0.049342              0.065237   \n",
       "required_car_parking_spaces                   -0.018554             -0.024859   \n",
       "total_of_special_requests                      0.072671              0.068192   \n",
       "\n",
       "                                  adults  children    babies  \\\n",
       "is_canceled                     0.060015  0.005048 -0.032491   \n",
       "lead_time                       0.119519 -0.037622 -0.020915   \n",
       "arrival_date_year               0.029639  0.054624 -0.013192   \n",
       "arrival_date_week_number        0.025908  0.005518  0.010395   \n",
       "arrival_date_day_of_month      -0.001569  0.014544 -0.000230   \n",
       "stays_in_weekend_nights         0.091871  0.045793  0.018483   \n",
       "stays_in_week_nights            0.092975  0.044203  0.020191   \n",
       "adults                          1.000000  0.030447  0.018146   \n",
       "children                        0.030447  1.000000  0.024030   \n",
       "babies                          0.018146  0.024030  1.000000   \n",
       "is_repeated_guest              -0.146426 -0.032859 -0.008943   \n",
       "previous_cancellations         -0.006738 -0.024730 -0.007501   \n",
       "previous_bookings_not_canceled -0.107983 -0.021072 -0.006550   \n",
       "booking_changes                -0.051672  0.048949  0.083440   \n",
       "agent                          -0.035595  0.041066  0.036184   \n",
       "company                         0.207793  0.030931  0.019206   \n",
       "days_in_waiting_list           -0.008283 -0.033273 -0.010621   \n",
       "adr                             0.230641  0.324854  0.029186   \n",
       "required_car_parking_spaces     0.014785  0.056253  0.037383   \n",
       "total_of_special_requests       0.122883  0.081745  0.097889   \n",
       "\n",
       "                                is_repeated_guest  previous_cancellations  \\\n",
       "is_canceled                             -0.084793                0.110133   \n",
       "lead_time                               -0.124410                0.086042   \n",
       "arrival_date_year                        0.010341               -0.119822   \n",
       "arrival_date_week_number                -0.030131                0.035501   \n",
       "arrival_date_day_of_month               -0.006145               -0.027011   \n",
       "stays_in_weekend_nights                 -0.087239               -0.012775   \n",
       "stays_in_week_nights                    -0.097245               -0.013992   \n",
       "adults                                  -0.146426               -0.006738   \n",
       "children                                -0.032859               -0.024730   \n",
       "babies                                  -0.008943               -0.007501   \n",
       "is_repeated_guest                        1.000000                0.082293   \n",
       "previous_cancellations                   0.082293                1.000000   \n",
       "previous_bookings_not_canceled           0.418056                0.152728   \n",
       "booking_changes                          0.012092               -0.026993   \n",
       "agent                                    0.031527               -0.012488   \n",
       "company                                 -0.244586               -0.184574   \n",
       "days_in_waiting_list                    -0.022235                0.005929   \n",
       "adr                                     -0.134314               -0.065646   \n",
       "required_car_parking_spaces              0.077090               -0.018492   \n",
       "total_of_special_requests                0.013050               -0.048384   \n",
       "\n",
       "                                previous_bookings_not_canceled  \\\n",
       "is_canceled                                          -0.057358   \n",
       "lead_time                                            -0.073548   \n",
       "arrival_date_year                                     0.029218   \n",
       "arrival_date_week_number                             -0.020904   \n",
       "arrival_date_day_of_month                            -0.000300   \n",
       "stays_in_weekend_nights                              -0.042715   \n",
       "stays_in_week_nights                                 -0.048743   \n",
       "adults                                               -0.107983   \n",
       "children                                             -0.021072   \n",
       "babies                                               -0.006550   \n",
       "is_repeated_guest                                     0.418056   \n",
       "previous_cancellations                                0.152728   \n",
       "previous_bookings_not_canceled                        1.000000   \n",
       "booking_changes                                       0.011608   \n",
       "agent                                                 0.023252   \n",
       "company                                              -0.208557   \n",
       "days_in_waiting_list                                 -0.009397   \n",
       "adr                                                  -0.072144   \n",
       "required_car_parking_spaces                           0.047653   \n",
       "total_of_special_requests                             0.037824   \n",
       "\n",
       "                                booking_changes     agent   company  \\\n",
       "is_canceled                           -0.144381 -0.083114 -0.020642   \n",
       "lead_time                              0.000149 -0.069741  0.151464   \n",
       "arrival_date_year                      0.030872  0.063457  0.259095   \n",
       "arrival_date_week_number               0.005508 -0.031201 -0.076760   \n",
       "arrival_date_day_of_month              0.010613  0.001487  0.044858   \n",
       "stays_in_weekend_nights                0.063281  0.140739  0.066749   \n",
       "stays_in_week_nights                   0.096209  0.182382  0.182211   \n",
       "adults                                -0.051672 -0.035595  0.207793   \n",
       "children                               0.048949  0.041066  0.030931   \n",
       "babies                                 0.083440  0.036184  0.019206   \n",
       "is_repeated_guest                      0.012092  0.031527 -0.244586   \n",
       "previous_cancellations                -0.026993 -0.012488 -0.184574   \n",
       "previous_bookings_not_canceled         0.011608  0.023252 -0.208557   \n",
       "booking_changes                        1.000000  0.067010  0.122098   \n",
       "agent                                  0.067010  1.000000  0.350746   \n",
       "company                                0.122098  0.350746  1.000000   \n",
       "days_in_waiting_list                  -0.011634 -0.055151  0.000411   \n",
       "adr                                    0.019618 -0.024695  0.086376   \n",
       "required_car_parking_spaces            0.065620  0.177353 -0.012916   \n",
       "total_of_special_requests              0.052833  0.034162 -0.098558   \n",
       "\n",
       "                                days_in_waiting_list       adr  \\\n",
       "is_canceled                                 0.054186  0.047557   \n",
       "lead_time                                   0.170084 -0.063077   \n",
       "arrival_date_year                          -0.056497  0.197580   \n",
       "arrival_date_week_number                    0.022933  0.075791   \n",
       "arrival_date_day_of_month                   0.022728  0.030245   \n",
       "stays_in_weekend_nights                    -0.054151  0.049342   \n",
       "stays_in_week_nights                       -0.002020  0.065237   \n",
       "adults                                     -0.008283  0.230641   \n",
       "children                                   -0.033273  0.324854   \n",
       "babies                                     -0.010621  0.029186   \n",
       "is_repeated_guest                          -0.022235 -0.134314   \n",
       "previous_cancellations                      0.005929 -0.065646   \n",
       "previous_bookings_not_canceled             -0.009397 -0.072144   \n",
       "booking_changes                            -0.011634  0.019618   \n",
       "agent                                      -0.055151 -0.024695   \n",
       "company                                     0.000411  0.086376   \n",
       "days_in_waiting_list                        1.000000 -0.040756   \n",
       "adr                                        -0.040756  1.000000   \n",
       "required_car_parking_spaces                -0.030600  0.056628   \n",
       "total_of_special_requests                  -0.082730  0.172185   \n",
       "\n",
       "                                required_car_parking_spaces  \\\n",
       "is_canceled                                       -0.195498   \n",
       "lead_time                                         -0.116451   \n",
       "arrival_date_year                                 -0.013684   \n",
       "arrival_date_week_number                           0.001920   \n",
       "arrival_date_day_of_month                          0.008683   \n",
       "stays_in_weekend_nights                           -0.018554   \n",
       "stays_in_week_nights                              -0.024859   \n",
       "adults                                             0.014785   \n",
       "children                                           0.056253   \n",
       "babies                                             0.037383   \n",
       "is_repeated_guest                                  0.077090   \n",
       "previous_cancellations                            -0.018492   \n",
       "previous_bookings_not_canceled                     0.047653   \n",
       "booking_changes                                    0.065620   \n",
       "agent                                              0.177353   \n",
       "company                                           -0.012916   \n",
       "days_in_waiting_list                              -0.030600   \n",
       "adr                                                0.056628   \n",
       "required_car_parking_spaces                        1.000000   \n",
       "total_of_special_requests                          0.082626   \n",
       "\n",
       "                                total_of_special_requests  \n",
       "is_canceled                                     -0.234658  \n",
       "lead_time                                       -0.095712  \n",
       "arrival_date_year                                0.108531  \n",
       "arrival_date_week_number                         0.026149  \n",
       "arrival_date_day_of_month                        0.003062  \n",
       "stays_in_weekend_nights                          0.072671  \n",
       "stays_in_week_nights                             0.068192  \n",
       "adults                                           0.122883  \n",
       "children                                         0.081745  \n",
       "babies                                           0.097889  \n",
       "is_repeated_guest                                0.013050  \n",
       "previous_cancellations                          -0.048384  \n",
       "previous_bookings_not_canceled                   0.037824  \n",
       "booking_changes                                  0.052833  \n",
       "agent                                            0.034162  \n",
       "company                                         -0.098558  \n",
       "days_in_waiting_list                            -0.082730  \n",
       "adr                                              0.172185  \n",
       "required_car_parking_spaces                      0.082626  \n",
       "total_of_special_requests                        1.000000  "
      ]
     },
     "execution_count": 10,
     "metadata": {},
     "output_type": "execute_result"
    }
   ],
   "source": [
    "correlation = data.corr(method='pearson', numeric_only=True)\n",
    "correlation"
   ]
  },
  {
   "cell_type": "code",
   "execution_count": null,
   "id": "0579de7c-1595-42ff-935f-35139657af54",
   "metadata": {},
   "outputs": [],
   "source": []
  }
 ],
 "metadata": {
  "kernelspec": {
   "display_name": "Python 3 (ipykernel)",
   "language": "python",
   "name": "python3"
  },
  "language_info": {
   "codemirror_mode": {
    "name": "ipython",
    "version": 3
   },
   "file_extension": ".py",
   "mimetype": "text/x-python",
   "name": "python",
   "nbconvert_exporter": "python",
   "pygments_lexer": "ipython3",
   "version": "3.11.9"
  }
 },
 "nbformat": 4,
 "nbformat_minor": 5
}
